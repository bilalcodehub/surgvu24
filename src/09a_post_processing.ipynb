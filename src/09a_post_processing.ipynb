{
 "cells": [
  {
   "cell_type": "code",
   "execution_count": 1,
   "id": "a77b596b-70bd-4f0d-8fab-0c9f659e1bcc",
   "metadata": {
    "tags": []
   },
   "outputs": [
    {
     "name": "stdout",
     "output_type": "stream",
     "text": [
      "Found 3 models for ensemble.\n"
     ]
    }
   ],
   "source": [
    "# --------------------- IMPORT NECESSARY LIBRARIES ---------------------\n",
    "from fastai.vision.all import *\n",
    "from matplotlib.colors import ListedColormap, BoundaryNorm\n",
    "from matplotlib.patches import Patch\n",
    "\n",
    "# --------------------- DEFINE REQUIRED VARIABLES ---------------------\n",
    "\n",
    "# Define your data root path\n",
    "dataroot_path = Path('/home/exsdatalab/data/surgvu24')\n",
    "\n",
    "# Load the images DataFrame\n",
    "images_df = pd.read_csv(dataroot_path / 'final_labels.csv')\n",
    "\n",
    "# Get all model paths with '.pkl' extension in 'models/baseline/' directory\n",
    "models_path = [pth for pth in Path('models/baseline/').ls() if pth.suffix == '.pkl']\n",
    "\n",
    "# Check if models are found\n",
    "if not models_path:\n",
    "    raise ValueError(\"No models found in 'models/baseline/' directory with '.pkl' extension.\")\n",
    "\n",
    "print(f\"Found {len(models_path)} models for ensemble.\")\n",
    "\n",
    "# --------------------- DEFINE REQUIRED FUNCTIONS ---------------------\n",
    "\n",
    "def get_image(r): \n",
    "    \"\"\"\n",
    "    Constructs the full image path for a given row in the DataFrame.\n",
    "    \n",
    "    Args:\n",
    "        r (pd.Series): A row from the DataFrame.\n",
    "    \n",
    "    Returns:\n",
    "        str: Full path to the image file.\n",
    "    \"\"\"\n",
    "    return str(dataroot_path / 'frames' / f\"{r['filename']}.jpg\")\n",
    "\n",
    "def get_label(r): \n",
    "    \"\"\"\n",
    "    Retrieves the task label from a given row in the DataFrame.\n",
    "    \n",
    "    Args:\n",
    "        r (pd.Series): A row from the DataFrame.\n",
    "    \n",
    "    Returns:\n",
    "        str: The task label.\n",
    "    \"\"\"\n",
    "    return r['task_label']\n",
    "\n",
    "def extract_video_part(filename: str) -> int:\n",
    "    \"\"\"\n",
    "    Extracts the video part number from the filename.\n",
    "\n",
    "    Example:\n",
    "        'case_000_video_part_001_t8.333333_f000002' -> 1\n",
    "\n",
    "    Args:\n",
    "        filename (str): The filename string.\n",
    "\n",
    "    Returns:\n",
    "        int: Extracted video part number.\n",
    "    \"\"\"\n",
    "    match = re.search(r'video_part_(\\d+)', filename)\n",
    "    if match:\n",
    "        return int(match.group(1))\n",
    "    else:\n",
    "        raise ValueError(f\"Cannot extract video_part from filename: {filename}\")\n",
    "\n",
    "def extract_timestamp(filename: str) -> float:\n",
    "    \"\"\"\n",
    "    Extracts the timestamp from the filename.\n",
    "\n",
    "    Example:\n",
    "        'case_000_video_part_001_t8.333333_f000002' -> 8.333333\n",
    "\n",
    "    Args:\n",
    "        filename (str): The filename string.\n",
    "\n",
    "    Returns:\n",
    "        float: Extracted timestamp.\n",
    "    \"\"\"\n",
    "    match = re.search(r'_t(\\d+\\.\\d+)_f', filename)\n",
    "    if match:\n",
    "        return float(match.group(1))\n",
    "    else:\n",
    "        raise ValueError(f\"Cannot extract timestamp from filename: {filename}\")\n",
    "\n",
    "def get_sorted_surgery_frames(df: pd.DataFrame, case_folder_name: str) -> pd.DataFrame:\n",
    "    \"\"\"\n",
    "    Filters and sorts the DataFrame to get all frames from the specified surgery (case_folder),\n",
    "    sorted first by video_part and then by timestamp.\n",
    "\n",
    "    Args:\n",
    "        df (pd.DataFrame): The DataFrame containing all frames.\n",
    "        case_folder_name (str): The name of the surgery (case_folder) to filter.\n",
    "\n",
    "    Returns:\n",
    "        pd.DataFrame: The filtered and sorted DataFrame.\n",
    "    \"\"\"\n",
    "    # Filter frames for the specified case_folder\n",
    "    surgery_df = df[df['case_folder'] == case_folder_name].copy()\n",
    "\n",
    "    # Extract 'video_part' and 'timestamp' from 'filename'\n",
    "    surgery_df['video_part'] = surgery_df['filename'].apply(extract_video_part)\n",
    "    surgery_df['parsed_timestamp'] = surgery_df['filename'].apply(extract_timestamp)\n",
    "\n",
    "    # Sort by 'video_part' and then by 'parsed_timestamp'\n",
    "    surgery_df.sort_values(by=['video_part', 'parsed_timestamp'], inplace=True)\n",
    "\n",
    "    # Reset index\n",
    "    surgery_df.reset_index(drop=True, inplace=True)\n",
    "\n",
    "    return surgery_df\n",
    "\n",
    "def smooth_predictions_with_neighbors(predicted_classes: List[str], window_size: int = 1) -> List[str]:\n",
    "    \"\"\"\n",
    "    Smooths the predicted class labels by exploring the neighboring frames.\n",
    "\n",
    "    Args:\n",
    "        predicted_classes (List[str]): The list of predicted class labels per frame.\n",
    "        window_size (int): Number of neighboring frames to consider on each side for smoothing.\n",
    "\n",
    "    Returns:\n",
    "        List[str]: The smoothed list of predicted class labels.\n",
    "    \"\"\"\n",
    "    if not predicted_classes:\n",
    "        return []\n",
    "\n",
    "    num_frames = len(predicted_classes)\n",
    "    smoothed_predictions = []\n",
    "\n",
    "    for i in range(num_frames):\n",
    "        # Define the window boundaries\n",
    "        start_idx = max(0, i - window_size)\n",
    "        end_idx = min(num_frames - 1, i + window_size)\n",
    "\n",
    "        # Extract the neighborhood labels\n",
    "        neighborhood = predicted_classes[start_idx:end_idx + 1]\n",
    "\n",
    "        # Count the frequency of each label in the neighborhood\n",
    "        label_counts = {}\n",
    "        for label in neighborhood:\n",
    "            label_counts[label] = label_counts.get(label, 0) + 1\n",
    "\n",
    "        # Identify the most common label(s)\n",
    "        max_count = max(label_counts.values())\n",
    "        common_labels = [label for label, count in label_counts.items() if count == max_count]\n",
    "\n",
    "        # Resolve ties by retaining the current frame's label\n",
    "        if len(common_labels) == 1:\n",
    "            most_common_label = common_labels[0]\n",
    "        else:\n",
    "            most_common_label = predicted_classes[i]\n",
    "\n",
    "        smoothed_predictions.append(most_common_label)\n",
    "\n",
    "    return smoothed_predictions\n",
    "\n",
    "def ensemble_predict(models_path: List[Path], image_files: List[Path], cpu: bool = False) -> Tuple[torch.Tensor, List[str]]:\n",
    "    \"\"\"\n",
    "    Perform ensemble predictions using multiple models from models_path.\n",
    "\n",
    "    Args:\n",
    "        models_path (List[Path]): Paths to the models.\n",
    "        image_files (List[Path]): List of full image file paths for prediction.\n",
    "        cpu (bool): Whether to run on CPU or not.\n",
    "\n",
    "    Returns:\n",
    "        Tuple[torch.Tensor, List[str]]: Averaged raw predictions and the vocabulary.\n",
    "    \"\"\"\n",
    "    all_raw_preds = []\n",
    "    vocab = None  # To store vocabulary from the first model\n",
    "\n",
    "    for idx, model_path in enumerate(models_path):\n",
    "        # Load the model\n",
    "        try:\n",
    "            learner = load_learner(model_path, cpu=cpu)\n",
    "        except Exception as e:\n",
    "            print(f\"Error loading model at {model_path}: {e}\")\n",
    "            continue\n",
    "        print(f'Loaded model {idx+1}/{len(models_path)} from {model_path}.')\n",
    "\n",
    "        # Create test_dl using the loaded learner's DataLoaders with bs=128 and num_workers=8\n",
    "        test_dl = learner.dls.test_dl(image_files, bs=128, num_workers=8)\n",
    "\n",
    "        # Get predictions from the model\n",
    "        try:\n",
    "            with torch.no_grad():\n",
    "                raw_preds, _ = learner.get_preds(dl=test_dl)\n",
    "            all_raw_preds.append(raw_preds.cpu())\n",
    "        except Exception as e:\n",
    "            print(f\"Error during prediction with model at {model_path}: {e}\")\n",
    "            continue\n",
    "\n",
    "        # Store vocab from the first model\n",
    "        if vocab is None:\n",
    "            vocab = learner.dls.vocab\n",
    "\n",
    "        # Free up memory\n",
    "        del learner\n",
    "        torch.cuda.empty_cache()\n",
    "\n",
    "    if not all_raw_preds:\n",
    "        raise ValueError(\"No predictions were made. Please check your models and image paths.\")\n",
    "\n",
    "    # Ensure all models have the same number of classes\n",
    "    num_classes = all_raw_preds[0].shape[1]\n",
    "    for idx, preds in enumerate(all_raw_preds[1:], start=2):\n",
    "        if preds.shape[1] != num_classes:\n",
    "            raise ValueError(f\"Mismatch in number of classes across models. Model {idx} has {preds.shape[1]} classes, expected {num_classes}.\")\n",
    "\n",
    "    # Average the predictions across all models\n",
    "    avg_raw_preds = torch.stack(all_raw_preds).mean(0)\n",
    "\n",
    "    return avg_raw_preds, vocab\n",
    "\n",
    "def decode_predictions(preds: torch.Tensor, vocab: List[str]) -> List[str]:\n",
    "    \"\"\"\n",
    "    Convert raw predictions into class labels.\n",
    "\n",
    "    Args:\n",
    "        preds (torch.Tensor): Raw predictions (logits or probabilities).\n",
    "        vocab (List[str]): List of class labels.\n",
    "\n",
    "    Returns:\n",
    "        List[str]: List of predicted class labels.\n",
    "    \"\"\"\n",
    "    pred_indices = preds.argmax(dim=1)\n",
    "    predicted_classes = [vocab[i] for i in pred_indices]\n",
    "    return predicted_classes\n",
    "\n",
    "def evaluate_window_sizes(true_labels: List[str], pred_labels: List[str], window_sizes: range, vocab: List[str]) -> Tuple[List[float], List[float]]:\n",
    "    \"\"\"\n",
    "    Evaluate the F1 score for different window sizes, comparing before and after smoothing.\n",
    "\n",
    "    Args:\n",
    "        true_labels (List[str]): Ground truth labels.\n",
    "        pred_labels (List[str]): Predicted labels before smoothing.\n",
    "        window_sizes (range): Range of window sizes to test.\n",
    "        vocab (List[str]): List of class labels.\n",
    "\n",
    "    Returns:\n",
    "        Tuple[List[float], List[float]]: F1 scores before and after smoothing.\n",
    "    \"\"\"\n",
    "    f1_before = []\n",
    "    f1_after = []\n",
    "\n",
    "    # Map class labels to indices\n",
    "    label_to_idx = {label: idx for idx, label in enumerate(vocab)}\n",
    "    true_indices = [label_to_idx[label] for label in true_labels]\n",
    "    pred_indices = [label_to_idx[label] for label in pred_labels]\n",
    "\n",
    "    # Convert to tensors\n",
    "    true_tensor = torch.tensor(true_indices)\n",
    "    pred_tensor_before = torch.tensor(pred_indices)\n",
    "\n",
    "    # Instantiate FastAI's F1Score with 'macro' average\n",
    "    f1_metric = F1Score(average='macro')\n",
    "\n",
    "    # Compute F1 score before smoothing\n",
    "    f1_before_score = f1_metric(pred_tensor_before, true_tensor).item()\n",
    "\n",
    "    for ws in window_sizes:\n",
    "        # Apply smoothing with the current window size\n",
    "        smoothed_pred_labels = smooth_predictions_with_neighbors(pred_labels, window_size=ws)\n",
    "        smoothed_pred_indices = [label_to_idx[label] for label in smoothed_pred_labels]\n",
    "        smoothed_pred_tensor = torch.tensor(smoothed_pred_indices)\n",
    "\n",
    "        # Compute F1 score after smoothing\n",
    "        f1_after_score = f1_metric(smoothed_pred_tensor, true_tensor).item()\n",
    "\n",
    "        # Store the scores\n",
    "        f1_before.append(f1_before_score)\n",
    "        f1_after.append(f1_after_score)\n",
    "\n",
    "        print(f'Window Size {ws}: F1 Before = {f1_before_score:.4f}, F1 After = {f1_after_score:.4f}')\n",
    "\n",
    "    return f1_before, f1_after\n",
    "\n",
    "def visualize_surgery_predictions(images_df: pd.DataFrame, models_path: List[Path], dataroot_path: Path, window_size: int = 15):\n",
    "    \"\"\"\n",
    "    Randomly selects a surgery from the validation set and visualizes the predictions from each model,\n",
    "    ensemble, and smoothed predictions, along with the ground truth.\n",
    "\n",
    "    The visualization consists of a heatmap where each row represents:\n",
    "    - Ground Truth\n",
    "    - Each Model's Predictions\n",
    "    - Ensemble Predictions\n",
    "    - Smoothed Predictions\n",
    "\n",
    "    Each column represents a frame, and the color corresponds to the task label.\n",
    "\n",
    "    Args:\n",
    "        images_df (pd.DataFrame): DataFrame containing image information.\n",
    "        models_path (List[Path]): List of paths to the ensemble models (.pkl files).\n",
    "        dataroot_path (Path): Path to the data root directory.\n",
    "        window_size (int): Window size for prediction smoothing.\n",
    "\n",
    "    Returns:\n",
    "        None\n",
    "    \"\"\"\n",
    "    # Get all unique surgeries from the validation set\n",
    "    valid_surgeries = images_df[images_df['valid'] == True]['case_folder'].unique()\n",
    "\n",
    "    if len(valid_surgeries) == 0:\n",
    "        raise ValueError(\"No valid surgeries found in the validation set.\")\n",
    "\n",
    "    # Randomly select one surgery\n",
    "    random_surgery = random.choice(valid_surgeries)\n",
    "    print(f'\\nSelected Surgery for Visualization: {random_surgery}')\n",
    "\n",
    "    # Filter and sort frames\n",
    "    try:\n",
    "        surgery_frames_df = get_sorted_surgery_frames(images_df, random_surgery)\n",
    "    except ValueError as ve:\n",
    "        print(f\"Error during filtering/sorting: {ve}\")\n",
    "        return\n",
    "\n",
    "    num_frames = len(surgery_frames_df)\n",
    "    print(f'Number of frames in {random_surgery}: {num_frames}')\n",
    "\n",
    "    if num_frames == 0:\n",
    "        print(f'No frames found for surgery {random_surgery}.')\n",
    "        return\n",
    "\n",
    "    # Construct full image paths\n",
    "    image_files = [Path(get_image(r)) for _, r in surgery_frames_df.iterrows()]\n",
    "\n",
    "    # Verify image existence\n",
    "    missing_files = [str(img) for img in image_files if not img.exists()]\n",
    "    if missing_files:\n",
    "        print(f'Warning: {len(missing_files)} image files are missing for surgery {random_surgery}.')\n",
    "        # Remove missing files\n",
    "        image_files = [img for img in image_files if img.exists()]\n",
    "        surgery_frames_df = surgery_frames_df[surgery_frames_df['filename'].isin([img.stem for img in image_files])]\n",
    "        print(f'Reduced to {len(image_files)} existing image paths after removing missing files.')\n",
    "\n",
    "    if not image_files:\n",
    "        print(f'All image files missing for surgery {random_surgery}.')\n",
    "        return\n",
    "\n",
    "    # Get ground truth labels\n",
    "    true_labels = surgery_frames_df['task_label'].tolist()\n",
    "\n",
    "    # Define vocab (assuming all models have the same vocab)\n",
    "    # Load the first model to get vocab\n",
    "    first_model_path = models_path[0]\n",
    "    try:\n",
    "        first_learner = load_learner(first_model_path, cpu=False)\n",
    "    except Exception as e:\n",
    "        print(f\"Error loading first model at {first_model_path}: {e}\")\n",
    "        return\n",
    "    vocab = first_learner.dls.vocab\n",
    "    del first_learner\n",
    "    torch.cuda.empty_cache()\n",
    "\n",
    "    # Define color mapping\n",
    "    num_classes = len(vocab)\n",
    "    cmap = plt.get_cmap('tab20')  # Up to 20 distinct colors\n",
    "    if num_classes > 20:\n",
    "        # If more classes, use a different colormap or extend tab20\n",
    "        cmap = plt.get_cmap('hsv')\n",
    "    colors = {label: cmap(i % cmap.N) for i, label in enumerate(vocab)}\n",
    "\n",
    "    # Initialize a dictionary to hold predictions from each model\n",
    "    model_predictions = {f'Model_{i+1}': [] for i in range(len(models_path))}\n",
    "\n",
    "    # Perform predictions for each model\n",
    "    for idx, model_path in enumerate(models_path):\n",
    "        try:\n",
    "            learner = load_learner(model_path, cpu=False)\n",
    "        except Exception as e:\n",
    "            print(f\"Error loading model at {model_path}: {e}\")\n",
    "            # Fill with 'N/A' for missing predictions\n",
    "            model_predictions[f'Model_{idx+1}'] = ['N/A'] * len(image_files)\n",
    "            continue\n",
    "\n",
    "        # Create test_dl with bs=128 and num_workers=8\n",
    "        test_dl = learner.dls.test_dl(image_files, bs=128, num_workers=8)\n",
    "\n",
    "        try:\n",
    "            with torch.no_grad():\n",
    "                raw_preds, _ = learner.get_preds(dl=test_dl)\n",
    "            preds = decode_predictions(raw_preds.cpu(), vocab)\n",
    "        except Exception as e:\n",
    "            print(f\"Error during prediction with model at {model_path}: {e}\")\n",
    "            preds = ['N/A'] * len(image_files)\n",
    "\n",
    "        model_predictions[f'Model_{idx+1}'] = preds\n",
    "\n",
    "        # Clean up\n",
    "        del learner\n",
    "        torch.cuda.empty_cache()\n",
    "\n",
    "    # Perform ensemble prediction\n",
    "    try:\n",
    "        ensemble_preds, _ = ensemble_predict(models_path, image_files, cpu=False)\n",
    "        ensemble_pred_labels = decode_predictions(ensemble_preds, vocab)\n",
    "    except Exception as e:\n",
    "        print(f\"Error during ensemble prediction: {e}\")\n",
    "        ensemble_pred_labels = ['N/A'] * len(image_files)\n",
    "\n",
    "    # Apply smoothing\n",
    "    smoothed_pred_labels = smooth_predictions_with_neighbors(ensemble_pred_labels, window_size=window_size)\n",
    "\n",
    "    # Prepare data for plotting\n",
    "    # Rows: Ground Truth, Model1, Model2, ..., Ensemble, Smoothed\n",
    "    # Labels: 'GT', model path names, 'Ensemble', 'Post Proc'\n",
    "    rows = ['GT'] + [model_path.name for model_path in models_path] + ['Ensemble', 'Post Proc']\n",
    "    data_rows = []\n",
    "\n",
    "    # Ground Truth\n",
    "    data_rows.append(true_labels)\n",
    "\n",
    "    # Models\n",
    "    for model_name in model_predictions:\n",
    "        data_rows.append(model_predictions[model_name])\n",
    "\n",
    "    # Ensemble\n",
    "    data_rows.append(ensemble_pred_labels)\n",
    "\n",
    "    # Smoothed\n",
    "    data_rows.append(smoothed_pred_labels)\n",
    "\n",
    "    # Convert labels to integers for plotting\n",
    "    label_to_int = {label: idx for idx, label in enumerate(vocab)}\n",
    "    data_matrix = []\n",
    "    for row in data_rows:\n",
    "        row_int = []\n",
    "        for label in row:\n",
    "            if label == 'N/A':\n",
    "                # Assign a unique integer for missing predictions, e.g., -1\n",
    "                row_int.append(-1)\n",
    "            else:\n",
    "                row_int.append(label_to_int.get(label, -1))\n",
    "        data_matrix.append(row_int)\n",
    "\n",
    "    data_matrix = np.array(data_matrix)\n",
    "\n",
    "    # Define a new colormap that includes a color for missing predictions\n",
    "    cmap_colors = [colors[label] for label in vocab]\n",
    "    if -1 in data_matrix:\n",
    "        cmap_colors.append('grey')  # Color for missing predictions\n",
    "    cmap_with_missing = ListedColormap(cmap_colors)\n",
    "\n",
    "    # Define bounds and norm\n",
    "    bounds = list(range(len(vocab) + 1))  # +1 for missing\n",
    "    norm = BoundaryNorm(bounds, cmap_with_missing.N)\n",
    "\n",
    "    # Create the plot\n",
    "    plt.figure(figsize=(20, len(rows)))  # Adjust height based on number of rows\n",
    "\n",
    "    im = plt.imshow(data_matrix, aspect='auto', cmap=cmap_with_missing, norm=norm)\n",
    "\n",
    "    # Set y-ticks\n",
    "    plt.yticks(ticks=np.arange(len(rows)), labels=rows)\n",
    "\n",
    "    # Set x-ticks (optional, can set to show every N frames if too many)\n",
    "    if num_frames <= 50:\n",
    "        plt.xticks(ticks=np.arange(num_frames), labels=np.arange(1, num_frames + 1), rotation=90)\n",
    "    else:\n",
    "        # Show ticks at intervals\n",
    "        step = max(1, num_frames // 50)\n",
    "        plt.xticks(ticks=np.arange(0, num_frames, step), labels=np.arange(1, num_frames + 1, step), rotation=90)\n",
    "\n",
    "    # Create custom legend\n",
    "    legend_elements = [Patch(facecolor=colors[label], edgecolor='k', label=label) for label in vocab]\n",
    "    if -1 in data_matrix:\n",
    "        legend_elements.append(Patch(facecolor='grey', edgecolor='k', label='N/A'))\n",
    "    plt.legend(handles=legend_elements, bbox_to_anchor=(1.05, 1), loc='upper left', borderaxespad=0.)\n",
    "\n",
    "    plt.xlabel('Frame Number')\n",
    "    plt.title(f'Prediction Visualization for {random_surgery}')\n",
    "    plt.tight_layout()\n",
    "    plt.show()"
   ]
  },
  {
   "cell_type": "code",
   "execution_count": null,
   "id": "a795a646-a155-4a6e-802a-ce66efa6c20c",
   "metadata": {
    "tags": []
   },
   "outputs": [
    {
     "name": "stdout",
     "output_type": "stream",
     "text": [
      "\n",
      "Found 34 unique surgeries in the validation set.\n",
      "\n",
      "Processing Surgery: case_002\n",
      "Number of frames in case_002: 2437\n",
      "Constructed 2437 image paths.\n",
      "Starting ensemble predictions...\n",
      "Loaded model 1/3 from models/baseline/regnety_008.pkl.\n"
     ]
    },
    {
     "data": {
      "text/html": [
       "\n",
       "<style>\n",
       "    /* Turns off some styling */\n",
       "    progress {\n",
       "        /* gets rid of default border in Firefox and Opera. */\n",
       "        border: none;\n",
       "        /* Needs to be in here for Safari polyfill so background images work as expected. */\n",
       "        background-size: auto;\n",
       "    }\n",
       "    progress:not([value]), progress:not([value])::-webkit-progress-bar {\n",
       "        background: repeating-linear-gradient(45deg, #7e7e7e, #7e7e7e 10px, #5c5c5c 10px, #5c5c5c 20px);\n",
       "    }\n",
       "    .progress-bar-interrupted, .progress-bar-interrupted::-webkit-progress-bar {\n",
       "        background: #F44336;\n",
       "    }\n",
       "</style>\n"
      ],
      "text/plain": [
       "<IPython.core.display.HTML object>"
      ]
     },
     "metadata": {},
     "output_type": "display_data"
    },
    {
     "data": {
      "text/html": [],
      "text/plain": [
       "<IPython.core.display.HTML object>"
      ]
     },
     "metadata": {},
     "output_type": "display_data"
    },
    {
     "name": "stdout",
     "output_type": "stream",
     "text": [
      "Loaded model 2/3 from models/baseline/convnextv2_tiny.pkl.\n"
     ]
    },
    {
     "data": {
      "text/html": [
       "\n",
       "<style>\n",
       "    /* Turns off some styling */\n",
       "    progress {\n",
       "        /* gets rid of default border in Firefox and Opera. */\n",
       "        border: none;\n",
       "        /* Needs to be in here for Safari polyfill so background images work as expected. */\n",
       "        background-size: auto;\n",
       "    }\n",
       "    progress:not([value]), progress:not([value])::-webkit-progress-bar {\n",
       "        background: repeating-linear-gradient(45deg, #7e7e7e, #7e7e7e 10px, #5c5c5c 10px, #5c5c5c 20px);\n",
       "    }\n",
       "    .progress-bar-interrupted, .progress-bar-interrupted::-webkit-progress-bar {\n",
       "        background: #F44336;\n",
       "    }\n",
       "</style>\n"
      ],
      "text/plain": [
       "<IPython.core.display.HTML object>"
      ]
     },
     "metadata": {},
     "output_type": "display_data"
    },
    {
     "data": {
      "text/html": [],
      "text/plain": [
       "<IPython.core.display.HTML object>"
      ]
     },
     "metadata": {},
     "output_type": "display_data"
    },
    {
     "name": "stdout",
     "output_type": "stream",
     "text": [
      "Loaded model 3/3 from models/baseline/vit_tiny.pkl.\n"
     ]
    },
    {
     "data": {
      "text/html": [
       "\n",
       "<style>\n",
       "    /* Turns off some styling */\n",
       "    progress {\n",
       "        /* gets rid of default border in Firefox and Opera. */\n",
       "        border: none;\n",
       "        /* Needs to be in here for Safari polyfill so background images work as expected. */\n",
       "        background-size: auto;\n",
       "    }\n",
       "    progress:not([value]), progress:not([value])::-webkit-progress-bar {\n",
       "        background: repeating-linear-gradient(45deg, #7e7e7e, #7e7e7e 10px, #5c5c5c 10px, #5c5c5c 20px);\n",
       "    }\n",
       "    .progress-bar-interrupted, .progress-bar-interrupted::-webkit-progress-bar {\n",
       "        background: #F44336;\n",
       "    }\n",
       "</style>\n"
      ],
      "text/plain": [
       "<IPython.core.display.HTML object>"
      ]
     },
     "metadata": {},
     "output_type": "display_data"
    },
    {
     "data": {
      "text/html": [],
      "text/plain": [
       "<IPython.core.display.HTML object>"
      ]
     },
     "metadata": {},
     "output_type": "display_data"
    },
    {
     "name": "stdout",
     "output_type": "stream",
     "text": [
      "Ensemble predictions completed.\n",
      "Decoding predictions completed.\n",
      "Retrieved ground truth labels.\n",
      "\n",
      "Evaluating window sizes for smoothing...\n",
      "\n",
      "Window Size 1: F1 Before = 0.5865, F1 After = 0.5826\n",
      "Window Size 2: F1 Before = 0.5865, F1 After = 0.5775\n",
      "Window Size 3: F1 Before = 0.5865, F1 After = 0.5795\n",
      "Window Size 4: F1 Before = 0.5865, F1 After = 0.5818\n",
      "Window Size 5: F1 Before = 0.5865, F1 After = 0.5818\n",
      "Window Size 6: F1 Before = 0.5865, F1 After = 0.5838\n",
      "Window Size 7: F1 Before = 0.5865, F1 After = 0.5843\n",
      "Window Size 8: F1 Before = 0.5865, F1 After = 0.5862\n",
      "Window Size 9: F1 Before = 0.5865, F1 After = 0.5871\n",
      "Window Size 10: F1 Before = 0.5865, F1 After = 0.5861\n",
      "Window Size 11: F1 Before = 0.5865, F1 After = 0.5874\n",
      "Window Size 12: F1 Before = 0.5865, F1 After = 0.5873\n",
      "Window Size 13: F1 Before = 0.5865, F1 After = 0.5862\n",
      "Window Size 14: F1 Before = 0.5865, F1 After = 0.5849\n",
      "Window Size 15: F1 Before = 0.5865, F1 After = 0.5832\n",
      "Window Size 16: F1 Before = 0.5865, F1 After = 0.5817\n",
      "Window Size 17: F1 Before = 0.5865, F1 After = 0.5808\n",
      "Window Size 18: F1 Before = 0.5865, F1 After = 0.5798\n",
      "Window Size 19: F1 Before = 0.5865, F1 After = 0.5791\n",
      "Window Size 20: F1 Before = 0.5865, F1 After = 0.5702\n",
      "\n",
      "Optimal window size for case_002: 11 with F1 score: 0.5874\n",
      "\n",
      "Processing Surgery: case_011\n",
      "Number of frames in case_011: 1395\n",
      "Constructed 1395 image paths.\n",
      "Starting ensemble predictions...\n",
      "Loaded model 1/3 from models/baseline/regnety_008.pkl.\n"
     ]
    },
    {
     "data": {
      "text/html": [
       "\n",
       "<style>\n",
       "    /* Turns off some styling */\n",
       "    progress {\n",
       "        /* gets rid of default border in Firefox and Opera. */\n",
       "        border: none;\n",
       "        /* Needs to be in here for Safari polyfill so background images work as expected. */\n",
       "        background-size: auto;\n",
       "    }\n",
       "    progress:not([value]), progress:not([value])::-webkit-progress-bar {\n",
       "        background: repeating-linear-gradient(45deg, #7e7e7e, #7e7e7e 10px, #5c5c5c 10px, #5c5c5c 20px);\n",
       "    }\n",
       "    .progress-bar-interrupted, .progress-bar-interrupted::-webkit-progress-bar {\n",
       "        background: #F44336;\n",
       "    }\n",
       "</style>\n"
      ],
      "text/plain": [
       "<IPython.core.display.HTML object>"
      ]
     },
     "metadata": {},
     "output_type": "display_data"
    },
    {
     "data": {
      "text/html": [],
      "text/plain": [
       "<IPython.core.display.HTML object>"
      ]
     },
     "metadata": {},
     "output_type": "display_data"
    },
    {
     "name": "stdout",
     "output_type": "stream",
     "text": [
      "Loaded model 2/3 from models/baseline/convnextv2_tiny.pkl.\n"
     ]
    },
    {
     "data": {
      "text/html": [
       "\n",
       "<style>\n",
       "    /* Turns off some styling */\n",
       "    progress {\n",
       "        /* gets rid of default border in Firefox and Opera. */\n",
       "        border: none;\n",
       "        /* Needs to be in here for Safari polyfill so background images work as expected. */\n",
       "        background-size: auto;\n",
       "    }\n",
       "    progress:not([value]), progress:not([value])::-webkit-progress-bar {\n",
       "        background: repeating-linear-gradient(45deg, #7e7e7e, #7e7e7e 10px, #5c5c5c 10px, #5c5c5c 20px);\n",
       "    }\n",
       "    .progress-bar-interrupted, .progress-bar-interrupted::-webkit-progress-bar {\n",
       "        background: #F44336;\n",
       "    }\n",
       "</style>\n"
      ],
      "text/plain": [
       "<IPython.core.display.HTML object>"
      ]
     },
     "metadata": {},
     "output_type": "display_data"
    },
    {
     "data": {
      "text/html": [],
      "text/plain": [
       "<IPython.core.display.HTML object>"
      ]
     },
     "metadata": {},
     "output_type": "display_data"
    },
    {
     "name": "stdout",
     "output_type": "stream",
     "text": [
      "Loaded model 3/3 from models/baseline/vit_tiny.pkl.\n"
     ]
    },
    {
     "data": {
      "text/html": [
       "\n",
       "<style>\n",
       "    /* Turns off some styling */\n",
       "    progress {\n",
       "        /* gets rid of default border in Firefox and Opera. */\n",
       "        border: none;\n",
       "        /* Needs to be in here for Safari polyfill so background images work as expected. */\n",
       "        background-size: auto;\n",
       "    }\n",
       "    progress:not([value]), progress:not([value])::-webkit-progress-bar {\n",
       "        background: repeating-linear-gradient(45deg, #7e7e7e, #7e7e7e 10px, #5c5c5c 10px, #5c5c5c 20px);\n",
       "    }\n",
       "    .progress-bar-interrupted, .progress-bar-interrupted::-webkit-progress-bar {\n",
       "        background: #F44336;\n",
       "    }\n",
       "</style>\n"
      ],
      "text/plain": [
       "<IPython.core.display.HTML object>"
      ]
     },
     "metadata": {},
     "output_type": "display_data"
    },
    {
     "data": {
      "text/html": [],
      "text/plain": [
       "<IPython.core.display.HTML object>"
      ]
     },
     "metadata": {},
     "output_type": "display_data"
    },
    {
     "name": "stdout",
     "output_type": "stream",
     "text": [
      "Ensemble predictions completed.\n",
      "Decoding predictions completed.\n",
      "Retrieved ground truth labels.\n",
      "\n",
      "Evaluating window sizes for smoothing...\n",
      "\n",
      "Window Size 1: F1 Before = 0.2186, F1 After = 0.2152\n",
      "Window Size 2: F1 Before = 0.2186, F1 After = 0.2447\n",
      "Window Size 3: F1 Before = 0.2186, F1 After = 0.2426\n",
      "Window Size 4: F1 Before = 0.2186, F1 After = 0.2830\n",
      "Window Size 5: F1 Before = 0.2186, F1 After = 0.2831\n",
      "Window Size 6: F1 Before = 0.2186, F1 After = 0.2827\n",
      "Window Size 7: F1 Before = 0.2186, F1 After = 0.2828\n",
      "Window Size 8: F1 Before = 0.2186, F1 After = 0.2825\n",
      "Window Size 9: F1 Before = 0.2186, F1 After = 0.2835\n",
      "Window Size 10: F1 Before = 0.2186, F1 After = 0.2833\n",
      "Window Size 11: F1 Before = 0.2186, F1 After = 0.2835\n",
      "Window Size 12: F1 Before = 0.2186, F1 After = 0.2835\n",
      "Window Size 13: F1 Before = 0.2186, F1 After = 0.2860\n",
      "Window Size 14: F1 Before = 0.2186, F1 After = 0.2860\n",
      "Window Size 15: F1 Before = 0.2186, F1 After = 0.2862\n",
      "Window Size 16: F1 Before = 0.2186, F1 After = 0.2858\n",
      "Window Size 17: F1 Before = 0.2186, F1 After = 0.2858\n",
      "Window Size 18: F1 Before = 0.2186, F1 After = 0.2857\n",
      "Window Size 19: F1 Before = 0.2186, F1 After = 0.2854\n",
      "Window Size 20: F1 Before = 0.2186, F1 After = 0.2852\n",
      "\n",
      "Optimal window size for case_011: 15 with F1 score: 0.2862\n",
      "\n",
      "Processing Surgery: case_015\n",
      "Number of frames in case_015: 669\n",
      "Constructed 669 image paths.\n",
      "Starting ensemble predictions...\n",
      "Loaded model 1/3 from models/baseline/regnety_008.pkl.\n"
     ]
    },
    {
     "data": {
      "text/html": [
       "\n",
       "<style>\n",
       "    /* Turns off some styling */\n",
       "    progress {\n",
       "        /* gets rid of default border in Firefox and Opera. */\n",
       "        border: none;\n",
       "        /* Needs to be in here for Safari polyfill so background images work as expected. */\n",
       "        background-size: auto;\n",
       "    }\n",
       "    progress:not([value]), progress:not([value])::-webkit-progress-bar {\n",
       "        background: repeating-linear-gradient(45deg, #7e7e7e, #7e7e7e 10px, #5c5c5c 10px, #5c5c5c 20px);\n",
       "    }\n",
       "    .progress-bar-interrupted, .progress-bar-interrupted::-webkit-progress-bar {\n",
       "        background: #F44336;\n",
       "    }\n",
       "</style>\n"
      ],
      "text/plain": [
       "<IPython.core.display.HTML object>"
      ]
     },
     "metadata": {},
     "output_type": "display_data"
    },
    {
     "data": {
      "text/html": [],
      "text/plain": [
       "<IPython.core.display.HTML object>"
      ]
     },
     "metadata": {},
     "output_type": "display_data"
    },
    {
     "name": "stdout",
     "output_type": "stream",
     "text": [
      "Loaded model 2/3 from models/baseline/convnextv2_tiny.pkl.\n"
     ]
    },
    {
     "data": {
      "text/html": [
       "\n",
       "<style>\n",
       "    /* Turns off some styling */\n",
       "    progress {\n",
       "        /* gets rid of default border in Firefox and Opera. */\n",
       "        border: none;\n",
       "        /* Needs to be in here for Safari polyfill so background images work as expected. */\n",
       "        background-size: auto;\n",
       "    }\n",
       "    progress:not([value]), progress:not([value])::-webkit-progress-bar {\n",
       "        background: repeating-linear-gradient(45deg, #7e7e7e, #7e7e7e 10px, #5c5c5c 10px, #5c5c5c 20px);\n",
       "    }\n",
       "    .progress-bar-interrupted, .progress-bar-interrupted::-webkit-progress-bar {\n",
       "        background: #F44336;\n",
       "    }\n",
       "</style>\n"
      ],
      "text/plain": [
       "<IPython.core.display.HTML object>"
      ]
     },
     "metadata": {},
     "output_type": "display_data"
    },
    {
     "data": {
      "text/html": [],
      "text/plain": [
       "<IPython.core.display.HTML object>"
      ]
     },
     "metadata": {},
     "output_type": "display_data"
    },
    {
     "name": "stdout",
     "output_type": "stream",
     "text": [
      "Loaded model 3/3 from models/baseline/vit_tiny.pkl.\n"
     ]
    },
    {
     "data": {
      "text/html": [
       "\n",
       "<style>\n",
       "    /* Turns off some styling */\n",
       "    progress {\n",
       "        /* gets rid of default border in Firefox and Opera. */\n",
       "        border: none;\n",
       "        /* Needs to be in here for Safari polyfill so background images work as expected. */\n",
       "        background-size: auto;\n",
       "    }\n",
       "    progress:not([value]), progress:not([value])::-webkit-progress-bar {\n",
       "        background: repeating-linear-gradient(45deg, #7e7e7e, #7e7e7e 10px, #5c5c5c 10px, #5c5c5c 20px);\n",
       "    }\n",
       "    .progress-bar-interrupted, .progress-bar-interrupted::-webkit-progress-bar {\n",
       "        background: #F44336;\n",
       "    }\n",
       "</style>\n"
      ],
      "text/plain": [
       "<IPython.core.display.HTML object>"
      ]
     },
     "metadata": {},
     "output_type": "display_data"
    },
    {
     "data": {
      "text/html": [],
      "text/plain": [
       "<IPython.core.display.HTML object>"
      ]
     },
     "metadata": {},
     "output_type": "display_data"
    },
    {
     "name": "stdout",
     "output_type": "stream",
     "text": [
      "Ensemble predictions completed.\n",
      "Decoding predictions completed.\n",
      "Retrieved ground truth labels.\n",
      "\n",
      "Evaluating window sizes for smoothing...\n",
      "\n",
      "Window Size 1: F1 Before = 0.7686, F1 After = 0.7861\n",
      "Window Size 2: F1 Before = 0.7686, F1 After = 0.8003\n",
      "Window Size 3: F1 Before = 0.7686, F1 After = 0.8041\n",
      "Window Size 4: F1 Before = 0.7686, F1 After = 0.8024\n",
      "Window Size 5: F1 Before = 0.7686, F1 After = 0.8037\n",
      "Window Size 6: F1 Before = 0.7686, F1 After = 0.7962\n",
      "Window Size 7: F1 Before = 0.7686, F1 After = 0.7886\n",
      "Window Size 8: F1 Before = 0.7686, F1 After = 0.7894\n",
      "Window Size 9: F1 Before = 0.7686, F1 After = 0.7878\n",
      "Window Size 10: F1 Before = 0.7686, F1 After = 0.7873\n",
      "Window Size 11: F1 Before = 0.7686, F1 After = 0.7896\n",
      "Window Size 12: F1 Before = 0.7686, F1 After = 0.7918\n",
      "Window Size 13: F1 Before = 0.7686, F1 After = 0.7942\n",
      "Window Size 14: F1 Before = 0.7686, F1 After = 0.7980\n",
      "Window Size 15: F1 Before = 0.7686, F1 After = 0.7952\n",
      "Window Size 16: F1 Before = 0.7686, F1 After = 0.7953\n",
      "Window Size 17: F1 Before = 0.7686, F1 After = 0.7924\n",
      "Window Size 18: F1 Before = 0.7686, F1 After = 0.7943\n",
      "Window Size 19: F1 Before = 0.7686, F1 After = 0.7914\n",
      "Window Size 20: F1 Before = 0.7686, F1 After = 0.7886\n",
      "\n",
      "Optimal window size for case_015: 3 with F1 score: 0.8041\n",
      "\n",
      "Processing Surgery: case_023\n",
      "Number of frames in case_023: 1047\n",
      "Constructed 1047 image paths.\n",
      "Starting ensemble predictions...\n",
      "Loaded model 1/3 from models/baseline/regnety_008.pkl.\n"
     ]
    },
    {
     "data": {
      "text/html": [
       "\n",
       "<style>\n",
       "    /* Turns off some styling */\n",
       "    progress {\n",
       "        /* gets rid of default border in Firefox and Opera. */\n",
       "        border: none;\n",
       "        /* Needs to be in here for Safari polyfill so background images work as expected. */\n",
       "        background-size: auto;\n",
       "    }\n",
       "    progress:not([value]), progress:not([value])::-webkit-progress-bar {\n",
       "        background: repeating-linear-gradient(45deg, #7e7e7e, #7e7e7e 10px, #5c5c5c 10px, #5c5c5c 20px);\n",
       "    }\n",
       "    .progress-bar-interrupted, .progress-bar-interrupted::-webkit-progress-bar {\n",
       "        background: #F44336;\n",
       "    }\n",
       "</style>\n"
      ],
      "text/plain": [
       "<IPython.core.display.HTML object>"
      ]
     },
     "metadata": {},
     "output_type": "display_data"
    },
    {
     "data": {
      "text/html": [],
      "text/plain": [
       "<IPython.core.display.HTML object>"
      ]
     },
     "metadata": {},
     "output_type": "display_data"
    },
    {
     "name": "stdout",
     "output_type": "stream",
     "text": [
      "Loaded model 2/3 from models/baseline/convnextv2_tiny.pkl.\n"
     ]
    },
    {
     "data": {
      "text/html": [
       "\n",
       "<style>\n",
       "    /* Turns off some styling */\n",
       "    progress {\n",
       "        /* gets rid of default border in Firefox and Opera. */\n",
       "        border: none;\n",
       "        /* Needs to be in here for Safari polyfill so background images work as expected. */\n",
       "        background-size: auto;\n",
       "    }\n",
       "    progress:not([value]), progress:not([value])::-webkit-progress-bar {\n",
       "        background: repeating-linear-gradient(45deg, #7e7e7e, #7e7e7e 10px, #5c5c5c 10px, #5c5c5c 20px);\n",
       "    }\n",
       "    .progress-bar-interrupted, .progress-bar-interrupted::-webkit-progress-bar {\n",
       "        background: #F44336;\n",
       "    }\n",
       "</style>\n"
      ],
      "text/plain": [
       "<IPython.core.display.HTML object>"
      ]
     },
     "metadata": {},
     "output_type": "display_data"
    },
    {
     "data": {
      "text/html": [],
      "text/plain": [
       "<IPython.core.display.HTML object>"
      ]
     },
     "metadata": {},
     "output_type": "display_data"
    },
    {
     "name": "stdout",
     "output_type": "stream",
     "text": [
      "Loaded model 3/3 from models/baseline/vit_tiny.pkl.\n"
     ]
    },
    {
     "data": {
      "text/html": [
       "\n",
       "<style>\n",
       "    /* Turns off some styling */\n",
       "    progress {\n",
       "        /* gets rid of default border in Firefox and Opera. */\n",
       "        border: none;\n",
       "        /* Needs to be in here for Safari polyfill so background images work as expected. */\n",
       "        background-size: auto;\n",
       "    }\n",
       "    progress:not([value]), progress:not([value])::-webkit-progress-bar {\n",
       "        background: repeating-linear-gradient(45deg, #7e7e7e, #7e7e7e 10px, #5c5c5c 10px, #5c5c5c 20px);\n",
       "    }\n",
       "    .progress-bar-interrupted, .progress-bar-interrupted::-webkit-progress-bar {\n",
       "        background: #F44336;\n",
       "    }\n",
       "</style>\n"
      ],
      "text/plain": [
       "<IPython.core.display.HTML object>"
      ]
     },
     "metadata": {},
     "output_type": "display_data"
    },
    {
     "data": {
      "text/html": [],
      "text/plain": [
       "<IPython.core.display.HTML object>"
      ]
     },
     "metadata": {},
     "output_type": "display_data"
    },
    {
     "name": "stdout",
     "output_type": "stream",
     "text": [
      "Ensemble predictions completed.\n",
      "Decoding predictions completed.\n",
      "Retrieved ground truth labels.\n",
      "\n",
      "Evaluating window sizes for smoothing...\n",
      "\n",
      "Window Size 1: F1 Before = 0.6899, F1 After = 0.6885\n",
      "Window Size 2: F1 Before = 0.6899, F1 After = 0.6913\n",
      "Window Size 3: F1 Before = 0.6899, F1 After = 0.6997\n",
      "Window Size 4: F1 Before = 0.6899, F1 After = 0.7036\n",
      "Window Size 5: F1 Before = 0.6899, F1 After = 0.6979\n",
      "Window Size 6: F1 Before = 0.6899, F1 After = 0.6991\n",
      "Window Size 7: F1 Before = 0.6899, F1 After = 0.8359\n",
      "Window Size 8: F1 Before = 0.6899, F1 After = 0.8288\n",
      "Window Size 9: F1 Before = 0.6899, F1 After = 0.8319\n",
      "Window Size 10: F1 Before = 0.6899, F1 After = 0.8326\n",
      "Window Size 11: F1 Before = 0.6899, F1 After = 0.8326\n",
      "Window Size 12: F1 Before = 0.6899, F1 After = 0.8304\n",
      "Window Size 13: F1 Before = 0.6899, F1 After = 0.8312\n",
      "Window Size 14: F1 Before = 0.6899, F1 After = 0.8348\n",
      "Window Size 15: F1 Before = 0.6899, F1 After = 0.8347\n",
      "Window Size 16: F1 Before = 0.6899, F1 After = 0.8366\n",
      "Window Size 17: F1 Before = 0.6899, F1 After = 0.8390\n",
      "Window Size 18: F1 Before = 0.6899, F1 After = 0.8422\n",
      "Window Size 19: F1 Before = 0.6899, F1 After = 0.8414\n",
      "Window Size 20: F1 Before = 0.6899, F1 After = 0.8406\n",
      "\n",
      "Optimal window size for case_023: 18 with F1 score: 0.8422\n",
      "\n",
      "Processing Surgery: case_025\n",
      "Number of frames in case_025: 1795\n",
      "Constructed 1795 image paths.\n",
      "Starting ensemble predictions...\n",
      "Loaded model 1/3 from models/baseline/regnety_008.pkl.\n"
     ]
    },
    {
     "data": {
      "text/html": [
       "\n",
       "<style>\n",
       "    /* Turns off some styling */\n",
       "    progress {\n",
       "        /* gets rid of default border in Firefox and Opera. */\n",
       "        border: none;\n",
       "        /* Needs to be in here for Safari polyfill so background images work as expected. */\n",
       "        background-size: auto;\n",
       "    }\n",
       "    progress:not([value]), progress:not([value])::-webkit-progress-bar {\n",
       "        background: repeating-linear-gradient(45deg, #7e7e7e, #7e7e7e 10px, #5c5c5c 10px, #5c5c5c 20px);\n",
       "    }\n",
       "    .progress-bar-interrupted, .progress-bar-interrupted::-webkit-progress-bar {\n",
       "        background: #F44336;\n",
       "    }\n",
       "</style>\n"
      ],
      "text/plain": [
       "<IPython.core.display.HTML object>"
      ]
     },
     "metadata": {},
     "output_type": "display_data"
    },
    {
     "data": {
      "text/html": [],
      "text/plain": [
       "<IPython.core.display.HTML object>"
      ]
     },
     "metadata": {},
     "output_type": "display_data"
    },
    {
     "name": "stdout",
     "output_type": "stream",
     "text": [
      "Loaded model 2/3 from models/baseline/convnextv2_tiny.pkl.\n"
     ]
    },
    {
     "data": {
      "text/html": [
       "\n",
       "<style>\n",
       "    /* Turns off some styling */\n",
       "    progress {\n",
       "        /* gets rid of default border in Firefox and Opera. */\n",
       "        border: none;\n",
       "        /* Needs to be in here for Safari polyfill so background images work as expected. */\n",
       "        background-size: auto;\n",
       "    }\n",
       "    progress:not([value]), progress:not([value])::-webkit-progress-bar {\n",
       "        background: repeating-linear-gradient(45deg, #7e7e7e, #7e7e7e 10px, #5c5c5c 10px, #5c5c5c 20px);\n",
       "    }\n",
       "    .progress-bar-interrupted, .progress-bar-interrupted::-webkit-progress-bar {\n",
       "        background: #F44336;\n",
       "    }\n",
       "</style>\n"
      ],
      "text/plain": [
       "<IPython.core.display.HTML object>"
      ]
     },
     "metadata": {},
     "output_type": "display_data"
    },
    {
     "data": {
      "text/html": [],
      "text/plain": [
       "<IPython.core.display.HTML object>"
      ]
     },
     "metadata": {},
     "output_type": "display_data"
    },
    {
     "name": "stdout",
     "output_type": "stream",
     "text": [
      "Loaded model 3/3 from models/baseline/vit_tiny.pkl.\n"
     ]
    },
    {
     "data": {
      "text/html": [
       "\n",
       "<style>\n",
       "    /* Turns off some styling */\n",
       "    progress {\n",
       "        /* gets rid of default border in Firefox and Opera. */\n",
       "        border: none;\n",
       "        /* Needs to be in here for Safari polyfill so background images work as expected. */\n",
       "        background-size: auto;\n",
       "    }\n",
       "    progress:not([value]), progress:not([value])::-webkit-progress-bar {\n",
       "        background: repeating-linear-gradient(45deg, #7e7e7e, #7e7e7e 10px, #5c5c5c 10px, #5c5c5c 20px);\n",
       "    }\n",
       "    .progress-bar-interrupted, .progress-bar-interrupted::-webkit-progress-bar {\n",
       "        background: #F44336;\n",
       "    }\n",
       "</style>\n"
      ],
      "text/plain": [
       "<IPython.core.display.HTML object>"
      ]
     },
     "metadata": {},
     "output_type": "display_data"
    },
    {
     "data": {
      "text/html": [],
      "text/plain": [
       "<IPython.core.display.HTML object>"
      ]
     },
     "metadata": {},
     "output_type": "display_data"
    },
    {
     "name": "stdout",
     "output_type": "stream",
     "text": [
      "Ensemble predictions completed.\n",
      "Decoding predictions completed.\n",
      "Retrieved ground truth labels.\n",
      "\n",
      "Evaluating window sizes for smoothing...\n",
      "\n",
      "Window Size 1: F1 Before = 0.6938, F1 After = 0.7983\n",
      "Window Size 2: F1 Before = 0.6938, F1 After = 0.7988\n",
      "Window Size 3: F1 Before = 0.6938, F1 After = 0.7948\n",
      "Window Size 4: F1 Before = 0.6938, F1 After = 0.7960\n",
      "Window Size 5: F1 Before = 0.6938, F1 After = 0.7927\n",
      "Window Size 6: F1 Before = 0.6938, F1 After = 0.7934\n",
      "Window Size 7: F1 Before = 0.6938, F1 After = 0.7922\n",
      "Window Size 8: F1 Before = 0.6938, F1 After = 0.7755\n",
      "Window Size 9: F1 Before = 0.6938, F1 After = 0.7755\n",
      "Window Size 10: F1 Before = 0.6938, F1 After = 0.7760\n",
      "Window Size 11: F1 Before = 0.6938, F1 After = 0.7760\n",
      "Window Size 12: F1 Before = 0.6938, F1 After = 0.7770\n",
      "Window Size 13: F1 Before = 0.6938, F1 After = 0.7767\n",
      "Window Size 14: F1 Before = 0.6938, F1 After = 0.7732\n",
      "Window Size 15: F1 Before = 0.6938, F1 After = 0.7714\n",
      "Window Size 16: F1 Before = 0.6938, F1 After = 0.7842\n",
      "Window Size 17: F1 Before = 0.6938, F1 After = 0.7870\n",
      "Window Size 18: F1 Before = 0.6938, F1 After = 0.7835\n",
      "Window Size 19: F1 Before = 0.6938, F1 After = 0.7809\n",
      "Window Size 20: F1 Before = 0.6938, F1 After = 0.7776\n",
      "\n",
      "Optimal window size for case_025: 2 with F1 score: 0.7988\n",
      "\n",
      "Processing Surgery: case_028\n",
      "Number of frames in case_028: 1664\n",
      "Constructed 1664 image paths.\n",
      "Starting ensemble predictions...\n",
      "Loaded model 1/3 from models/baseline/regnety_008.pkl.\n"
     ]
    },
    {
     "data": {
      "text/html": [
       "\n",
       "<style>\n",
       "    /* Turns off some styling */\n",
       "    progress {\n",
       "        /* gets rid of default border in Firefox and Opera. */\n",
       "        border: none;\n",
       "        /* Needs to be in here for Safari polyfill so background images work as expected. */\n",
       "        background-size: auto;\n",
       "    }\n",
       "    progress:not([value]), progress:not([value])::-webkit-progress-bar {\n",
       "        background: repeating-linear-gradient(45deg, #7e7e7e, #7e7e7e 10px, #5c5c5c 10px, #5c5c5c 20px);\n",
       "    }\n",
       "    .progress-bar-interrupted, .progress-bar-interrupted::-webkit-progress-bar {\n",
       "        background: #F44336;\n",
       "    }\n",
       "</style>\n"
      ],
      "text/plain": [
       "<IPython.core.display.HTML object>"
      ]
     },
     "metadata": {},
     "output_type": "display_data"
    },
    {
     "data": {
      "text/html": [],
      "text/plain": [
       "<IPython.core.display.HTML object>"
      ]
     },
     "metadata": {},
     "output_type": "display_data"
    },
    {
     "name": "stdout",
     "output_type": "stream",
     "text": [
      "Loaded model 2/3 from models/baseline/convnextv2_tiny.pkl.\n"
     ]
    },
    {
     "data": {
      "text/html": [
       "\n",
       "<style>\n",
       "    /* Turns off some styling */\n",
       "    progress {\n",
       "        /* gets rid of default border in Firefox and Opera. */\n",
       "        border: none;\n",
       "        /* Needs to be in here for Safari polyfill so background images work as expected. */\n",
       "        background-size: auto;\n",
       "    }\n",
       "    progress:not([value]), progress:not([value])::-webkit-progress-bar {\n",
       "        background: repeating-linear-gradient(45deg, #7e7e7e, #7e7e7e 10px, #5c5c5c 10px, #5c5c5c 20px);\n",
       "    }\n",
       "    .progress-bar-interrupted, .progress-bar-interrupted::-webkit-progress-bar {\n",
       "        background: #F44336;\n",
       "    }\n",
       "</style>\n"
      ],
      "text/plain": [
       "<IPython.core.display.HTML object>"
      ]
     },
     "metadata": {},
     "output_type": "display_data"
    },
    {
     "data": {
      "text/html": [],
      "text/plain": [
       "<IPython.core.display.HTML object>"
      ]
     },
     "metadata": {},
     "output_type": "display_data"
    },
    {
     "name": "stdout",
     "output_type": "stream",
     "text": [
      "Loaded model 3/3 from models/baseline/vit_tiny.pkl.\n"
     ]
    },
    {
     "data": {
      "text/html": [
       "\n",
       "<style>\n",
       "    /* Turns off some styling */\n",
       "    progress {\n",
       "        /* gets rid of default border in Firefox and Opera. */\n",
       "        border: none;\n",
       "        /* Needs to be in here for Safari polyfill so background images work as expected. */\n",
       "        background-size: auto;\n",
       "    }\n",
       "    progress:not([value]), progress:not([value])::-webkit-progress-bar {\n",
       "        background: repeating-linear-gradient(45deg, #7e7e7e, #7e7e7e 10px, #5c5c5c 10px, #5c5c5c 20px);\n",
       "    }\n",
       "    .progress-bar-interrupted, .progress-bar-interrupted::-webkit-progress-bar {\n",
       "        background: #F44336;\n",
       "    }\n",
       "</style>\n"
      ],
      "text/plain": [
       "<IPython.core.display.HTML object>"
      ]
     },
     "metadata": {},
     "output_type": "display_data"
    },
    {
     "data": {
      "text/html": [],
      "text/plain": [
       "<IPython.core.display.HTML object>"
      ]
     },
     "metadata": {},
     "output_type": "display_data"
    },
    {
     "name": "stdout",
     "output_type": "stream",
     "text": [
      "Ensemble predictions completed.\n",
      "Decoding predictions completed.\n",
      "Retrieved ground truth labels.\n",
      "\n",
      "Evaluating window sizes for smoothing...\n",
      "\n",
      "Window Size 1: F1 Before = 0.6210, F1 After = 0.6342\n",
      "Window Size 2: F1 Before = 0.6210, F1 After = 0.7456\n",
      "Window Size 3: F1 Before = 0.6210, F1 After = 0.7462\n",
      "Window Size 4: F1 Before = 0.6210, F1 After = 0.7459\n",
      "Window Size 5: F1 Before = 0.6210, F1 After = 0.7472\n",
      "Window Size 6: F1 Before = 0.6210, F1 After = 0.7432\n",
      "Window Size 7: F1 Before = 0.6210, F1 After = 0.7402\n",
      "Window Size 8: F1 Before = 0.6210, F1 After = 0.7431\n",
      "Window Size 9: F1 Before = 0.6210, F1 After = 0.7400\n",
      "Window Size 10: F1 Before = 0.6210, F1 After = 0.7394\n",
      "Window Size 11: F1 Before = 0.6210, F1 After = 0.7406\n",
      "Window Size 12: F1 Before = 0.6210, F1 After = 0.7398\n",
      "Window Size 13: F1 Before = 0.6210, F1 After = 0.7380\n",
      "Window Size 14: F1 Before = 0.6210, F1 After = 0.7386\n",
      "Window Size 15: F1 Before = 0.6210, F1 After = 0.7385\n",
      "Window Size 16: F1 Before = 0.6210, F1 After = 0.7354\n",
      "Window Size 17: F1 Before = 0.6210, F1 After = 0.7308\n",
      "Window Size 18: F1 Before = 0.6210, F1 After = 0.7305\n",
      "Window Size 19: F1 Before = 0.6210, F1 After = 0.7294\n",
      "Window Size 20: F1 Before = 0.6210, F1 After = 0.7308\n",
      "\n",
      "Optimal window size for case_028: 5 with F1 score: 0.7472\n",
      "\n",
      "Processing Surgery: case_030\n",
      "Number of frames in case_030: 1119\n",
      "Constructed 1119 image paths.\n",
      "Starting ensemble predictions...\n",
      "Loaded model 1/3 from models/baseline/regnety_008.pkl.\n"
     ]
    },
    {
     "data": {
      "text/html": [
       "\n",
       "<style>\n",
       "    /* Turns off some styling */\n",
       "    progress {\n",
       "        /* gets rid of default border in Firefox and Opera. */\n",
       "        border: none;\n",
       "        /* Needs to be in here for Safari polyfill so background images work as expected. */\n",
       "        background-size: auto;\n",
       "    }\n",
       "    progress:not([value]), progress:not([value])::-webkit-progress-bar {\n",
       "        background: repeating-linear-gradient(45deg, #7e7e7e, #7e7e7e 10px, #5c5c5c 10px, #5c5c5c 20px);\n",
       "    }\n",
       "    .progress-bar-interrupted, .progress-bar-interrupted::-webkit-progress-bar {\n",
       "        background: #F44336;\n",
       "    }\n",
       "</style>\n"
      ],
      "text/plain": [
       "<IPython.core.display.HTML object>"
      ]
     },
     "metadata": {},
     "output_type": "display_data"
    },
    {
     "data": {
      "text/html": [],
      "text/plain": [
       "<IPython.core.display.HTML object>"
      ]
     },
     "metadata": {},
     "output_type": "display_data"
    },
    {
     "name": "stdout",
     "output_type": "stream",
     "text": [
      "Loaded model 2/3 from models/baseline/convnextv2_tiny.pkl.\n"
     ]
    },
    {
     "data": {
      "text/html": [
       "\n",
       "<style>\n",
       "    /* Turns off some styling */\n",
       "    progress {\n",
       "        /* gets rid of default border in Firefox and Opera. */\n",
       "        border: none;\n",
       "        /* Needs to be in here for Safari polyfill so background images work as expected. */\n",
       "        background-size: auto;\n",
       "    }\n",
       "    progress:not([value]), progress:not([value])::-webkit-progress-bar {\n",
       "        background: repeating-linear-gradient(45deg, #7e7e7e, #7e7e7e 10px, #5c5c5c 10px, #5c5c5c 20px);\n",
       "    }\n",
       "    .progress-bar-interrupted, .progress-bar-interrupted::-webkit-progress-bar {\n",
       "        background: #F44336;\n",
       "    }\n",
       "</style>\n"
      ],
      "text/plain": [
       "<IPython.core.display.HTML object>"
      ]
     },
     "metadata": {},
     "output_type": "display_data"
    },
    {
     "data": {
      "text/html": [],
      "text/plain": [
       "<IPython.core.display.HTML object>"
      ]
     },
     "metadata": {},
     "output_type": "display_data"
    },
    {
     "name": "stdout",
     "output_type": "stream",
     "text": [
      "Loaded model 3/3 from models/baseline/vit_tiny.pkl.\n"
     ]
    },
    {
     "data": {
      "text/html": [
       "\n",
       "<style>\n",
       "    /* Turns off some styling */\n",
       "    progress {\n",
       "        /* gets rid of default border in Firefox and Opera. */\n",
       "        border: none;\n",
       "        /* Needs to be in here for Safari polyfill so background images work as expected. */\n",
       "        background-size: auto;\n",
       "    }\n",
       "    progress:not([value]), progress:not([value])::-webkit-progress-bar {\n",
       "        background: repeating-linear-gradient(45deg, #7e7e7e, #7e7e7e 10px, #5c5c5c 10px, #5c5c5c 20px);\n",
       "    }\n",
       "    .progress-bar-interrupted, .progress-bar-interrupted::-webkit-progress-bar {\n",
       "        background: #F44336;\n",
       "    }\n",
       "</style>\n"
      ],
      "text/plain": [
       "<IPython.core.display.HTML object>"
      ]
     },
     "metadata": {},
     "output_type": "display_data"
    },
    {
     "data": {
      "text/html": [],
      "text/plain": [
       "<IPython.core.display.HTML object>"
      ]
     },
     "metadata": {},
     "output_type": "display_data"
    },
    {
     "name": "stdout",
     "output_type": "stream",
     "text": [
      "Ensemble predictions completed.\n",
      "Decoding predictions completed.\n",
      "Retrieved ground truth labels.\n",
      "\n",
      "Evaluating window sizes for smoothing...\n",
      "\n",
      "Window Size 1: F1 Before = 0.3213, F1 After = 0.3254\n",
      "Window Size 2: F1 Before = 0.3213, F1 After = 0.3297\n",
      "Window Size 3: F1 Before = 0.3213, F1 After = 0.3491\n",
      "Window Size 4: F1 Before = 0.3213, F1 After = 0.3530\n",
      "Window Size 5: F1 Before = 0.3213, F1 After = 0.3486\n",
      "Window Size 6: F1 Before = 0.3213, F1 After = 0.3529\n",
      "Window Size 7: F1 Before = 0.3213, F1 After = 0.3529\n",
      "Window Size 8: F1 Before = 0.3213, F1 After = 0.3501\n",
      "Window Size 9: F1 Before = 0.3213, F1 After = 0.3529\n",
      "Window Size 10: F1 Before = 0.3213, F1 After = 0.3529\n",
      "Window Size 11: F1 Before = 0.3213, F1 After = 0.3556\n",
      "Window Size 12: F1 Before = 0.3213, F1 After = 0.3417\n",
      "Window Size 13: F1 Before = 0.3213, F1 After = 0.3360\n",
      "Window Size 14: F1 Before = 0.3213, F1 After = 0.3360\n",
      "Window Size 15: F1 Before = 0.3213, F1 After = 0.3328\n",
      "Window Size 16: F1 Before = 0.3213, F1 After = 0.3267\n",
      "Window Size 17: F1 Before = 0.3213, F1 After = 0.3267\n",
      "Window Size 18: F1 Before = 0.3213, F1 After = 0.3298\n",
      "Window Size 19: F1 Before = 0.3213, F1 After = 0.3298\n",
      "Window Size 20: F1 Before = 0.3213, F1 After = 0.3327\n",
      "\n",
      "Optimal window size for case_030: 11 with F1 score: 0.3556\n",
      "\n",
      "Processing Surgery: case_034\n",
      "Number of frames in case_034: 1581\n",
      "Constructed 1581 image paths.\n",
      "Starting ensemble predictions...\n",
      "Loaded model 1/3 from models/baseline/regnety_008.pkl.\n"
     ]
    },
    {
     "data": {
      "text/html": [
       "\n",
       "<style>\n",
       "    /* Turns off some styling */\n",
       "    progress {\n",
       "        /* gets rid of default border in Firefox and Opera. */\n",
       "        border: none;\n",
       "        /* Needs to be in here for Safari polyfill so background images work as expected. */\n",
       "        background-size: auto;\n",
       "    }\n",
       "    progress:not([value]), progress:not([value])::-webkit-progress-bar {\n",
       "        background: repeating-linear-gradient(45deg, #7e7e7e, #7e7e7e 10px, #5c5c5c 10px, #5c5c5c 20px);\n",
       "    }\n",
       "    .progress-bar-interrupted, .progress-bar-interrupted::-webkit-progress-bar {\n",
       "        background: #F44336;\n",
       "    }\n",
       "</style>\n"
      ],
      "text/plain": [
       "<IPython.core.display.HTML object>"
      ]
     },
     "metadata": {},
     "output_type": "display_data"
    },
    {
     "data": {
      "text/html": [],
      "text/plain": [
       "<IPython.core.display.HTML object>"
      ]
     },
     "metadata": {},
     "output_type": "display_data"
    },
    {
     "name": "stdout",
     "output_type": "stream",
     "text": [
      "Loaded model 2/3 from models/baseline/convnextv2_tiny.pkl.\n"
     ]
    },
    {
     "data": {
      "text/html": [
       "\n",
       "<style>\n",
       "    /* Turns off some styling */\n",
       "    progress {\n",
       "        /* gets rid of default border in Firefox and Opera. */\n",
       "        border: none;\n",
       "        /* Needs to be in here for Safari polyfill so background images work as expected. */\n",
       "        background-size: auto;\n",
       "    }\n",
       "    progress:not([value]), progress:not([value])::-webkit-progress-bar {\n",
       "        background: repeating-linear-gradient(45deg, #7e7e7e, #7e7e7e 10px, #5c5c5c 10px, #5c5c5c 20px);\n",
       "    }\n",
       "    .progress-bar-interrupted, .progress-bar-interrupted::-webkit-progress-bar {\n",
       "        background: #F44336;\n",
       "    }\n",
       "</style>\n"
      ],
      "text/plain": [
       "<IPython.core.display.HTML object>"
      ]
     },
     "metadata": {},
     "output_type": "display_data"
    },
    {
     "data": {
      "text/html": [],
      "text/plain": [
       "<IPython.core.display.HTML object>"
      ]
     },
     "metadata": {},
     "output_type": "display_data"
    },
    {
     "name": "stdout",
     "output_type": "stream",
     "text": [
      "Loaded model 3/3 from models/baseline/vit_tiny.pkl.\n"
     ]
    },
    {
     "data": {
      "text/html": [
       "\n",
       "<style>\n",
       "    /* Turns off some styling */\n",
       "    progress {\n",
       "        /* gets rid of default border in Firefox and Opera. */\n",
       "        border: none;\n",
       "        /* Needs to be in here for Safari polyfill so background images work as expected. */\n",
       "        background-size: auto;\n",
       "    }\n",
       "    progress:not([value]), progress:not([value])::-webkit-progress-bar {\n",
       "        background: repeating-linear-gradient(45deg, #7e7e7e, #7e7e7e 10px, #5c5c5c 10px, #5c5c5c 20px);\n",
       "    }\n",
       "    .progress-bar-interrupted, .progress-bar-interrupted::-webkit-progress-bar {\n",
       "        background: #F44336;\n",
       "    }\n",
       "</style>\n"
      ],
      "text/plain": [
       "<IPython.core.display.HTML object>"
      ]
     },
     "metadata": {},
     "output_type": "display_data"
    },
    {
     "data": {
      "text/html": [],
      "text/plain": [
       "<IPython.core.display.HTML object>"
      ]
     },
     "metadata": {},
     "output_type": "display_data"
    },
    {
     "name": "stdout",
     "output_type": "stream",
     "text": [
      "Ensemble predictions completed.\n",
      "Decoding predictions completed.\n",
      "Retrieved ground truth labels.\n",
      "\n",
      "Evaluating window sizes for smoothing...\n",
      "\n",
      "Window Size 1: F1 Before = 0.5320, F1 After = 0.5267\n",
      "Window Size 2: F1 Before = 0.5320, F1 After = 0.5230\n",
      "Window Size 3: F1 Before = 0.5320, F1 After = 0.5199\n",
      "Window Size 4: F1 Before = 0.5320, F1 After = 0.5192\n",
      "Window Size 5: F1 Before = 0.5320, F1 After = 0.5121\n",
      "Window Size 6: F1 Before = 0.5320, F1 After = 0.5092\n",
      "Window Size 7: F1 Before = 0.5320, F1 After = 0.5064\n",
      "Window Size 8: F1 Before = 0.5320, F1 After = 0.5075\n",
      "Window Size 9: F1 Before = 0.5320, F1 After = 0.5156\n",
      "Window Size 10: F1 Before = 0.5320, F1 After = 0.5152\n",
      "Window Size 11: F1 Before = 0.5320, F1 After = 0.5147\n",
      "Window Size 12: F1 Before = 0.5320, F1 After = 0.5151\n",
      "Window Size 13: F1 Before = 0.5320, F1 After = 0.5128\n",
      "Window Size 14: F1 Before = 0.5320, F1 After = 0.5120\n",
      "Window Size 15: F1 Before = 0.5320, F1 After = 0.5144\n",
      "Window Size 16: F1 Before = 0.5320, F1 After = 0.5164\n",
      "Window Size 17: F1 Before = 0.5320, F1 After = 0.5200\n",
      "Window Size 18: F1 Before = 0.5320, F1 After = 0.5243\n",
      "Window Size 19: F1 Before = 0.5320, F1 After = 0.5270\n",
      "Window Size 20: F1 Before = 0.5320, F1 After = 0.5306\n",
      "\n",
      "Optimal window size for case_034: 20 with F1 score: 0.5306\n",
      "\n",
      "Processing Surgery: case_036\n",
      "Number of frames in case_036: 2476\n",
      "Constructed 2476 image paths.\n",
      "Starting ensemble predictions...\n",
      "Loaded model 1/3 from models/baseline/regnety_008.pkl.\n"
     ]
    },
    {
     "data": {
      "text/html": [
       "\n",
       "<style>\n",
       "    /* Turns off some styling */\n",
       "    progress {\n",
       "        /* gets rid of default border in Firefox and Opera. */\n",
       "        border: none;\n",
       "        /* Needs to be in here for Safari polyfill so background images work as expected. */\n",
       "        background-size: auto;\n",
       "    }\n",
       "    progress:not([value]), progress:not([value])::-webkit-progress-bar {\n",
       "        background: repeating-linear-gradient(45deg, #7e7e7e, #7e7e7e 10px, #5c5c5c 10px, #5c5c5c 20px);\n",
       "    }\n",
       "    .progress-bar-interrupted, .progress-bar-interrupted::-webkit-progress-bar {\n",
       "        background: #F44336;\n",
       "    }\n",
       "</style>\n"
      ],
      "text/plain": [
       "<IPython.core.display.HTML object>"
      ]
     },
     "metadata": {},
     "output_type": "display_data"
    },
    {
     "data": {
      "text/html": [],
      "text/plain": [
       "<IPython.core.display.HTML object>"
      ]
     },
     "metadata": {},
     "output_type": "display_data"
    },
    {
     "name": "stdout",
     "output_type": "stream",
     "text": [
      "Loaded model 2/3 from models/baseline/convnextv2_tiny.pkl.\n"
     ]
    },
    {
     "data": {
      "text/html": [
       "\n",
       "<style>\n",
       "    /* Turns off some styling */\n",
       "    progress {\n",
       "        /* gets rid of default border in Firefox and Opera. */\n",
       "        border: none;\n",
       "        /* Needs to be in here for Safari polyfill so background images work as expected. */\n",
       "        background-size: auto;\n",
       "    }\n",
       "    progress:not([value]), progress:not([value])::-webkit-progress-bar {\n",
       "        background: repeating-linear-gradient(45deg, #7e7e7e, #7e7e7e 10px, #5c5c5c 10px, #5c5c5c 20px);\n",
       "    }\n",
       "    .progress-bar-interrupted, .progress-bar-interrupted::-webkit-progress-bar {\n",
       "        background: #F44336;\n",
       "    }\n",
       "</style>\n"
      ],
      "text/plain": [
       "<IPython.core.display.HTML object>"
      ]
     },
     "metadata": {},
     "output_type": "display_data"
    },
    {
     "data": {
      "text/html": [],
      "text/plain": [
       "<IPython.core.display.HTML object>"
      ]
     },
     "metadata": {},
     "output_type": "display_data"
    },
    {
     "name": "stdout",
     "output_type": "stream",
     "text": [
      "Loaded model 3/3 from models/baseline/vit_tiny.pkl.\n"
     ]
    },
    {
     "data": {
      "text/html": [
       "\n",
       "<style>\n",
       "    /* Turns off some styling */\n",
       "    progress {\n",
       "        /* gets rid of default border in Firefox and Opera. */\n",
       "        border: none;\n",
       "        /* Needs to be in here for Safari polyfill so background images work as expected. */\n",
       "        background-size: auto;\n",
       "    }\n",
       "    progress:not([value]), progress:not([value])::-webkit-progress-bar {\n",
       "        background: repeating-linear-gradient(45deg, #7e7e7e, #7e7e7e 10px, #5c5c5c 10px, #5c5c5c 20px);\n",
       "    }\n",
       "    .progress-bar-interrupted, .progress-bar-interrupted::-webkit-progress-bar {\n",
       "        background: #F44336;\n",
       "    }\n",
       "</style>\n"
      ],
      "text/plain": [
       "<IPython.core.display.HTML object>"
      ]
     },
     "metadata": {},
     "output_type": "display_data"
    },
    {
     "data": {
      "text/html": [],
      "text/plain": [
       "<IPython.core.display.HTML object>"
      ]
     },
     "metadata": {},
     "output_type": "display_data"
    },
    {
     "name": "stdout",
     "output_type": "stream",
     "text": [
      "Ensemble predictions completed.\n",
      "Decoding predictions completed.\n",
      "Retrieved ground truth labels.\n",
      "\n",
      "Evaluating window sizes for smoothing...\n",
      "\n",
      "Window Size 1: F1 Before = 0.8372, F1 After = 0.8457\n",
      "Window Size 2: F1 Before = 0.8372, F1 After = 0.8418\n",
      "Window Size 3: F1 Before = 0.8372, F1 After = 0.8447\n",
      "Window Size 4: F1 Before = 0.8372, F1 After = 0.8526\n",
      "Window Size 5: F1 Before = 0.8372, F1 After = 0.8577\n",
      "Window Size 6: F1 Before = 0.8372, F1 After = 0.8696\n",
      "Window Size 7: F1 Before = 0.8372, F1 After = 0.8741\n",
      "Window Size 8: F1 Before = 0.8372, F1 After = 0.8681\n",
      "Window Size 9: F1 Before = 0.8372, F1 After = 0.8677\n",
      "Window Size 10: F1 Before = 0.8372, F1 After = 0.8742\n",
      "Window Size 11: F1 Before = 0.8372, F1 After = 0.8763\n",
      "Window Size 12: F1 Before = 0.8372, F1 After = 0.8680\n",
      "Window Size 13: F1 Before = 0.8372, F1 After = 0.8673\n",
      "Window Size 14: F1 Before = 0.8372, F1 After = 0.8706\n",
      "Window Size 15: F1 Before = 0.8372, F1 After = 0.8693\n",
      "Window Size 16: F1 Before = 0.8372, F1 After = 0.8591\n",
      "Window Size 17: F1 Before = 0.8372, F1 After = 0.8606\n",
      "Window Size 18: F1 Before = 0.8372, F1 After = 0.8592\n",
      "Window Size 19: F1 Before = 0.8372, F1 After = 0.8592\n",
      "Window Size 20: F1 Before = 0.8372, F1 After = 0.8546\n",
      "\n",
      "Optimal window size for case_036: 11 with F1 score: 0.8763\n",
      "\n",
      "Processing Surgery: case_043\n",
      "Number of frames in case_043: 2011\n",
      "Constructed 2011 image paths.\n",
      "Starting ensemble predictions...\n",
      "Loaded model 1/3 from models/baseline/regnety_008.pkl.\n"
     ]
    },
    {
     "data": {
      "text/html": [
       "\n",
       "<style>\n",
       "    /* Turns off some styling */\n",
       "    progress {\n",
       "        /* gets rid of default border in Firefox and Opera. */\n",
       "        border: none;\n",
       "        /* Needs to be in here for Safari polyfill so background images work as expected. */\n",
       "        background-size: auto;\n",
       "    }\n",
       "    progress:not([value]), progress:not([value])::-webkit-progress-bar {\n",
       "        background: repeating-linear-gradient(45deg, #7e7e7e, #7e7e7e 10px, #5c5c5c 10px, #5c5c5c 20px);\n",
       "    }\n",
       "    .progress-bar-interrupted, .progress-bar-interrupted::-webkit-progress-bar {\n",
       "        background: #F44336;\n",
       "    }\n",
       "</style>\n"
      ],
      "text/plain": [
       "<IPython.core.display.HTML object>"
      ]
     },
     "metadata": {},
     "output_type": "display_data"
    },
    {
     "data": {
      "text/html": [],
      "text/plain": [
       "<IPython.core.display.HTML object>"
      ]
     },
     "metadata": {},
     "output_type": "display_data"
    },
    {
     "name": "stdout",
     "output_type": "stream",
     "text": [
      "Loaded model 2/3 from models/baseline/convnextv2_tiny.pkl.\n"
     ]
    },
    {
     "data": {
      "text/html": [
       "\n",
       "<style>\n",
       "    /* Turns off some styling */\n",
       "    progress {\n",
       "        /* gets rid of default border in Firefox and Opera. */\n",
       "        border: none;\n",
       "        /* Needs to be in here for Safari polyfill so background images work as expected. */\n",
       "        background-size: auto;\n",
       "    }\n",
       "    progress:not([value]), progress:not([value])::-webkit-progress-bar {\n",
       "        background: repeating-linear-gradient(45deg, #7e7e7e, #7e7e7e 10px, #5c5c5c 10px, #5c5c5c 20px);\n",
       "    }\n",
       "    .progress-bar-interrupted, .progress-bar-interrupted::-webkit-progress-bar {\n",
       "        background: #F44336;\n",
       "    }\n",
       "</style>\n"
      ],
      "text/plain": [
       "<IPython.core.display.HTML object>"
      ]
     },
     "metadata": {},
     "output_type": "display_data"
    },
    {
     "data": {
      "text/html": [],
      "text/plain": [
       "<IPython.core.display.HTML object>"
      ]
     },
     "metadata": {},
     "output_type": "display_data"
    },
    {
     "name": "stdout",
     "output_type": "stream",
     "text": [
      "Loaded model 3/3 from models/baseline/vit_tiny.pkl.\n"
     ]
    },
    {
     "data": {
      "text/html": [
       "\n",
       "<style>\n",
       "    /* Turns off some styling */\n",
       "    progress {\n",
       "        /* gets rid of default border in Firefox and Opera. */\n",
       "        border: none;\n",
       "        /* Needs to be in here for Safari polyfill so background images work as expected. */\n",
       "        background-size: auto;\n",
       "    }\n",
       "    progress:not([value]), progress:not([value])::-webkit-progress-bar {\n",
       "        background: repeating-linear-gradient(45deg, #7e7e7e, #7e7e7e 10px, #5c5c5c 10px, #5c5c5c 20px);\n",
       "    }\n",
       "    .progress-bar-interrupted, .progress-bar-interrupted::-webkit-progress-bar {\n",
       "        background: #F44336;\n",
       "    }\n",
       "</style>\n"
      ],
      "text/plain": [
       "<IPython.core.display.HTML object>"
      ]
     },
     "metadata": {},
     "output_type": "display_data"
    },
    {
     "data": {
      "text/html": [],
      "text/plain": [
       "<IPython.core.display.HTML object>"
      ]
     },
     "metadata": {},
     "output_type": "display_data"
    },
    {
     "name": "stdout",
     "output_type": "stream",
     "text": [
      "Ensemble predictions completed.\n",
      "Decoding predictions completed.\n",
      "Retrieved ground truth labels.\n",
      "\n",
      "Evaluating window sizes for smoothing...\n",
      "\n",
      "Window Size 1: F1 Before = 0.7026, F1 After = 0.7132\n",
      "Window Size 2: F1 Before = 0.7026, F1 After = 0.7082\n",
      "Window Size 3: F1 Before = 0.7026, F1 After = 0.7091\n",
      "Window Size 4: F1 Before = 0.7026, F1 After = 0.7069\n",
      "Window Size 5: F1 Before = 0.7026, F1 After = 0.7058\n",
      "Window Size 6: F1 Before = 0.7026, F1 After = 0.7027\n",
      "Window Size 7: F1 Before = 0.7026, F1 After = 0.6984\n",
      "Window Size 8: F1 Before = 0.7026, F1 After = 0.6984\n",
      "Window Size 9: F1 Before = 0.7026, F1 After = 0.6983\n",
      "Window Size 10: F1 Before = 0.7026, F1 After = 0.6975\n",
      "Window Size 11: F1 Before = 0.7026, F1 After = 0.6951\n",
      "Window Size 12: F1 Before = 0.7026, F1 After = 0.6899\n",
      "Window Size 13: F1 Before = 0.7026, F1 After = 0.6872\n",
      "Window Size 14: F1 Before = 0.7026, F1 After = 0.6811\n",
      "Window Size 15: F1 Before = 0.7026, F1 After = 0.5374\n",
      "Window Size 16: F1 Before = 0.7026, F1 After = 0.5387\n",
      "Window Size 17: F1 Before = 0.7026, F1 After = 0.5374\n",
      "Window Size 18: F1 Before = 0.7026, F1 After = 0.5369\n",
      "Window Size 19: F1 Before = 0.7026, F1 After = 0.5364\n",
      "Window Size 20: F1 Before = 0.7026, F1 After = 0.5350\n",
      "\n",
      "Optimal window size for case_043: 1 with F1 score: 0.7132\n",
      "\n",
      "Processing Surgery: case_049\n",
      "Number of frames in case_049: 1876\n",
      "Constructed 1876 image paths.\n",
      "Starting ensemble predictions...\n",
      "Loaded model 1/3 from models/baseline/regnety_008.pkl.\n"
     ]
    },
    {
     "data": {
      "text/html": [
       "\n",
       "<style>\n",
       "    /* Turns off some styling */\n",
       "    progress {\n",
       "        /* gets rid of default border in Firefox and Opera. */\n",
       "        border: none;\n",
       "        /* Needs to be in here for Safari polyfill so background images work as expected. */\n",
       "        background-size: auto;\n",
       "    }\n",
       "    progress:not([value]), progress:not([value])::-webkit-progress-bar {\n",
       "        background: repeating-linear-gradient(45deg, #7e7e7e, #7e7e7e 10px, #5c5c5c 10px, #5c5c5c 20px);\n",
       "    }\n",
       "    .progress-bar-interrupted, .progress-bar-interrupted::-webkit-progress-bar {\n",
       "        background: #F44336;\n",
       "    }\n",
       "</style>\n"
      ],
      "text/plain": [
       "<IPython.core.display.HTML object>"
      ]
     },
     "metadata": {},
     "output_type": "display_data"
    },
    {
     "data": {
      "text/html": [],
      "text/plain": [
       "<IPython.core.display.HTML object>"
      ]
     },
     "metadata": {},
     "output_type": "display_data"
    },
    {
     "name": "stdout",
     "output_type": "stream",
     "text": [
      "Loaded model 2/3 from models/baseline/convnextv2_tiny.pkl.\n"
     ]
    },
    {
     "data": {
      "text/html": [
       "\n",
       "<style>\n",
       "    /* Turns off some styling */\n",
       "    progress {\n",
       "        /* gets rid of default border in Firefox and Opera. */\n",
       "        border: none;\n",
       "        /* Needs to be in here for Safari polyfill so background images work as expected. */\n",
       "        background-size: auto;\n",
       "    }\n",
       "    progress:not([value]), progress:not([value])::-webkit-progress-bar {\n",
       "        background: repeating-linear-gradient(45deg, #7e7e7e, #7e7e7e 10px, #5c5c5c 10px, #5c5c5c 20px);\n",
       "    }\n",
       "    .progress-bar-interrupted, .progress-bar-interrupted::-webkit-progress-bar {\n",
       "        background: #F44336;\n",
       "    }\n",
       "</style>\n"
      ],
      "text/plain": [
       "<IPython.core.display.HTML object>"
      ]
     },
     "metadata": {},
     "output_type": "display_data"
    },
    {
     "data": {
      "text/html": [],
      "text/plain": [
       "<IPython.core.display.HTML object>"
      ]
     },
     "metadata": {},
     "output_type": "display_data"
    },
    {
     "name": "stdout",
     "output_type": "stream",
     "text": [
      "Loaded model 3/3 from models/baseline/vit_tiny.pkl.\n"
     ]
    },
    {
     "data": {
      "text/html": [
       "\n",
       "<style>\n",
       "    /* Turns off some styling */\n",
       "    progress {\n",
       "        /* gets rid of default border in Firefox and Opera. */\n",
       "        border: none;\n",
       "        /* Needs to be in here for Safari polyfill so background images work as expected. */\n",
       "        background-size: auto;\n",
       "    }\n",
       "    progress:not([value]), progress:not([value])::-webkit-progress-bar {\n",
       "        background: repeating-linear-gradient(45deg, #7e7e7e, #7e7e7e 10px, #5c5c5c 10px, #5c5c5c 20px);\n",
       "    }\n",
       "    .progress-bar-interrupted, .progress-bar-interrupted::-webkit-progress-bar {\n",
       "        background: #F44336;\n",
       "    }\n",
       "</style>\n"
      ],
      "text/plain": [
       "<IPython.core.display.HTML object>"
      ]
     },
     "metadata": {},
     "output_type": "display_data"
    },
    {
     "data": {
      "text/html": [],
      "text/plain": [
       "<IPython.core.display.HTML object>"
      ]
     },
     "metadata": {},
     "output_type": "display_data"
    },
    {
     "name": "stdout",
     "output_type": "stream",
     "text": [
      "Ensemble predictions completed.\n",
      "Decoding predictions completed.\n",
      "Retrieved ground truth labels.\n",
      "\n",
      "Evaluating window sizes for smoothing...\n",
      "\n",
      "Window Size 1: F1 Before = 0.8204, F1 After = 0.8298\n",
      "Window Size 2: F1 Before = 0.8204, F1 After = 0.8241\n",
      "Window Size 3: F1 Before = 0.8204, F1 After = 0.8239\n",
      "Window Size 4: F1 Before = 0.8204, F1 After = 0.8290\n",
      "Window Size 5: F1 Before = 0.8204, F1 After = 0.8250\n",
      "Window Size 6: F1 Before = 0.8204, F1 After = 0.8272\n",
      "Window Size 7: F1 Before = 0.8204, F1 After = 0.8290\n",
      "Window Size 8: F1 Before = 0.8204, F1 After = 0.8322\n",
      "Window Size 9: F1 Before = 0.8204, F1 After = 0.8253\n",
      "Window Size 10: F1 Before = 0.8204, F1 After = 0.8290\n",
      "Window Size 11: F1 Before = 0.8204, F1 After = 0.8216\n",
      "Window Size 12: F1 Before = 0.8204, F1 After = 0.8177\n",
      "Window Size 13: F1 Before = 0.8204, F1 After = 0.8164\n",
      "Window Size 14: F1 Before = 0.8204, F1 After = 0.8135\n",
      "Window Size 15: F1 Before = 0.8204, F1 After = 0.8133\n",
      "Window Size 16: F1 Before = 0.8204, F1 After = 0.8212\n",
      "Window Size 17: F1 Before = 0.8204, F1 After = 0.8200\n",
      "Window Size 18: F1 Before = 0.8204, F1 After = 0.8077\n",
      "Window Size 19: F1 Before = 0.8204, F1 After = 0.7781\n",
      "Window Size 20: F1 Before = 0.8204, F1 After = 0.7617\n",
      "\n",
      "Optimal window size for case_049: 8 with F1 score: 0.8322\n",
      "\n",
      "Processing Surgery: case_050\n",
      "Number of frames in case_050: 2253\n",
      "Constructed 2253 image paths.\n",
      "Starting ensemble predictions...\n",
      "Loaded model 1/3 from models/baseline/regnety_008.pkl.\n"
     ]
    },
    {
     "data": {
      "text/html": [
       "\n",
       "<style>\n",
       "    /* Turns off some styling */\n",
       "    progress {\n",
       "        /* gets rid of default border in Firefox and Opera. */\n",
       "        border: none;\n",
       "        /* Needs to be in here for Safari polyfill so background images work as expected. */\n",
       "        background-size: auto;\n",
       "    }\n",
       "    progress:not([value]), progress:not([value])::-webkit-progress-bar {\n",
       "        background: repeating-linear-gradient(45deg, #7e7e7e, #7e7e7e 10px, #5c5c5c 10px, #5c5c5c 20px);\n",
       "    }\n",
       "    .progress-bar-interrupted, .progress-bar-interrupted::-webkit-progress-bar {\n",
       "        background: #F44336;\n",
       "    }\n",
       "</style>\n"
      ],
      "text/plain": [
       "<IPython.core.display.HTML object>"
      ]
     },
     "metadata": {},
     "output_type": "display_data"
    },
    {
     "data": {
      "text/html": [],
      "text/plain": [
       "<IPython.core.display.HTML object>"
      ]
     },
     "metadata": {},
     "output_type": "display_data"
    },
    {
     "name": "stdout",
     "output_type": "stream",
     "text": [
      "Loaded model 2/3 from models/baseline/convnextv2_tiny.pkl.\n"
     ]
    },
    {
     "data": {
      "text/html": [
       "\n",
       "<style>\n",
       "    /* Turns off some styling */\n",
       "    progress {\n",
       "        /* gets rid of default border in Firefox and Opera. */\n",
       "        border: none;\n",
       "        /* Needs to be in here for Safari polyfill so background images work as expected. */\n",
       "        background-size: auto;\n",
       "    }\n",
       "    progress:not([value]), progress:not([value])::-webkit-progress-bar {\n",
       "        background: repeating-linear-gradient(45deg, #7e7e7e, #7e7e7e 10px, #5c5c5c 10px, #5c5c5c 20px);\n",
       "    }\n",
       "    .progress-bar-interrupted, .progress-bar-interrupted::-webkit-progress-bar {\n",
       "        background: #F44336;\n",
       "    }\n",
       "</style>\n"
      ],
      "text/plain": [
       "<IPython.core.display.HTML object>"
      ]
     },
     "metadata": {},
     "output_type": "display_data"
    },
    {
     "data": {
      "text/html": [],
      "text/plain": [
       "<IPython.core.display.HTML object>"
      ]
     },
     "metadata": {},
     "output_type": "display_data"
    },
    {
     "name": "stdout",
     "output_type": "stream",
     "text": [
      "Loaded model 3/3 from models/baseline/vit_tiny.pkl.\n"
     ]
    },
    {
     "data": {
      "text/html": [
       "\n",
       "<style>\n",
       "    /* Turns off some styling */\n",
       "    progress {\n",
       "        /* gets rid of default border in Firefox and Opera. */\n",
       "        border: none;\n",
       "        /* Needs to be in here for Safari polyfill so background images work as expected. */\n",
       "        background-size: auto;\n",
       "    }\n",
       "    progress:not([value]), progress:not([value])::-webkit-progress-bar {\n",
       "        background: repeating-linear-gradient(45deg, #7e7e7e, #7e7e7e 10px, #5c5c5c 10px, #5c5c5c 20px);\n",
       "    }\n",
       "    .progress-bar-interrupted, .progress-bar-interrupted::-webkit-progress-bar {\n",
       "        background: #F44336;\n",
       "    }\n",
       "</style>\n"
      ],
      "text/plain": [
       "<IPython.core.display.HTML object>"
      ]
     },
     "metadata": {},
     "output_type": "display_data"
    },
    {
     "data": {
      "text/html": [],
      "text/plain": [
       "<IPython.core.display.HTML object>"
      ]
     },
     "metadata": {},
     "output_type": "display_data"
    },
    {
     "name": "stdout",
     "output_type": "stream",
     "text": [
      "Ensemble predictions completed.\n",
      "Decoding predictions completed.\n",
      "Retrieved ground truth labels.\n",
      "\n",
      "Evaluating window sizes for smoothing...\n",
      "\n",
      "Window Size 1: F1 Before = 0.7615, F1 After = 0.9160\n",
      "Window Size 2: F1 Before = 0.7615, F1 After = 0.9148\n",
      "Window Size 3: F1 Before = 0.7615, F1 After = 0.9157\n",
      "Window Size 4: F1 Before = 0.7615, F1 After = 0.9159\n",
      "Window Size 5: F1 Before = 0.7615, F1 After = 0.9156\n",
      "Window Size 6: F1 Before = 0.7615, F1 After = 0.9145\n",
      "Window Size 7: F1 Before = 0.7615, F1 After = 0.9162\n",
      "Window Size 8: F1 Before = 0.7615, F1 After = 0.9159\n",
      "Window Size 9: F1 Before = 0.7615, F1 After = 0.9156\n",
      "Window Size 10: F1 Before = 0.7615, F1 After = 0.9156\n",
      "Window Size 11: F1 Before = 0.7615, F1 After = 0.9145\n",
      "Window Size 12: F1 Before = 0.7615, F1 After = 0.9153\n",
      "Window Size 13: F1 Before = 0.7615, F1 After = 0.9153\n",
      "Window Size 14: F1 Before = 0.7615, F1 After = 0.9153\n",
      "Window Size 15: F1 Before = 0.7615, F1 After = 0.9153\n",
      "Window Size 16: F1 Before = 0.7615, F1 After = 0.9153\n",
      "Window Size 17: F1 Before = 0.7615, F1 After = 0.9153\n",
      "Window Size 18: F1 Before = 0.7615, F1 After = 0.9162\n",
      "Window Size 19: F1 Before = 0.7615, F1 After = 0.9208\n",
      "Window Size 20: F1 Before = 0.7615, F1 After = 0.9208\n",
      "\n",
      "Optimal window size for case_050: 19 with F1 score: 0.9208\n",
      "\n",
      "Processing Surgery: case_052\n",
      "Number of frames in case_052: 324\n",
      "Constructed 324 image paths.\n",
      "Starting ensemble predictions...\n",
      "Loaded model 1/3 from models/baseline/regnety_008.pkl.\n"
     ]
    },
    {
     "data": {
      "text/html": [
       "\n",
       "<style>\n",
       "    /* Turns off some styling */\n",
       "    progress {\n",
       "        /* gets rid of default border in Firefox and Opera. */\n",
       "        border: none;\n",
       "        /* Needs to be in here for Safari polyfill so background images work as expected. */\n",
       "        background-size: auto;\n",
       "    }\n",
       "    progress:not([value]), progress:not([value])::-webkit-progress-bar {\n",
       "        background: repeating-linear-gradient(45deg, #7e7e7e, #7e7e7e 10px, #5c5c5c 10px, #5c5c5c 20px);\n",
       "    }\n",
       "    .progress-bar-interrupted, .progress-bar-interrupted::-webkit-progress-bar {\n",
       "        background: #F44336;\n",
       "    }\n",
       "</style>\n"
      ],
      "text/plain": [
       "<IPython.core.display.HTML object>"
      ]
     },
     "metadata": {},
     "output_type": "display_data"
    },
    {
     "data": {
      "text/html": [],
      "text/plain": [
       "<IPython.core.display.HTML object>"
      ]
     },
     "metadata": {},
     "output_type": "display_data"
    },
    {
     "name": "stdout",
     "output_type": "stream",
     "text": [
      "Loaded model 2/3 from models/baseline/convnextv2_tiny.pkl.\n"
     ]
    },
    {
     "data": {
      "text/html": [
       "\n",
       "<style>\n",
       "    /* Turns off some styling */\n",
       "    progress {\n",
       "        /* gets rid of default border in Firefox and Opera. */\n",
       "        border: none;\n",
       "        /* Needs to be in here for Safari polyfill so background images work as expected. */\n",
       "        background-size: auto;\n",
       "    }\n",
       "    progress:not([value]), progress:not([value])::-webkit-progress-bar {\n",
       "        background: repeating-linear-gradient(45deg, #7e7e7e, #7e7e7e 10px, #5c5c5c 10px, #5c5c5c 20px);\n",
       "    }\n",
       "    .progress-bar-interrupted, .progress-bar-interrupted::-webkit-progress-bar {\n",
       "        background: #F44336;\n",
       "    }\n",
       "</style>\n"
      ],
      "text/plain": [
       "<IPython.core.display.HTML object>"
      ]
     },
     "metadata": {},
     "output_type": "display_data"
    },
    {
     "data": {
      "text/html": [],
      "text/plain": [
       "<IPython.core.display.HTML object>"
      ]
     },
     "metadata": {},
     "output_type": "display_data"
    },
    {
     "name": "stdout",
     "output_type": "stream",
     "text": [
      "Loaded model 3/3 from models/baseline/vit_tiny.pkl.\n"
     ]
    },
    {
     "data": {
      "text/html": [
       "\n",
       "<style>\n",
       "    /* Turns off some styling */\n",
       "    progress {\n",
       "        /* gets rid of default border in Firefox and Opera. */\n",
       "        border: none;\n",
       "        /* Needs to be in here for Safari polyfill so background images work as expected. */\n",
       "        background-size: auto;\n",
       "    }\n",
       "    progress:not([value]), progress:not([value])::-webkit-progress-bar {\n",
       "        background: repeating-linear-gradient(45deg, #7e7e7e, #7e7e7e 10px, #5c5c5c 10px, #5c5c5c 20px);\n",
       "    }\n",
       "    .progress-bar-interrupted, .progress-bar-interrupted::-webkit-progress-bar {\n",
       "        background: #F44336;\n",
       "    }\n",
       "</style>\n"
      ],
      "text/plain": [
       "<IPython.core.display.HTML object>"
      ]
     },
     "metadata": {},
     "output_type": "display_data"
    },
    {
     "data": {
      "text/html": [],
      "text/plain": [
       "<IPython.core.display.HTML object>"
      ]
     },
     "metadata": {},
     "output_type": "display_data"
    },
    {
     "name": "stdout",
     "output_type": "stream",
     "text": [
      "Ensemble predictions completed.\n",
      "Decoding predictions completed.\n",
      "Retrieved ground truth labels.\n",
      "\n",
      "Evaluating window sizes for smoothing...\n",
      "\n",
      "Window Size 1: F1 Before = 0.7945, F1 After = 0.7998\n",
      "Window Size 2: F1 Before = 0.7945, F1 After = 0.7760\n",
      "Window Size 3: F1 Before = 0.7945, F1 After = 0.7447\n",
      "Window Size 4: F1 Before = 0.7945, F1 After = 0.7170\n",
      "Window Size 5: F1 Before = 0.7945, F1 After = 0.7234\n",
      "Window Size 6: F1 Before = 0.7945, F1 After = 0.7387\n",
      "Window Size 7: F1 Before = 0.7945, F1 After = 0.6536\n",
      "Window Size 8: F1 Before = 0.7945, F1 After = 0.6335\n",
      "Window Size 9: F1 Before = 0.7945, F1 After = 0.6511\n",
      "Window Size 10: F1 Before = 0.7945, F1 After = 0.6489\n",
      "Window Size 11: F1 Before = 0.7945, F1 After = 0.6056\n",
      "Window Size 12: F1 Before = 0.7945, F1 After = 0.6034\n",
      "Window Size 13: F1 Before = 0.7945, F1 After = 0.5971\n",
      "Window Size 14: F1 Before = 0.7945, F1 After = 0.5971\n",
      "Window Size 15: F1 Before = 0.7945, F1 After = 0.5971\n",
      "Window Size 16: F1 Before = 0.7945, F1 After = 0.5971\n",
      "Window Size 17: F1 Before = 0.7945, F1 After = 0.5971\n",
      "Window Size 18: F1 Before = 0.7945, F1 After = 0.5971\n",
      "Window Size 19: F1 Before = 0.7945, F1 After = 0.5971\n",
      "Window Size 20: F1 Before = 0.7945, F1 After = 0.5971\n",
      "\n",
      "Optimal window size for case_052: 1 with F1 score: 0.7998\n",
      "\n",
      "Processing Surgery: case_053\n",
      "Number of frames in case_053: 1988\n",
      "Constructed 1988 image paths.\n",
      "Starting ensemble predictions...\n",
      "Loaded model 1/3 from models/baseline/regnety_008.pkl.\n"
     ]
    },
    {
     "data": {
      "text/html": [
       "\n",
       "<style>\n",
       "    /* Turns off some styling */\n",
       "    progress {\n",
       "        /* gets rid of default border in Firefox and Opera. */\n",
       "        border: none;\n",
       "        /* Needs to be in here for Safari polyfill so background images work as expected. */\n",
       "        background-size: auto;\n",
       "    }\n",
       "    progress:not([value]), progress:not([value])::-webkit-progress-bar {\n",
       "        background: repeating-linear-gradient(45deg, #7e7e7e, #7e7e7e 10px, #5c5c5c 10px, #5c5c5c 20px);\n",
       "    }\n",
       "    .progress-bar-interrupted, .progress-bar-interrupted::-webkit-progress-bar {\n",
       "        background: #F44336;\n",
       "    }\n",
       "</style>\n"
      ],
      "text/plain": [
       "<IPython.core.display.HTML object>"
      ]
     },
     "metadata": {},
     "output_type": "display_data"
    },
    {
     "data": {
      "text/html": [],
      "text/plain": [
       "<IPython.core.display.HTML object>"
      ]
     },
     "metadata": {},
     "output_type": "display_data"
    },
    {
     "name": "stdout",
     "output_type": "stream",
     "text": [
      "Loaded model 2/3 from models/baseline/convnextv2_tiny.pkl.\n"
     ]
    },
    {
     "data": {
      "text/html": [
       "\n",
       "<style>\n",
       "    /* Turns off some styling */\n",
       "    progress {\n",
       "        /* gets rid of default border in Firefox and Opera. */\n",
       "        border: none;\n",
       "        /* Needs to be in here for Safari polyfill so background images work as expected. */\n",
       "        background-size: auto;\n",
       "    }\n",
       "    progress:not([value]), progress:not([value])::-webkit-progress-bar {\n",
       "        background: repeating-linear-gradient(45deg, #7e7e7e, #7e7e7e 10px, #5c5c5c 10px, #5c5c5c 20px);\n",
       "    }\n",
       "    .progress-bar-interrupted, .progress-bar-interrupted::-webkit-progress-bar {\n",
       "        background: #F44336;\n",
       "    }\n",
       "</style>\n"
      ],
      "text/plain": [
       "<IPython.core.display.HTML object>"
      ]
     },
     "metadata": {},
     "output_type": "display_data"
    },
    {
     "data": {
      "text/html": [],
      "text/plain": [
       "<IPython.core.display.HTML object>"
      ]
     },
     "metadata": {},
     "output_type": "display_data"
    },
    {
     "name": "stdout",
     "output_type": "stream",
     "text": [
      "Loaded model 3/3 from models/baseline/vit_tiny.pkl.\n"
     ]
    },
    {
     "data": {
      "text/html": [
       "\n",
       "<style>\n",
       "    /* Turns off some styling */\n",
       "    progress {\n",
       "        /* gets rid of default border in Firefox and Opera. */\n",
       "        border: none;\n",
       "        /* Needs to be in here for Safari polyfill so background images work as expected. */\n",
       "        background-size: auto;\n",
       "    }\n",
       "    progress:not([value]), progress:not([value])::-webkit-progress-bar {\n",
       "        background: repeating-linear-gradient(45deg, #7e7e7e, #7e7e7e 10px, #5c5c5c 10px, #5c5c5c 20px);\n",
       "    }\n",
       "    .progress-bar-interrupted, .progress-bar-interrupted::-webkit-progress-bar {\n",
       "        background: #F44336;\n",
       "    }\n",
       "</style>\n"
      ],
      "text/plain": [
       "<IPython.core.display.HTML object>"
      ]
     },
     "metadata": {},
     "output_type": "display_data"
    },
    {
     "data": {
      "text/html": [],
      "text/plain": [
       "<IPython.core.display.HTML object>"
      ]
     },
     "metadata": {},
     "output_type": "display_data"
    },
    {
     "name": "stdout",
     "output_type": "stream",
     "text": [
      "Ensemble predictions completed.\n",
      "Decoding predictions completed.\n",
      "Retrieved ground truth labels.\n",
      "\n",
      "Evaluating window sizes for smoothing...\n",
      "\n",
      "Window Size 1: F1 Before = 0.5567, F1 After = 0.5622\n",
      "Window Size 2: F1 Before = 0.5567, F1 After = 0.5684\n",
      "Window Size 3: F1 Before = 0.5567, F1 After = 0.6543\n",
      "Window Size 4: F1 Before = 0.5567, F1 After = 0.6571\n",
      "Window Size 5: F1 Before = 0.5567, F1 After = 0.7697\n",
      "Window Size 6: F1 Before = 0.5567, F1 After = 0.7682\n",
      "Window Size 7: F1 Before = 0.5567, F1 After = 0.7682\n",
      "Window Size 8: F1 Before = 0.5567, F1 After = 0.7679\n",
      "Window Size 9: F1 Before = 0.5567, F1 After = 0.7679\n",
      "Window Size 10: F1 Before = 0.5567, F1 After = 0.7679\n",
      "Window Size 11: F1 Before = 0.5567, F1 After = 0.7676\n",
      "Window Size 12: F1 Before = 0.5567, F1 After = 0.7664\n",
      "Window Size 13: F1 Before = 0.5567, F1 After = 0.7664\n",
      "Window Size 14: F1 Before = 0.5567, F1 After = 0.7666\n",
      "Window Size 15: F1 Before = 0.5567, F1 After = 0.7657\n",
      "Window Size 16: F1 Before = 0.5567, F1 After = 0.7657\n",
      "Window Size 17: F1 Before = 0.5567, F1 After = 0.7659\n",
      "Window Size 18: F1 Before = 0.5567, F1 After = 0.7662\n",
      "Window Size 19: F1 Before = 0.5567, F1 After = 0.7649\n",
      "Window Size 20: F1 Before = 0.5567, F1 After = 0.7652\n",
      "\n",
      "Optimal window size for case_053: 5 with F1 score: 0.7697\n",
      "\n",
      "Processing Surgery: case_058\n",
      "Number of frames in case_058: 1585\n",
      "Constructed 1585 image paths.\n",
      "Starting ensemble predictions...\n",
      "Loaded model 1/3 from models/baseline/regnety_008.pkl.\n"
     ]
    },
    {
     "data": {
      "text/html": [
       "\n",
       "<style>\n",
       "    /* Turns off some styling */\n",
       "    progress {\n",
       "        /* gets rid of default border in Firefox and Opera. */\n",
       "        border: none;\n",
       "        /* Needs to be in here for Safari polyfill so background images work as expected. */\n",
       "        background-size: auto;\n",
       "    }\n",
       "    progress:not([value]), progress:not([value])::-webkit-progress-bar {\n",
       "        background: repeating-linear-gradient(45deg, #7e7e7e, #7e7e7e 10px, #5c5c5c 10px, #5c5c5c 20px);\n",
       "    }\n",
       "    .progress-bar-interrupted, .progress-bar-interrupted::-webkit-progress-bar {\n",
       "        background: #F44336;\n",
       "    }\n",
       "</style>\n"
      ],
      "text/plain": [
       "<IPython.core.display.HTML object>"
      ]
     },
     "metadata": {},
     "output_type": "display_data"
    },
    {
     "data": {
      "text/html": [],
      "text/plain": [
       "<IPython.core.display.HTML object>"
      ]
     },
     "metadata": {},
     "output_type": "display_data"
    },
    {
     "name": "stdout",
     "output_type": "stream",
     "text": [
      "Loaded model 2/3 from models/baseline/convnextv2_tiny.pkl.\n"
     ]
    },
    {
     "data": {
      "text/html": [
       "\n",
       "<style>\n",
       "    /* Turns off some styling */\n",
       "    progress {\n",
       "        /* gets rid of default border in Firefox and Opera. */\n",
       "        border: none;\n",
       "        /* Needs to be in here for Safari polyfill so background images work as expected. */\n",
       "        background-size: auto;\n",
       "    }\n",
       "    progress:not([value]), progress:not([value])::-webkit-progress-bar {\n",
       "        background: repeating-linear-gradient(45deg, #7e7e7e, #7e7e7e 10px, #5c5c5c 10px, #5c5c5c 20px);\n",
       "    }\n",
       "    .progress-bar-interrupted, .progress-bar-interrupted::-webkit-progress-bar {\n",
       "        background: #F44336;\n",
       "    }\n",
       "</style>\n"
      ],
      "text/plain": [
       "<IPython.core.display.HTML object>"
      ]
     },
     "metadata": {},
     "output_type": "display_data"
    },
    {
     "data": {
      "text/html": [],
      "text/plain": [
       "<IPython.core.display.HTML object>"
      ]
     },
     "metadata": {},
     "output_type": "display_data"
    },
    {
     "name": "stdout",
     "output_type": "stream",
     "text": [
      "Loaded model 3/3 from models/baseline/vit_tiny.pkl.\n"
     ]
    },
    {
     "data": {
      "text/html": [
       "\n",
       "<style>\n",
       "    /* Turns off some styling */\n",
       "    progress {\n",
       "        /* gets rid of default border in Firefox and Opera. */\n",
       "        border: none;\n",
       "        /* Needs to be in here for Safari polyfill so background images work as expected. */\n",
       "        background-size: auto;\n",
       "    }\n",
       "    progress:not([value]), progress:not([value])::-webkit-progress-bar {\n",
       "        background: repeating-linear-gradient(45deg, #7e7e7e, #7e7e7e 10px, #5c5c5c 10px, #5c5c5c 20px);\n",
       "    }\n",
       "    .progress-bar-interrupted, .progress-bar-interrupted::-webkit-progress-bar {\n",
       "        background: #F44336;\n",
       "    }\n",
       "</style>\n"
      ],
      "text/plain": [
       "<IPython.core.display.HTML object>"
      ]
     },
     "metadata": {},
     "output_type": "display_data"
    },
    {
     "data": {
      "text/html": [],
      "text/plain": [
       "<IPython.core.display.HTML object>"
      ]
     },
     "metadata": {},
     "output_type": "display_data"
    },
    {
     "name": "stdout",
     "output_type": "stream",
     "text": [
      "Ensemble predictions completed.\n",
      "Decoding predictions completed.\n",
      "Retrieved ground truth labels.\n",
      "\n",
      "Evaluating window sizes for smoothing...\n",
      "\n",
      "Window Size 1: F1 Before = 0.6301, F1 After = 0.6298\n",
      "Window Size 2: F1 Before = 0.6301, F1 After = 0.6296\n",
      "Window Size 3: F1 Before = 0.6301, F1 After = 0.6289\n",
      "Window Size 4: F1 Before = 0.6301, F1 After = 0.6285\n",
      "Window Size 5: F1 Before = 0.6301, F1 After = 0.6286\n",
      "Window Size 6: F1 Before = 0.6301, F1 After = 0.6291\n",
      "Window Size 7: F1 Before = 0.6301, F1 After = 0.6306\n",
      "Window Size 8: F1 Before = 0.6301, F1 After = 0.6309\n",
      "Window Size 9: F1 Before = 0.6301, F1 After = 0.6309\n",
      "Window Size 10: F1 Before = 0.6301, F1 After = 0.6310\n",
      "Window Size 11: F1 Before = 0.6301, F1 After = 0.6313\n",
      "Window Size 12: F1 Before = 0.6301, F1 After = 0.6318\n",
      "Window Size 13: F1 Before = 0.6301, F1 After = 0.6327\n",
      "Window Size 14: F1 Before = 0.6301, F1 After = 0.9487\n",
      "Window Size 15: F1 Before = 0.6301, F1 After = 0.9495\n",
      "Window Size 16: F1 Before = 0.6301, F1 After = 0.9502\n",
      "Window Size 17: F1 Before = 0.6301, F1 After = 0.9502\n",
      "Window Size 18: F1 Before = 0.6301, F1 After = 0.9510\n",
      "Window Size 19: F1 Before = 0.6301, F1 After = 0.9510\n",
      "Window Size 20: F1 Before = 0.6301, F1 After = 0.9510\n",
      "\n",
      "Optimal window size for case_058: 18 with F1 score: 0.9510\n",
      "\n",
      "Processing Surgery: case_059\n",
      "Number of frames in case_059: 1558\n",
      "Constructed 1558 image paths.\n",
      "Starting ensemble predictions...\n",
      "Loaded model 1/3 from models/baseline/regnety_008.pkl.\n"
     ]
    },
    {
     "data": {
      "text/html": [
       "\n",
       "<style>\n",
       "    /* Turns off some styling */\n",
       "    progress {\n",
       "        /* gets rid of default border in Firefox and Opera. */\n",
       "        border: none;\n",
       "        /* Needs to be in here for Safari polyfill so background images work as expected. */\n",
       "        background-size: auto;\n",
       "    }\n",
       "    progress:not([value]), progress:not([value])::-webkit-progress-bar {\n",
       "        background: repeating-linear-gradient(45deg, #7e7e7e, #7e7e7e 10px, #5c5c5c 10px, #5c5c5c 20px);\n",
       "    }\n",
       "    .progress-bar-interrupted, .progress-bar-interrupted::-webkit-progress-bar {\n",
       "        background: #F44336;\n",
       "    }\n",
       "</style>\n"
      ],
      "text/plain": [
       "<IPython.core.display.HTML object>"
      ]
     },
     "metadata": {},
     "output_type": "display_data"
    },
    {
     "data": {
      "text/html": [],
      "text/plain": [
       "<IPython.core.display.HTML object>"
      ]
     },
     "metadata": {},
     "output_type": "display_data"
    },
    {
     "name": "stdout",
     "output_type": "stream",
     "text": [
      "Loaded model 2/3 from models/baseline/convnextv2_tiny.pkl.\n"
     ]
    },
    {
     "data": {
      "text/html": [
       "\n",
       "<style>\n",
       "    /* Turns off some styling */\n",
       "    progress {\n",
       "        /* gets rid of default border in Firefox and Opera. */\n",
       "        border: none;\n",
       "        /* Needs to be in here for Safari polyfill so background images work as expected. */\n",
       "        background-size: auto;\n",
       "    }\n",
       "    progress:not([value]), progress:not([value])::-webkit-progress-bar {\n",
       "        background: repeating-linear-gradient(45deg, #7e7e7e, #7e7e7e 10px, #5c5c5c 10px, #5c5c5c 20px);\n",
       "    }\n",
       "    .progress-bar-interrupted, .progress-bar-interrupted::-webkit-progress-bar {\n",
       "        background: #F44336;\n",
       "    }\n",
       "</style>\n"
      ],
      "text/plain": [
       "<IPython.core.display.HTML object>"
      ]
     },
     "metadata": {},
     "output_type": "display_data"
    },
    {
     "data": {
      "text/html": [],
      "text/plain": [
       "<IPython.core.display.HTML object>"
      ]
     },
     "metadata": {},
     "output_type": "display_data"
    },
    {
     "name": "stdout",
     "output_type": "stream",
     "text": [
      "Loaded model 3/3 from models/baseline/vit_tiny.pkl.\n"
     ]
    },
    {
     "data": {
      "text/html": [
       "\n",
       "<style>\n",
       "    /* Turns off some styling */\n",
       "    progress {\n",
       "        /* gets rid of default border in Firefox and Opera. */\n",
       "        border: none;\n",
       "        /* Needs to be in here for Safari polyfill so background images work as expected. */\n",
       "        background-size: auto;\n",
       "    }\n",
       "    progress:not([value]), progress:not([value])::-webkit-progress-bar {\n",
       "        background: repeating-linear-gradient(45deg, #7e7e7e, #7e7e7e 10px, #5c5c5c 10px, #5c5c5c 20px);\n",
       "    }\n",
       "    .progress-bar-interrupted, .progress-bar-interrupted::-webkit-progress-bar {\n",
       "        background: #F44336;\n",
       "    }\n",
       "</style>\n"
      ],
      "text/plain": [
       "<IPython.core.display.HTML object>"
      ]
     },
     "metadata": {},
     "output_type": "display_data"
    },
    {
     "data": {
      "text/html": [],
      "text/plain": [
       "<IPython.core.display.HTML object>"
      ]
     },
     "metadata": {},
     "output_type": "display_data"
    },
    {
     "name": "stdout",
     "output_type": "stream",
     "text": [
      "Ensemble predictions completed.\n",
      "Decoding predictions completed.\n",
      "Retrieved ground truth labels.\n",
      "\n",
      "Evaluating window sizes for smoothing...\n",
      "\n",
      "Window Size 1: F1 Before = 0.8247, F1 After = 0.8403\n",
      "Window Size 2: F1 Before = 0.8247, F1 After = 0.8398\n",
      "Window Size 3: F1 Before = 0.8247, F1 After = 0.8383\n",
      "Window Size 4: F1 Before = 0.8247, F1 After = 0.8296\n",
      "Window Size 5: F1 Before = 0.8247, F1 After = 0.8260\n",
      "Window Size 6: F1 Before = 0.8247, F1 After = 0.8328\n",
      "Window Size 7: F1 Before = 0.8247, F1 After = 0.8230\n",
      "Window Size 8: F1 Before = 0.8247, F1 After = 0.8279\n",
      "Window Size 9: F1 Before = 0.8247, F1 After = 0.8191\n",
      "Window Size 10: F1 Before = 0.8247, F1 After = 0.8183\n",
      "Window Size 11: F1 Before = 0.8247, F1 After = 0.8175\n",
      "Window Size 12: F1 Before = 0.8247, F1 After = 0.8084\n",
      "Window Size 13: F1 Before = 0.8247, F1 After = 0.7911\n",
      "Window Size 14: F1 Before = 0.8247, F1 After = 0.7913\n",
      "Window Size 15: F1 Before = 0.8247, F1 After = 0.7927\n",
      "Window Size 16: F1 Before = 0.8247, F1 After = 0.7862\n",
      "Window Size 17: F1 Before = 0.8247, F1 After = 0.7837\n",
      "Window Size 18: F1 Before = 0.8247, F1 After = 0.7803\n",
      "Window Size 19: F1 Before = 0.8247, F1 After = 0.7774\n",
      "Window Size 20: F1 Before = 0.8247, F1 After = 0.7766\n",
      "\n",
      "Optimal window size for case_059: 1 with F1 score: 0.8403\n",
      "\n",
      "Processing Surgery: case_065\n",
      "Number of frames in case_065: 2093\n",
      "Constructed 2093 image paths.\n",
      "Starting ensemble predictions...\n",
      "Loaded model 1/3 from models/baseline/regnety_008.pkl.\n"
     ]
    },
    {
     "data": {
      "text/html": [
       "\n",
       "<style>\n",
       "    /* Turns off some styling */\n",
       "    progress {\n",
       "        /* gets rid of default border in Firefox and Opera. */\n",
       "        border: none;\n",
       "        /* Needs to be in here for Safari polyfill so background images work as expected. */\n",
       "        background-size: auto;\n",
       "    }\n",
       "    progress:not([value]), progress:not([value])::-webkit-progress-bar {\n",
       "        background: repeating-linear-gradient(45deg, #7e7e7e, #7e7e7e 10px, #5c5c5c 10px, #5c5c5c 20px);\n",
       "    }\n",
       "    .progress-bar-interrupted, .progress-bar-interrupted::-webkit-progress-bar {\n",
       "        background: #F44336;\n",
       "    }\n",
       "</style>\n"
      ],
      "text/plain": [
       "<IPython.core.display.HTML object>"
      ]
     },
     "metadata": {},
     "output_type": "display_data"
    },
    {
     "data": {
      "text/html": [],
      "text/plain": [
       "<IPython.core.display.HTML object>"
      ]
     },
     "metadata": {},
     "output_type": "display_data"
    },
    {
     "name": "stdout",
     "output_type": "stream",
     "text": [
      "Loaded model 2/3 from models/baseline/convnextv2_tiny.pkl.\n"
     ]
    },
    {
     "data": {
      "text/html": [
       "\n",
       "<style>\n",
       "    /* Turns off some styling */\n",
       "    progress {\n",
       "        /* gets rid of default border in Firefox and Opera. */\n",
       "        border: none;\n",
       "        /* Needs to be in here for Safari polyfill so background images work as expected. */\n",
       "        background-size: auto;\n",
       "    }\n",
       "    progress:not([value]), progress:not([value])::-webkit-progress-bar {\n",
       "        background: repeating-linear-gradient(45deg, #7e7e7e, #7e7e7e 10px, #5c5c5c 10px, #5c5c5c 20px);\n",
       "    }\n",
       "    .progress-bar-interrupted, .progress-bar-interrupted::-webkit-progress-bar {\n",
       "        background: #F44336;\n",
       "    }\n",
       "</style>\n"
      ],
      "text/plain": [
       "<IPython.core.display.HTML object>"
      ]
     },
     "metadata": {},
     "output_type": "display_data"
    },
    {
     "data": {
      "text/html": [],
      "text/plain": [
       "<IPython.core.display.HTML object>"
      ]
     },
     "metadata": {},
     "output_type": "display_data"
    },
    {
     "name": "stdout",
     "output_type": "stream",
     "text": [
      "Loaded model 3/3 from models/baseline/vit_tiny.pkl.\n"
     ]
    },
    {
     "data": {
      "text/html": [
       "\n",
       "<style>\n",
       "    /* Turns off some styling */\n",
       "    progress {\n",
       "        /* gets rid of default border in Firefox and Opera. */\n",
       "        border: none;\n",
       "        /* Needs to be in here for Safari polyfill so background images work as expected. */\n",
       "        background-size: auto;\n",
       "    }\n",
       "    progress:not([value]), progress:not([value])::-webkit-progress-bar {\n",
       "        background: repeating-linear-gradient(45deg, #7e7e7e, #7e7e7e 10px, #5c5c5c 10px, #5c5c5c 20px);\n",
       "    }\n",
       "    .progress-bar-interrupted, .progress-bar-interrupted::-webkit-progress-bar {\n",
       "        background: #F44336;\n",
       "    }\n",
       "</style>\n"
      ],
      "text/plain": [
       "<IPython.core.display.HTML object>"
      ]
     },
     "metadata": {},
     "output_type": "display_data"
    },
    {
     "data": {
      "text/html": [],
      "text/plain": [
       "<IPython.core.display.HTML object>"
      ]
     },
     "metadata": {},
     "output_type": "display_data"
    },
    {
     "name": "stdout",
     "output_type": "stream",
     "text": [
      "Ensemble predictions completed.\n",
      "Decoding predictions completed.\n",
      "Retrieved ground truth labels.\n",
      "\n",
      "Evaluating window sizes for smoothing...\n",
      "\n",
      "Window Size 1: F1 Before = 0.8065, F1 After = 0.8181\n",
      "Window Size 2: F1 Before = 0.8065, F1 After = 0.8110\n",
      "Window Size 3: F1 Before = 0.8065, F1 After = 0.8073\n",
      "Window Size 4: F1 Before = 0.8065, F1 After = 0.8137\n",
      "Window Size 5: F1 Before = 0.8065, F1 After = 0.8162\n",
      "Window Size 6: F1 Before = 0.8065, F1 After = 0.8217\n",
      "Window Size 7: F1 Before = 0.8065, F1 After = 0.8218\n",
      "Window Size 8: F1 Before = 0.8065, F1 After = 0.8258\n",
      "Window Size 9: F1 Before = 0.8065, F1 After = 0.8132\n",
      "Window Size 10: F1 Before = 0.8065, F1 After = 0.8146\n",
      "Window Size 11: F1 Before = 0.8065, F1 After = 0.7359\n",
      "Window Size 12: F1 Before = 0.8065, F1 After = 0.7357\n",
      "Window Size 13: F1 Before = 0.8065, F1 After = 0.7378\n",
      "Window Size 14: F1 Before = 0.8065, F1 After = 0.7397\n",
      "Window Size 15: F1 Before = 0.8065, F1 After = 0.7401\n",
      "Window Size 16: F1 Before = 0.8065, F1 After = 0.7408\n",
      "Window Size 17: F1 Before = 0.8065, F1 After = 0.7410\n",
      "Window Size 18: F1 Before = 0.8065, F1 After = 0.7422\n",
      "Window Size 19: F1 Before = 0.8065, F1 After = 0.7459\n",
      "Window Size 20: F1 Before = 0.8065, F1 After = 0.7462\n",
      "\n",
      "Optimal window size for case_065: 8 with F1 score: 0.8258\n",
      "\n",
      "Processing Surgery: case_067\n",
      "Number of frames in case_067: 1762\n",
      "Constructed 1762 image paths.\n",
      "Starting ensemble predictions...\n",
      "Loaded model 1/3 from models/baseline/regnety_008.pkl.\n"
     ]
    },
    {
     "data": {
      "text/html": [
       "\n",
       "<style>\n",
       "    /* Turns off some styling */\n",
       "    progress {\n",
       "        /* gets rid of default border in Firefox and Opera. */\n",
       "        border: none;\n",
       "        /* Needs to be in here for Safari polyfill so background images work as expected. */\n",
       "        background-size: auto;\n",
       "    }\n",
       "    progress:not([value]), progress:not([value])::-webkit-progress-bar {\n",
       "        background: repeating-linear-gradient(45deg, #7e7e7e, #7e7e7e 10px, #5c5c5c 10px, #5c5c5c 20px);\n",
       "    }\n",
       "    .progress-bar-interrupted, .progress-bar-interrupted::-webkit-progress-bar {\n",
       "        background: #F44336;\n",
       "    }\n",
       "</style>\n"
      ],
      "text/plain": [
       "<IPython.core.display.HTML object>"
      ]
     },
     "metadata": {},
     "output_type": "display_data"
    },
    {
     "data": {
      "text/html": [],
      "text/plain": [
       "<IPython.core.display.HTML object>"
      ]
     },
     "metadata": {},
     "output_type": "display_data"
    },
    {
     "name": "stdout",
     "output_type": "stream",
     "text": [
      "Loaded model 2/3 from models/baseline/convnextv2_tiny.pkl.\n"
     ]
    },
    {
     "data": {
      "text/html": [
       "\n",
       "<style>\n",
       "    /* Turns off some styling */\n",
       "    progress {\n",
       "        /* gets rid of default border in Firefox and Opera. */\n",
       "        border: none;\n",
       "        /* Needs to be in here for Safari polyfill so background images work as expected. */\n",
       "        background-size: auto;\n",
       "    }\n",
       "    progress:not([value]), progress:not([value])::-webkit-progress-bar {\n",
       "        background: repeating-linear-gradient(45deg, #7e7e7e, #7e7e7e 10px, #5c5c5c 10px, #5c5c5c 20px);\n",
       "    }\n",
       "    .progress-bar-interrupted, .progress-bar-interrupted::-webkit-progress-bar {\n",
       "        background: #F44336;\n",
       "    }\n",
       "</style>\n"
      ],
      "text/plain": [
       "<IPython.core.display.HTML object>"
      ]
     },
     "metadata": {},
     "output_type": "display_data"
    },
    {
     "data": {
      "text/html": [],
      "text/plain": [
       "<IPython.core.display.HTML object>"
      ]
     },
     "metadata": {},
     "output_type": "display_data"
    },
    {
     "name": "stdout",
     "output_type": "stream",
     "text": [
      "Loaded model 3/3 from models/baseline/vit_tiny.pkl.\n"
     ]
    },
    {
     "data": {
      "text/html": [
       "\n",
       "<style>\n",
       "    /* Turns off some styling */\n",
       "    progress {\n",
       "        /* gets rid of default border in Firefox and Opera. */\n",
       "        border: none;\n",
       "        /* Needs to be in here for Safari polyfill so background images work as expected. */\n",
       "        background-size: auto;\n",
       "    }\n",
       "    progress:not([value]), progress:not([value])::-webkit-progress-bar {\n",
       "        background: repeating-linear-gradient(45deg, #7e7e7e, #7e7e7e 10px, #5c5c5c 10px, #5c5c5c 20px);\n",
       "    }\n",
       "    .progress-bar-interrupted, .progress-bar-interrupted::-webkit-progress-bar {\n",
       "        background: #F44336;\n",
       "    }\n",
       "</style>\n"
      ],
      "text/plain": [
       "<IPython.core.display.HTML object>"
      ]
     },
     "metadata": {},
     "output_type": "display_data"
    },
    {
     "data": {
      "text/html": [],
      "text/plain": [
       "<IPython.core.display.HTML object>"
      ]
     },
     "metadata": {},
     "output_type": "display_data"
    },
    {
     "name": "stdout",
     "output_type": "stream",
     "text": [
      "Ensemble predictions completed.\n",
      "Decoding predictions completed.\n",
      "Retrieved ground truth labels.\n",
      "\n",
      "Evaluating window sizes for smoothing...\n",
      "\n",
      "Window Size 1: F1 Before = 0.7062, F1 After = 0.7148\n",
      "Window Size 2: F1 Before = 0.7062, F1 After = 0.8156\n",
      "Window Size 3: F1 Before = 0.7062, F1 After = 0.8154\n",
      "Window Size 4: F1 Before = 0.7062, F1 After = 0.8121\n",
      "Window Size 5: F1 Before = 0.7062, F1 After = 0.8147\n",
      "Window Size 6: F1 Before = 0.7062, F1 After = 0.8181\n",
      "Window Size 7: F1 Before = 0.7062, F1 After = 0.8190\n",
      "Window Size 8: F1 Before = 0.7062, F1 After = 0.8203\n",
      "Window Size 9: F1 Before = 0.7062, F1 After = 0.8199\n",
      "Window Size 10: F1 Before = 0.7062, F1 After = 0.8219\n",
      "Window Size 11: F1 Before = 0.7062, F1 After = 0.8227\n",
      "Window Size 12: F1 Before = 0.7062, F1 After = 0.8217\n",
      "Window Size 13: F1 Before = 0.7062, F1 After = 0.8204\n",
      "Window Size 14: F1 Before = 0.7062, F1 After = 0.8206\n",
      "Window Size 15: F1 Before = 0.7062, F1 After = 0.8208\n",
      "Window Size 16: F1 Before = 0.7062, F1 After = 0.8236\n",
      "Window Size 17: F1 Before = 0.7062, F1 After = 0.8230\n",
      "Window Size 18: F1 Before = 0.7062, F1 After = 0.8237\n",
      "Window Size 19: F1 Before = 0.7062, F1 After = 0.8190\n",
      "Window Size 20: F1 Before = 0.7062, F1 After = 0.8182\n",
      "\n",
      "Optimal window size for case_067: 18 with F1 score: 0.8237\n",
      "\n",
      "Processing Surgery: case_074\n",
      "Number of frames in case_074: 2110\n",
      "Constructed 2110 image paths.\n",
      "Starting ensemble predictions...\n",
      "Loaded model 1/3 from models/baseline/regnety_008.pkl.\n"
     ]
    },
    {
     "data": {
      "text/html": [
       "\n",
       "<style>\n",
       "    /* Turns off some styling */\n",
       "    progress {\n",
       "        /* gets rid of default border in Firefox and Opera. */\n",
       "        border: none;\n",
       "        /* Needs to be in here for Safari polyfill so background images work as expected. */\n",
       "        background-size: auto;\n",
       "    }\n",
       "    progress:not([value]), progress:not([value])::-webkit-progress-bar {\n",
       "        background: repeating-linear-gradient(45deg, #7e7e7e, #7e7e7e 10px, #5c5c5c 10px, #5c5c5c 20px);\n",
       "    }\n",
       "    .progress-bar-interrupted, .progress-bar-interrupted::-webkit-progress-bar {\n",
       "        background: #F44336;\n",
       "    }\n",
       "</style>\n"
      ],
      "text/plain": [
       "<IPython.core.display.HTML object>"
      ]
     },
     "metadata": {},
     "output_type": "display_data"
    },
    {
     "data": {
      "text/html": [],
      "text/plain": [
       "<IPython.core.display.HTML object>"
      ]
     },
     "metadata": {},
     "output_type": "display_data"
    },
    {
     "name": "stdout",
     "output_type": "stream",
     "text": [
      "Loaded model 2/3 from models/baseline/convnextv2_tiny.pkl.\n"
     ]
    },
    {
     "data": {
      "text/html": [
       "\n",
       "<style>\n",
       "    /* Turns off some styling */\n",
       "    progress {\n",
       "        /* gets rid of default border in Firefox and Opera. */\n",
       "        border: none;\n",
       "        /* Needs to be in here for Safari polyfill so background images work as expected. */\n",
       "        background-size: auto;\n",
       "    }\n",
       "    progress:not([value]), progress:not([value])::-webkit-progress-bar {\n",
       "        background: repeating-linear-gradient(45deg, #7e7e7e, #7e7e7e 10px, #5c5c5c 10px, #5c5c5c 20px);\n",
       "    }\n",
       "    .progress-bar-interrupted, .progress-bar-interrupted::-webkit-progress-bar {\n",
       "        background: #F44336;\n",
       "    }\n",
       "</style>\n"
      ],
      "text/plain": [
       "<IPython.core.display.HTML object>"
      ]
     },
     "metadata": {},
     "output_type": "display_data"
    },
    {
     "data": {
      "text/html": [],
      "text/plain": [
       "<IPython.core.display.HTML object>"
      ]
     },
     "metadata": {},
     "output_type": "display_data"
    },
    {
     "name": "stdout",
     "output_type": "stream",
     "text": [
      "Loaded model 3/3 from models/baseline/vit_tiny.pkl.\n"
     ]
    },
    {
     "data": {
      "text/html": [
       "\n",
       "<style>\n",
       "    /* Turns off some styling */\n",
       "    progress {\n",
       "        /* gets rid of default border in Firefox and Opera. */\n",
       "        border: none;\n",
       "        /* Needs to be in here for Safari polyfill so background images work as expected. */\n",
       "        background-size: auto;\n",
       "    }\n",
       "    progress:not([value]), progress:not([value])::-webkit-progress-bar {\n",
       "        background: repeating-linear-gradient(45deg, #7e7e7e, #7e7e7e 10px, #5c5c5c 10px, #5c5c5c 20px);\n",
       "    }\n",
       "    .progress-bar-interrupted, .progress-bar-interrupted::-webkit-progress-bar {\n",
       "        background: #F44336;\n",
       "    }\n",
       "</style>\n"
      ],
      "text/plain": [
       "<IPython.core.display.HTML object>"
      ]
     },
     "metadata": {},
     "output_type": "display_data"
    },
    {
     "data": {
      "text/html": [],
      "text/plain": [
       "<IPython.core.display.HTML object>"
      ]
     },
     "metadata": {},
     "output_type": "display_data"
    },
    {
     "name": "stdout",
     "output_type": "stream",
     "text": [
      "Ensemble predictions completed.\n",
      "Decoding predictions completed.\n",
      "Retrieved ground truth labels.\n",
      "\n",
      "Evaluating window sizes for smoothing...\n",
      "\n",
      "Window Size 1: F1 Before = 0.6507, F1 After = 0.6536\n",
      "Window Size 2: F1 Before = 0.6507, F1 After = 0.6583\n",
      "Window Size 3: F1 Before = 0.6507, F1 After = 0.6563\n",
      "Window Size 4: F1 Before = 0.6507, F1 After = 0.6565\n",
      "Window Size 5: F1 Before = 0.6507, F1 After = 0.6383\n",
      "Window Size 6: F1 Before = 0.6507, F1 After = 0.6240\n",
      "Window Size 7: F1 Before = 0.6507, F1 After = 0.6148\n",
      "Window Size 8: F1 Before = 0.6507, F1 After = 0.6151\n",
      "Window Size 9: F1 Before = 0.6507, F1 After = 0.6159\n",
      "Window Size 10: F1 Before = 0.6507, F1 After = 0.6157\n",
      "Window Size 11: F1 Before = 0.6507, F1 After = 0.6179\n",
      "Window Size 12: F1 Before = 0.6507, F1 After = 0.6148\n",
      "Window Size 13: F1 Before = 0.6507, F1 After = 0.6119\n",
      "Window Size 14: F1 Before = 0.6507, F1 After = 0.6125\n",
      "Window Size 15: F1 Before = 0.6507, F1 After = 0.6149\n",
      "Window Size 16: F1 Before = 0.6507, F1 After = 0.6147\n",
      "Window Size 17: F1 Before = 0.6507, F1 After = 0.5490\n",
      "Window Size 18: F1 Before = 0.6507, F1 After = 0.4877\n",
      "Window Size 19: F1 Before = 0.6507, F1 After = 0.4894\n",
      "Window Size 20: F1 Before = 0.6507, F1 After = 0.4874\n",
      "\n",
      "Optimal window size for case_074: 2 with F1 score: 0.6583\n",
      "\n",
      "Processing Surgery: case_076\n",
      "Number of frames in case_076: 1743\n",
      "Constructed 1743 image paths.\n",
      "Starting ensemble predictions...\n",
      "Loaded model 1/3 from models/baseline/regnety_008.pkl.\n"
     ]
    },
    {
     "data": {
      "text/html": [
       "\n",
       "<style>\n",
       "    /* Turns off some styling */\n",
       "    progress {\n",
       "        /* gets rid of default border in Firefox and Opera. */\n",
       "        border: none;\n",
       "        /* Needs to be in here for Safari polyfill so background images work as expected. */\n",
       "        background-size: auto;\n",
       "    }\n",
       "    progress:not([value]), progress:not([value])::-webkit-progress-bar {\n",
       "        background: repeating-linear-gradient(45deg, #7e7e7e, #7e7e7e 10px, #5c5c5c 10px, #5c5c5c 20px);\n",
       "    }\n",
       "    .progress-bar-interrupted, .progress-bar-interrupted::-webkit-progress-bar {\n",
       "        background: #F44336;\n",
       "    }\n",
       "</style>\n"
      ],
      "text/plain": [
       "<IPython.core.display.HTML object>"
      ]
     },
     "metadata": {},
     "output_type": "display_data"
    },
    {
     "data": {
      "text/html": [],
      "text/plain": [
       "<IPython.core.display.HTML object>"
      ]
     },
     "metadata": {},
     "output_type": "display_data"
    },
    {
     "name": "stdout",
     "output_type": "stream",
     "text": [
      "Loaded model 2/3 from models/baseline/convnextv2_tiny.pkl.\n"
     ]
    },
    {
     "data": {
      "text/html": [
       "\n",
       "<style>\n",
       "    /* Turns off some styling */\n",
       "    progress {\n",
       "        /* gets rid of default border in Firefox and Opera. */\n",
       "        border: none;\n",
       "        /* Needs to be in here for Safari polyfill so background images work as expected. */\n",
       "        background-size: auto;\n",
       "    }\n",
       "    progress:not([value]), progress:not([value])::-webkit-progress-bar {\n",
       "        background: repeating-linear-gradient(45deg, #7e7e7e, #7e7e7e 10px, #5c5c5c 10px, #5c5c5c 20px);\n",
       "    }\n",
       "    .progress-bar-interrupted, .progress-bar-interrupted::-webkit-progress-bar {\n",
       "        background: #F44336;\n",
       "    }\n",
       "</style>\n"
      ],
      "text/plain": [
       "<IPython.core.display.HTML object>"
      ]
     },
     "metadata": {},
     "output_type": "display_data"
    },
    {
     "data": {
      "text/html": [],
      "text/plain": [
       "<IPython.core.display.HTML object>"
      ]
     },
     "metadata": {},
     "output_type": "display_data"
    },
    {
     "name": "stdout",
     "output_type": "stream",
     "text": [
      "Loaded model 3/3 from models/baseline/vit_tiny.pkl.\n"
     ]
    },
    {
     "data": {
      "text/html": [
       "\n",
       "<style>\n",
       "    /* Turns off some styling */\n",
       "    progress {\n",
       "        /* gets rid of default border in Firefox and Opera. */\n",
       "        border: none;\n",
       "        /* Needs to be in here for Safari polyfill so background images work as expected. */\n",
       "        background-size: auto;\n",
       "    }\n",
       "    progress:not([value]), progress:not([value])::-webkit-progress-bar {\n",
       "        background: repeating-linear-gradient(45deg, #7e7e7e, #7e7e7e 10px, #5c5c5c 10px, #5c5c5c 20px);\n",
       "    }\n",
       "    .progress-bar-interrupted, .progress-bar-interrupted::-webkit-progress-bar {\n",
       "        background: #F44336;\n",
       "    }\n",
       "</style>\n"
      ],
      "text/plain": [
       "<IPython.core.display.HTML object>"
      ]
     },
     "metadata": {},
     "output_type": "display_data"
    },
    {
     "data": {
      "text/html": [],
      "text/plain": [
       "<IPython.core.display.HTML object>"
      ]
     },
     "metadata": {},
     "output_type": "display_data"
    },
    {
     "name": "stdout",
     "output_type": "stream",
     "text": [
      "Ensemble predictions completed.\n",
      "Decoding predictions completed.\n",
      "Retrieved ground truth labels.\n",
      "\n",
      "Evaluating window sizes for smoothing...\n",
      "\n",
      "Window Size 1: F1 Before = 0.6406, F1 After = 0.7567\n",
      "Window Size 2: F1 Before = 0.6406, F1 After = 0.7592\n",
      "Window Size 3: F1 Before = 0.6406, F1 After = 0.7648\n",
      "Window Size 4: F1 Before = 0.6406, F1 After = 0.9227\n",
      "Window Size 5: F1 Before = 0.6406, F1 After = 0.9279\n",
      "Window Size 6: F1 Before = 0.6406, F1 After = 0.9293\n",
      "Window Size 7: F1 Before = 0.6406, F1 After = 0.9348\n",
      "Window Size 8: F1 Before = 0.6406, F1 After = 0.9340\n",
      "Window Size 9: F1 Before = 0.6406, F1 After = 0.9359\n",
      "Window Size 10: F1 Before = 0.6406, F1 After = 0.9365\n",
      "Window Size 11: F1 Before = 0.6406, F1 After = 0.9368\n",
      "Window Size 12: F1 Before = 0.6406, F1 After = 0.9395\n",
      "Window Size 13: F1 Before = 0.6406, F1 After = 0.9408\n",
      "Window Size 14: F1 Before = 0.6406, F1 After = 0.9422\n",
      "Window Size 15: F1 Before = 0.6406, F1 After = 0.9429\n",
      "Window Size 16: F1 Before = 0.6406, F1 After = 0.9419\n",
      "Window Size 17: F1 Before = 0.6406, F1 After = 0.9413\n",
      "Window Size 18: F1 Before = 0.6406, F1 After = 0.9388\n",
      "Window Size 19: F1 Before = 0.6406, F1 After = 0.9387\n",
      "Window Size 20: F1 Before = 0.6406, F1 After = 0.9382\n",
      "\n",
      "Optimal window size for case_076: 15 with F1 score: 0.9429\n",
      "\n",
      "Processing Surgery: case_082\n",
      "Number of frames in case_082: 2137\n",
      "Constructed 2137 image paths.\n",
      "Starting ensemble predictions...\n",
      "Loaded model 1/3 from models/baseline/regnety_008.pkl.\n"
     ]
    },
    {
     "data": {
      "text/html": [
       "\n",
       "<style>\n",
       "    /* Turns off some styling */\n",
       "    progress {\n",
       "        /* gets rid of default border in Firefox and Opera. */\n",
       "        border: none;\n",
       "        /* Needs to be in here for Safari polyfill so background images work as expected. */\n",
       "        background-size: auto;\n",
       "    }\n",
       "    progress:not([value]), progress:not([value])::-webkit-progress-bar {\n",
       "        background: repeating-linear-gradient(45deg, #7e7e7e, #7e7e7e 10px, #5c5c5c 10px, #5c5c5c 20px);\n",
       "    }\n",
       "    .progress-bar-interrupted, .progress-bar-interrupted::-webkit-progress-bar {\n",
       "        background: #F44336;\n",
       "    }\n",
       "</style>\n"
      ],
      "text/plain": [
       "<IPython.core.display.HTML object>"
      ]
     },
     "metadata": {},
     "output_type": "display_data"
    },
    {
     "data": {
      "text/html": [],
      "text/plain": [
       "<IPython.core.display.HTML object>"
      ]
     },
     "metadata": {},
     "output_type": "display_data"
    },
    {
     "name": "stdout",
     "output_type": "stream",
     "text": [
      "Loaded model 2/3 from models/baseline/convnextv2_tiny.pkl.\n"
     ]
    },
    {
     "data": {
      "text/html": [
       "\n",
       "<style>\n",
       "    /* Turns off some styling */\n",
       "    progress {\n",
       "        /* gets rid of default border in Firefox and Opera. */\n",
       "        border: none;\n",
       "        /* Needs to be in here for Safari polyfill so background images work as expected. */\n",
       "        background-size: auto;\n",
       "    }\n",
       "    progress:not([value]), progress:not([value])::-webkit-progress-bar {\n",
       "        background: repeating-linear-gradient(45deg, #7e7e7e, #7e7e7e 10px, #5c5c5c 10px, #5c5c5c 20px);\n",
       "    }\n",
       "    .progress-bar-interrupted, .progress-bar-interrupted::-webkit-progress-bar {\n",
       "        background: #F44336;\n",
       "    }\n",
       "</style>\n"
      ],
      "text/plain": [
       "<IPython.core.display.HTML object>"
      ]
     },
     "metadata": {},
     "output_type": "display_data"
    },
    {
     "data": {
      "text/html": [],
      "text/plain": [
       "<IPython.core.display.HTML object>"
      ]
     },
     "metadata": {},
     "output_type": "display_data"
    },
    {
     "name": "stdout",
     "output_type": "stream",
     "text": [
      "Loaded model 3/3 from models/baseline/vit_tiny.pkl.\n"
     ]
    },
    {
     "data": {
      "text/html": [
       "\n",
       "<style>\n",
       "    /* Turns off some styling */\n",
       "    progress {\n",
       "        /* gets rid of default border in Firefox and Opera. */\n",
       "        border: none;\n",
       "        /* Needs to be in here for Safari polyfill so background images work as expected. */\n",
       "        background-size: auto;\n",
       "    }\n",
       "    progress:not([value]), progress:not([value])::-webkit-progress-bar {\n",
       "        background: repeating-linear-gradient(45deg, #7e7e7e, #7e7e7e 10px, #5c5c5c 10px, #5c5c5c 20px);\n",
       "    }\n",
       "    .progress-bar-interrupted, .progress-bar-interrupted::-webkit-progress-bar {\n",
       "        background: #F44336;\n",
       "    }\n",
       "</style>\n"
      ],
      "text/plain": [
       "<IPython.core.display.HTML object>"
      ]
     },
     "metadata": {},
     "output_type": "display_data"
    },
    {
     "data": {
      "text/html": [],
      "text/plain": [
       "<IPython.core.display.HTML object>"
      ]
     },
     "metadata": {},
     "output_type": "display_data"
    },
    {
     "name": "stdout",
     "output_type": "stream",
     "text": [
      "Ensemble predictions completed.\n",
      "Decoding predictions completed.\n",
      "Retrieved ground truth labels.\n",
      "\n",
      "Evaluating window sizes for smoothing...\n",
      "\n",
      "Window Size 1: F1 Before = 0.6629, F1 After = 0.6712\n",
      "Window Size 2: F1 Before = 0.6629, F1 After = 0.6757\n",
      "Window Size 3: F1 Before = 0.6629, F1 After = 0.7747\n",
      "Window Size 4: F1 Before = 0.6629, F1 After = 0.6748\n",
      "Window Size 5: F1 Before = 0.6629, F1 After = 0.6768\n",
      "Window Size 6: F1 Before = 0.6629, F1 After = 0.7728\n",
      "Window Size 7: F1 Before = 0.6629, F1 After = 0.7731\n",
      "Window Size 8: F1 Before = 0.6629, F1 After = 0.7737\n",
      "Window Size 9: F1 Before = 0.6629, F1 After = 0.7604\n",
      "Window Size 10: F1 Before = 0.6629, F1 After = 0.7338\n",
      "Window Size 11: F1 Before = 0.6629, F1 After = 0.7353\n",
      "Window Size 12: F1 Before = 0.6629, F1 After = 0.7257\n",
      "Window Size 13: F1 Before = 0.6629, F1 After = 0.7246\n",
      "Window Size 14: F1 Before = 0.6629, F1 After = 0.7249\n",
      "Window Size 15: F1 Before = 0.6629, F1 After = 0.7280\n",
      "Window Size 16: F1 Before = 0.6629, F1 After = 0.7254\n",
      "Window Size 17: F1 Before = 0.6629, F1 After = 0.7257\n",
      "Window Size 18: F1 Before = 0.6629, F1 After = 0.7261\n",
      "Window Size 19: F1 Before = 0.6629, F1 After = 0.7262\n",
      "Window Size 20: F1 Before = 0.6629, F1 After = 0.7238\n",
      "\n",
      "Optimal window size for case_082: 3 with F1 score: 0.7747\n",
      "\n",
      "Processing Surgery: case_083\n",
      "Number of frames in case_083: 1254\n",
      "Constructed 1254 image paths.\n",
      "Starting ensemble predictions...\n",
      "Loaded model 1/3 from models/baseline/regnety_008.pkl.\n"
     ]
    },
    {
     "data": {
      "text/html": [
       "\n",
       "<style>\n",
       "    /* Turns off some styling */\n",
       "    progress {\n",
       "        /* gets rid of default border in Firefox and Opera. */\n",
       "        border: none;\n",
       "        /* Needs to be in here for Safari polyfill so background images work as expected. */\n",
       "        background-size: auto;\n",
       "    }\n",
       "    progress:not([value]), progress:not([value])::-webkit-progress-bar {\n",
       "        background: repeating-linear-gradient(45deg, #7e7e7e, #7e7e7e 10px, #5c5c5c 10px, #5c5c5c 20px);\n",
       "    }\n",
       "    .progress-bar-interrupted, .progress-bar-interrupted::-webkit-progress-bar {\n",
       "        background: #F44336;\n",
       "    }\n",
       "</style>\n"
      ],
      "text/plain": [
       "<IPython.core.display.HTML object>"
      ]
     },
     "metadata": {},
     "output_type": "display_data"
    },
    {
     "data": {
      "text/html": [],
      "text/plain": [
       "<IPython.core.display.HTML object>"
      ]
     },
     "metadata": {},
     "output_type": "display_data"
    },
    {
     "name": "stdout",
     "output_type": "stream",
     "text": [
      "Loaded model 2/3 from models/baseline/convnextv2_tiny.pkl.\n"
     ]
    },
    {
     "data": {
      "text/html": [
       "\n",
       "<style>\n",
       "    /* Turns off some styling */\n",
       "    progress {\n",
       "        /* gets rid of default border in Firefox and Opera. */\n",
       "        border: none;\n",
       "        /* Needs to be in here for Safari polyfill so background images work as expected. */\n",
       "        background-size: auto;\n",
       "    }\n",
       "    progress:not([value]), progress:not([value])::-webkit-progress-bar {\n",
       "        background: repeating-linear-gradient(45deg, #7e7e7e, #7e7e7e 10px, #5c5c5c 10px, #5c5c5c 20px);\n",
       "    }\n",
       "    .progress-bar-interrupted, .progress-bar-interrupted::-webkit-progress-bar {\n",
       "        background: #F44336;\n",
       "    }\n",
       "</style>\n"
      ],
      "text/plain": [
       "<IPython.core.display.HTML object>"
      ]
     },
     "metadata": {},
     "output_type": "display_data"
    },
    {
     "data": {
      "text/html": [],
      "text/plain": [
       "<IPython.core.display.HTML object>"
      ]
     },
     "metadata": {},
     "output_type": "display_data"
    },
    {
     "name": "stdout",
     "output_type": "stream",
     "text": [
      "Loaded model 3/3 from models/baseline/vit_tiny.pkl.\n"
     ]
    },
    {
     "data": {
      "text/html": [
       "\n",
       "<style>\n",
       "    /* Turns off some styling */\n",
       "    progress {\n",
       "        /* gets rid of default border in Firefox and Opera. */\n",
       "        border: none;\n",
       "        /* Needs to be in here for Safari polyfill so background images work as expected. */\n",
       "        background-size: auto;\n",
       "    }\n",
       "    progress:not([value]), progress:not([value])::-webkit-progress-bar {\n",
       "        background: repeating-linear-gradient(45deg, #7e7e7e, #7e7e7e 10px, #5c5c5c 10px, #5c5c5c 20px);\n",
       "    }\n",
       "    .progress-bar-interrupted, .progress-bar-interrupted::-webkit-progress-bar {\n",
       "        background: #F44336;\n",
       "    }\n",
       "</style>\n"
      ],
      "text/plain": [
       "<IPython.core.display.HTML object>"
      ]
     },
     "metadata": {},
     "output_type": "display_data"
    },
    {
     "data": {
      "text/html": [],
      "text/plain": [
       "<IPython.core.display.HTML object>"
      ]
     },
     "metadata": {},
     "output_type": "display_data"
    },
    {
     "name": "stdout",
     "output_type": "stream",
     "text": [
      "Ensemble predictions completed.\n",
      "Decoding predictions completed.\n",
      "Retrieved ground truth labels.\n",
      "\n",
      "Evaluating window sizes for smoothing...\n",
      "\n",
      "Window Size 1: F1 Before = 0.2140, F1 After = 0.2178\n",
      "Window Size 2: F1 Before = 0.2140, F1 After = 0.2199\n",
      "Window Size 3: F1 Before = 0.2140, F1 After = 0.2517\n",
      "Window Size 4: F1 Before = 0.2140, F1 After = 0.2946\n",
      "Window Size 5: F1 Before = 0.2140, F1 After = 0.2543\n",
      "Window Size 6: F1 Before = 0.2140, F1 After = 0.2984\n",
      "Window Size 7: F1 Before = 0.2140, F1 After = 0.2989\n",
      "Window Size 8: F1 Before = 0.2140, F1 After = 0.3027\n",
      "Window Size 9: F1 Before = 0.2140, F1 After = 0.2611\n",
      "Window Size 10: F1 Before = 0.2140, F1 After = 0.3056\n",
      "Window Size 11: F1 Before = 0.2140, F1 After = 0.3056\n",
      "Window Size 12: F1 Before = 0.2140, F1 After = 0.3055\n",
      "Window Size 13: F1 Before = 0.2140, F1 After = 0.3060\n",
      "Window Size 14: F1 Before = 0.2140, F1 After = 0.3061\n",
      "Window Size 15: F1 Before = 0.2140, F1 After = 0.3062\n",
      "Window Size 16: F1 Before = 0.2140, F1 After = 0.3060\n",
      "Window Size 17: F1 Before = 0.2140, F1 After = 0.3047\n",
      "Window Size 18: F1 Before = 0.2140, F1 After = 0.3046\n",
      "Window Size 19: F1 Before = 0.2140, F1 After = 0.3048\n",
      "Window Size 20: F1 Before = 0.2140, F1 After = 0.3051\n",
      "\n",
      "Optimal window size for case_083: 15 with F1 score: 0.3062\n",
      "\n",
      "Processing Surgery: case_086\n",
      "Number of frames in case_086: 1391\n",
      "Constructed 1391 image paths.\n",
      "Starting ensemble predictions...\n",
      "Loaded model 1/3 from models/baseline/regnety_008.pkl.\n"
     ]
    },
    {
     "data": {
      "text/html": [
       "\n",
       "<style>\n",
       "    /* Turns off some styling */\n",
       "    progress {\n",
       "        /* gets rid of default border in Firefox and Opera. */\n",
       "        border: none;\n",
       "        /* Needs to be in here for Safari polyfill so background images work as expected. */\n",
       "        background-size: auto;\n",
       "    }\n",
       "    progress:not([value]), progress:not([value])::-webkit-progress-bar {\n",
       "        background: repeating-linear-gradient(45deg, #7e7e7e, #7e7e7e 10px, #5c5c5c 10px, #5c5c5c 20px);\n",
       "    }\n",
       "    .progress-bar-interrupted, .progress-bar-interrupted::-webkit-progress-bar {\n",
       "        background: #F44336;\n",
       "    }\n",
       "</style>\n"
      ],
      "text/plain": [
       "<IPython.core.display.HTML object>"
      ]
     },
     "metadata": {},
     "output_type": "display_data"
    },
    {
     "data": {
      "text/html": [],
      "text/plain": [
       "<IPython.core.display.HTML object>"
      ]
     },
     "metadata": {},
     "output_type": "display_data"
    },
    {
     "name": "stdout",
     "output_type": "stream",
     "text": [
      "Loaded model 2/3 from models/baseline/convnextv2_tiny.pkl.\n"
     ]
    },
    {
     "data": {
      "text/html": [
       "\n",
       "<style>\n",
       "    /* Turns off some styling */\n",
       "    progress {\n",
       "        /* gets rid of default border in Firefox and Opera. */\n",
       "        border: none;\n",
       "        /* Needs to be in here for Safari polyfill so background images work as expected. */\n",
       "        background-size: auto;\n",
       "    }\n",
       "    progress:not([value]), progress:not([value])::-webkit-progress-bar {\n",
       "        background: repeating-linear-gradient(45deg, #7e7e7e, #7e7e7e 10px, #5c5c5c 10px, #5c5c5c 20px);\n",
       "    }\n",
       "    .progress-bar-interrupted, .progress-bar-interrupted::-webkit-progress-bar {\n",
       "        background: #F44336;\n",
       "    }\n",
       "</style>\n"
      ],
      "text/plain": [
       "<IPython.core.display.HTML object>"
      ]
     },
     "metadata": {},
     "output_type": "display_data"
    },
    {
     "data": {
      "text/html": [],
      "text/plain": [
       "<IPython.core.display.HTML object>"
      ]
     },
     "metadata": {},
     "output_type": "display_data"
    },
    {
     "name": "stdout",
     "output_type": "stream",
     "text": [
      "Loaded model 3/3 from models/baseline/vit_tiny.pkl.\n"
     ]
    },
    {
     "data": {
      "text/html": [
       "\n",
       "<style>\n",
       "    /* Turns off some styling */\n",
       "    progress {\n",
       "        /* gets rid of default border in Firefox and Opera. */\n",
       "        border: none;\n",
       "        /* Needs to be in here for Safari polyfill so background images work as expected. */\n",
       "        background-size: auto;\n",
       "    }\n",
       "    progress:not([value]), progress:not([value])::-webkit-progress-bar {\n",
       "        background: repeating-linear-gradient(45deg, #7e7e7e, #7e7e7e 10px, #5c5c5c 10px, #5c5c5c 20px);\n",
       "    }\n",
       "    .progress-bar-interrupted, .progress-bar-interrupted::-webkit-progress-bar {\n",
       "        background: #F44336;\n",
       "    }\n",
       "</style>\n"
      ],
      "text/plain": [
       "<IPython.core.display.HTML object>"
      ]
     },
     "metadata": {},
     "output_type": "display_data"
    },
    {
     "data": {
      "text/html": [],
      "text/plain": [
       "<IPython.core.display.HTML object>"
      ]
     },
     "metadata": {},
     "output_type": "display_data"
    },
    {
     "name": "stdout",
     "output_type": "stream",
     "text": [
      "Ensemble predictions completed.\n",
      "Decoding predictions completed.\n",
      "Retrieved ground truth labels.\n",
      "\n",
      "Evaluating window sizes for smoothing...\n",
      "\n",
      "Window Size 1: F1 Before = 0.6581, F1 After = 0.6671\n",
      "Window Size 2: F1 Before = 0.6581, F1 After = 0.6702\n",
      "Window Size 3: F1 Before = 0.6581, F1 After = 0.6709\n",
      "Window Size 4: F1 Before = 0.6581, F1 After = 0.6751\n",
      "Window Size 5: F1 Before = 0.6581, F1 After = 0.7883\n",
      "Window Size 6: F1 Before = 0.6581, F1 After = 0.6757\n",
      "Window Size 7: F1 Before = 0.6581, F1 After = 0.7854\n",
      "Window Size 8: F1 Before = 0.6581, F1 After = 0.7853\n",
      "Window Size 9: F1 Before = 0.6581, F1 After = 0.7833\n",
      "Window Size 10: F1 Before = 0.6581, F1 After = 0.7800\n",
      "Window Size 11: F1 Before = 0.6581, F1 After = 0.7796\n",
      "Window Size 12: F1 Before = 0.6581, F1 After = 0.7805\n",
      "Window Size 13: F1 Before = 0.6581, F1 After = 0.7811\n",
      "Window Size 14: F1 Before = 0.6581, F1 After = 0.7825\n",
      "Window Size 15: F1 Before = 0.6581, F1 After = 0.7814\n",
      "Window Size 16: F1 Before = 0.6581, F1 After = 0.7807\n",
      "Window Size 17: F1 Before = 0.6581, F1 After = 0.7827\n",
      "Window Size 18: F1 Before = 0.6581, F1 After = 0.7843\n",
      "Window Size 19: F1 Before = 0.6581, F1 After = 0.7843\n",
      "Window Size 20: F1 Before = 0.6581, F1 After = 0.7844\n",
      "\n",
      "Optimal window size for case_086: 5 with F1 score: 0.7883\n",
      "\n",
      "Processing Surgery: case_089\n",
      "Number of frames in case_089: 2157\n",
      "Constructed 2157 image paths.\n",
      "Starting ensemble predictions...\n",
      "Loaded model 1/3 from models/baseline/regnety_008.pkl.\n"
     ]
    },
    {
     "data": {
      "text/html": [
       "\n",
       "<style>\n",
       "    /* Turns off some styling */\n",
       "    progress {\n",
       "        /* gets rid of default border in Firefox and Opera. */\n",
       "        border: none;\n",
       "        /* Needs to be in here for Safari polyfill so background images work as expected. */\n",
       "        background-size: auto;\n",
       "    }\n",
       "    progress:not([value]), progress:not([value])::-webkit-progress-bar {\n",
       "        background: repeating-linear-gradient(45deg, #7e7e7e, #7e7e7e 10px, #5c5c5c 10px, #5c5c5c 20px);\n",
       "    }\n",
       "    .progress-bar-interrupted, .progress-bar-interrupted::-webkit-progress-bar {\n",
       "        background: #F44336;\n",
       "    }\n",
       "</style>\n"
      ],
      "text/plain": [
       "<IPython.core.display.HTML object>"
      ]
     },
     "metadata": {},
     "output_type": "display_data"
    },
    {
     "data": {
      "text/html": [],
      "text/plain": [
       "<IPython.core.display.HTML object>"
      ]
     },
     "metadata": {},
     "output_type": "display_data"
    },
    {
     "name": "stdout",
     "output_type": "stream",
     "text": [
      "Loaded model 2/3 from models/baseline/convnextv2_tiny.pkl.\n"
     ]
    },
    {
     "data": {
      "text/html": [
       "\n",
       "<style>\n",
       "    /* Turns off some styling */\n",
       "    progress {\n",
       "        /* gets rid of default border in Firefox and Opera. */\n",
       "        border: none;\n",
       "        /* Needs to be in here for Safari polyfill so background images work as expected. */\n",
       "        background-size: auto;\n",
       "    }\n",
       "    progress:not([value]), progress:not([value])::-webkit-progress-bar {\n",
       "        background: repeating-linear-gradient(45deg, #7e7e7e, #7e7e7e 10px, #5c5c5c 10px, #5c5c5c 20px);\n",
       "    }\n",
       "    .progress-bar-interrupted, .progress-bar-interrupted::-webkit-progress-bar {\n",
       "        background: #F44336;\n",
       "    }\n",
       "</style>\n"
      ],
      "text/plain": [
       "<IPython.core.display.HTML object>"
      ]
     },
     "metadata": {},
     "output_type": "display_data"
    },
    {
     "data": {
      "text/html": [],
      "text/plain": [
       "<IPython.core.display.HTML object>"
      ]
     },
     "metadata": {},
     "output_type": "display_data"
    },
    {
     "name": "stdout",
     "output_type": "stream",
     "text": [
      "Loaded model 3/3 from models/baseline/vit_tiny.pkl.\n"
     ]
    },
    {
     "data": {
      "text/html": [
       "\n",
       "<style>\n",
       "    /* Turns off some styling */\n",
       "    progress {\n",
       "        /* gets rid of default border in Firefox and Opera. */\n",
       "        border: none;\n",
       "        /* Needs to be in here for Safari polyfill so background images work as expected. */\n",
       "        background-size: auto;\n",
       "    }\n",
       "    progress:not([value]), progress:not([value])::-webkit-progress-bar {\n",
       "        background: repeating-linear-gradient(45deg, #7e7e7e, #7e7e7e 10px, #5c5c5c 10px, #5c5c5c 20px);\n",
       "    }\n",
       "    .progress-bar-interrupted, .progress-bar-interrupted::-webkit-progress-bar {\n",
       "        background: #F44336;\n",
       "    }\n",
       "</style>\n"
      ],
      "text/plain": [
       "<IPython.core.display.HTML object>"
      ]
     },
     "metadata": {},
     "output_type": "display_data"
    },
    {
     "data": {
      "text/html": [],
      "text/plain": [
       "<IPython.core.display.HTML object>"
      ]
     },
     "metadata": {},
     "output_type": "display_data"
    },
    {
     "name": "stdout",
     "output_type": "stream",
     "text": [
      "Ensemble predictions completed.\n",
      "Decoding predictions completed.\n",
      "Retrieved ground truth labels.\n",
      "\n",
      "Evaluating window sizes for smoothing...\n",
      "\n",
      "Window Size 1: F1 Before = 0.7763, F1 After = 0.7756\n",
      "Window Size 2: F1 Before = 0.7763, F1 After = 0.7806\n",
      "Window Size 3: F1 Before = 0.7763, F1 After = 0.7719\n",
      "Window Size 4: F1 Before = 0.7763, F1 After = 0.7627\n",
      "Window Size 5: F1 Before = 0.7763, F1 After = 0.7535\n",
      "Window Size 6: F1 Before = 0.7763, F1 After = 0.7210\n",
      "Window Size 7: F1 Before = 0.7763, F1 After = 0.7219\n",
      "Window Size 8: F1 Before = 0.7763, F1 After = 0.8252\n",
      "Window Size 9: F1 Before = 0.7763, F1 After = 0.8332\n",
      "Window Size 10: F1 Before = 0.7763, F1 After = 0.8355\n",
      "Window Size 11: F1 Before = 0.7763, F1 After = 0.8367\n",
      "Window Size 12: F1 Before = 0.7763, F1 After = 0.8364\n",
      "Window Size 13: F1 Before = 0.7763, F1 After = 0.8364\n",
      "Window Size 14: F1 Before = 0.7763, F1 After = 0.8364\n",
      "Window Size 15: F1 Before = 0.7763, F1 After = 0.8364\n",
      "Window Size 16: F1 Before = 0.7763, F1 After = 0.8364\n",
      "Window Size 17: F1 Before = 0.7763, F1 After = 0.8377\n",
      "Window Size 18: F1 Before = 0.7763, F1 After = 0.8378\n",
      "Window Size 19: F1 Before = 0.7763, F1 After = 0.8382\n",
      "Window Size 20: F1 Before = 0.7763, F1 After = 0.8366\n",
      "\n",
      "Optimal window size for case_089: 19 with F1 score: 0.8382\n",
      "\n",
      "Processing Surgery: case_093\n",
      "Number of frames in case_093: 1777\n",
      "Constructed 1777 image paths.\n",
      "Starting ensemble predictions...\n",
      "Loaded model 1/3 from models/baseline/regnety_008.pkl.\n"
     ]
    },
    {
     "data": {
      "text/html": [
       "\n",
       "<style>\n",
       "    /* Turns off some styling */\n",
       "    progress {\n",
       "        /* gets rid of default border in Firefox and Opera. */\n",
       "        border: none;\n",
       "        /* Needs to be in here for Safari polyfill so background images work as expected. */\n",
       "        background-size: auto;\n",
       "    }\n",
       "    progress:not([value]), progress:not([value])::-webkit-progress-bar {\n",
       "        background: repeating-linear-gradient(45deg, #7e7e7e, #7e7e7e 10px, #5c5c5c 10px, #5c5c5c 20px);\n",
       "    }\n",
       "    .progress-bar-interrupted, .progress-bar-interrupted::-webkit-progress-bar {\n",
       "        background: #F44336;\n",
       "    }\n",
       "</style>\n"
      ],
      "text/plain": [
       "<IPython.core.display.HTML object>"
      ]
     },
     "metadata": {},
     "output_type": "display_data"
    },
    {
     "data": {
      "text/html": [],
      "text/plain": [
       "<IPython.core.display.HTML object>"
      ]
     },
     "metadata": {},
     "output_type": "display_data"
    },
    {
     "name": "stdout",
     "output_type": "stream",
     "text": [
      "Loaded model 2/3 from models/baseline/convnextv2_tiny.pkl.\n"
     ]
    },
    {
     "data": {
      "text/html": [
       "\n",
       "<style>\n",
       "    /* Turns off some styling */\n",
       "    progress {\n",
       "        /* gets rid of default border in Firefox and Opera. */\n",
       "        border: none;\n",
       "        /* Needs to be in here for Safari polyfill so background images work as expected. */\n",
       "        background-size: auto;\n",
       "    }\n",
       "    progress:not([value]), progress:not([value])::-webkit-progress-bar {\n",
       "        background: repeating-linear-gradient(45deg, #7e7e7e, #7e7e7e 10px, #5c5c5c 10px, #5c5c5c 20px);\n",
       "    }\n",
       "    .progress-bar-interrupted, .progress-bar-interrupted::-webkit-progress-bar {\n",
       "        background: #F44336;\n",
       "    }\n",
       "</style>\n"
      ],
      "text/plain": [
       "<IPython.core.display.HTML object>"
      ]
     },
     "metadata": {},
     "output_type": "display_data"
    },
    {
     "data": {
      "text/html": [],
      "text/plain": [
       "<IPython.core.display.HTML object>"
      ]
     },
     "metadata": {},
     "output_type": "display_data"
    },
    {
     "name": "stdout",
     "output_type": "stream",
     "text": [
      "Loaded model 3/3 from models/baseline/vit_tiny.pkl.\n"
     ]
    },
    {
     "data": {
      "text/html": [
       "\n",
       "<style>\n",
       "    /* Turns off some styling */\n",
       "    progress {\n",
       "        /* gets rid of default border in Firefox and Opera. */\n",
       "        border: none;\n",
       "        /* Needs to be in here for Safari polyfill so background images work as expected. */\n",
       "        background-size: auto;\n",
       "    }\n",
       "    progress:not([value]), progress:not([value])::-webkit-progress-bar {\n",
       "        background: repeating-linear-gradient(45deg, #7e7e7e, #7e7e7e 10px, #5c5c5c 10px, #5c5c5c 20px);\n",
       "    }\n",
       "    .progress-bar-interrupted, .progress-bar-interrupted::-webkit-progress-bar {\n",
       "        background: #F44336;\n",
       "    }\n",
       "</style>\n"
      ],
      "text/plain": [
       "<IPython.core.display.HTML object>"
      ]
     },
     "metadata": {},
     "output_type": "display_data"
    },
    {
     "data": {
      "text/html": [],
      "text/plain": [
       "<IPython.core.display.HTML object>"
      ]
     },
     "metadata": {},
     "output_type": "display_data"
    },
    {
     "name": "stdout",
     "output_type": "stream",
     "text": [
      "Ensemble predictions completed.\n",
      "Decoding predictions completed.\n",
      "Retrieved ground truth labels.\n",
      "\n",
      "Evaluating window sizes for smoothing...\n",
      "\n",
      "Window Size 1: F1 Before = 0.6666, F1 After = 0.7784\n",
      "Window Size 2: F1 Before = 0.6666, F1 After = 0.7829\n",
      "Window Size 3: F1 Before = 0.6666, F1 After = 0.7822\n",
      "Window Size 4: F1 Before = 0.6666, F1 After = 0.7836\n",
      "Window Size 5: F1 Before = 0.6666, F1 After = 0.7855\n",
      "Window Size 6: F1 Before = 0.6666, F1 After = 0.7855\n",
      "Window Size 7: F1 Before = 0.6666, F1 After = 0.7858\n",
      "Window Size 8: F1 Before = 0.6666, F1 After = 0.7894\n",
      "Window Size 9: F1 Before = 0.6666, F1 After = 0.7890\n",
      "Window Size 10: F1 Before = 0.6666, F1 After = 0.7871\n",
      "Window Size 11: F1 Before = 0.6666, F1 After = 0.7855\n",
      "Window Size 12: F1 Before = 0.6666, F1 After = 0.7863\n",
      "Window Size 13: F1 Before = 0.6666, F1 After = 0.7836\n",
      "Window Size 14: F1 Before = 0.6666, F1 After = 0.7821\n",
      "Window Size 15: F1 Before = 0.6666, F1 After = 0.7809\n",
      "Window Size 16: F1 Before = 0.6666, F1 After = 0.7809\n",
      "Window Size 17: F1 Before = 0.6666, F1 After = 0.7781\n",
      "Window Size 18: F1 Before = 0.6666, F1 After = 0.7771\n",
      "Window Size 19: F1 Before = 0.6666, F1 After = 0.7758\n",
      "Window Size 20: F1 Before = 0.6666, F1 After = 0.7745\n",
      "\n",
      "Optimal window size for case_093: 8 with F1 score: 0.7894\n",
      "\n",
      "Processing Surgery: case_097\n",
      "Number of frames in case_097: 2280\n",
      "Constructed 2280 image paths.\n",
      "Starting ensemble predictions...\n",
      "Loaded model 1/3 from models/baseline/regnety_008.pkl.\n"
     ]
    },
    {
     "data": {
      "text/html": [
       "\n",
       "<style>\n",
       "    /* Turns off some styling */\n",
       "    progress {\n",
       "        /* gets rid of default border in Firefox and Opera. */\n",
       "        border: none;\n",
       "        /* Needs to be in here for Safari polyfill so background images work as expected. */\n",
       "        background-size: auto;\n",
       "    }\n",
       "    progress:not([value]), progress:not([value])::-webkit-progress-bar {\n",
       "        background: repeating-linear-gradient(45deg, #7e7e7e, #7e7e7e 10px, #5c5c5c 10px, #5c5c5c 20px);\n",
       "    }\n",
       "    .progress-bar-interrupted, .progress-bar-interrupted::-webkit-progress-bar {\n",
       "        background: #F44336;\n",
       "    }\n",
       "</style>\n"
      ],
      "text/plain": [
       "<IPython.core.display.HTML object>"
      ]
     },
     "metadata": {},
     "output_type": "display_data"
    },
    {
     "data": {
      "text/html": [],
      "text/plain": [
       "<IPython.core.display.HTML object>"
      ]
     },
     "metadata": {},
     "output_type": "display_data"
    },
    {
     "name": "stdout",
     "output_type": "stream",
     "text": [
      "Loaded model 2/3 from models/baseline/convnextv2_tiny.pkl.\n"
     ]
    },
    {
     "data": {
      "text/html": [
       "\n",
       "<style>\n",
       "    /* Turns off some styling */\n",
       "    progress {\n",
       "        /* gets rid of default border in Firefox and Opera. */\n",
       "        border: none;\n",
       "        /* Needs to be in here for Safari polyfill so background images work as expected. */\n",
       "        background-size: auto;\n",
       "    }\n",
       "    progress:not([value]), progress:not([value])::-webkit-progress-bar {\n",
       "        background: repeating-linear-gradient(45deg, #7e7e7e, #7e7e7e 10px, #5c5c5c 10px, #5c5c5c 20px);\n",
       "    }\n",
       "    .progress-bar-interrupted, .progress-bar-interrupted::-webkit-progress-bar {\n",
       "        background: #F44336;\n",
       "    }\n",
       "</style>\n"
      ],
      "text/plain": [
       "<IPython.core.display.HTML object>"
      ]
     },
     "metadata": {},
     "output_type": "display_data"
    },
    {
     "data": {
      "text/html": [],
      "text/plain": [
       "<IPython.core.display.HTML object>"
      ]
     },
     "metadata": {},
     "output_type": "display_data"
    },
    {
     "name": "stdout",
     "output_type": "stream",
     "text": [
      "Loaded model 3/3 from models/baseline/vit_tiny.pkl.\n"
     ]
    },
    {
     "data": {
      "text/html": [
       "\n",
       "<style>\n",
       "    /* Turns off some styling */\n",
       "    progress {\n",
       "        /* gets rid of default border in Firefox and Opera. */\n",
       "        border: none;\n",
       "        /* Needs to be in here for Safari polyfill so background images work as expected. */\n",
       "        background-size: auto;\n",
       "    }\n",
       "    progress:not([value]), progress:not([value])::-webkit-progress-bar {\n",
       "        background: repeating-linear-gradient(45deg, #7e7e7e, #7e7e7e 10px, #5c5c5c 10px, #5c5c5c 20px);\n",
       "    }\n",
       "    .progress-bar-interrupted, .progress-bar-interrupted::-webkit-progress-bar {\n",
       "        background: #F44336;\n",
       "    }\n",
       "</style>\n"
      ],
      "text/plain": [
       "<IPython.core.display.HTML object>"
      ]
     },
     "metadata": {},
     "output_type": "display_data"
    },
    {
     "data": {
      "text/html": [],
      "text/plain": [
       "<IPython.core.display.HTML object>"
      ]
     },
     "metadata": {},
     "output_type": "display_data"
    },
    {
     "name": "stdout",
     "output_type": "stream",
     "text": [
      "Ensemble predictions completed.\n",
      "Decoding predictions completed.\n",
      "Retrieved ground truth labels.\n",
      "\n",
      "Evaluating window sizes for smoothing...\n",
      "\n",
      "Window Size 1: F1 Before = 0.6919, F1 After = 0.7058\n",
      "Window Size 2: F1 Before = 0.6919, F1 After = 0.7096\n",
      "Window Size 3: F1 Before = 0.6919, F1 After = 0.7134\n",
      "Window Size 4: F1 Before = 0.6919, F1 After = 0.7133\n",
      "Window Size 5: F1 Before = 0.6919, F1 After = 0.7086\n",
      "Window Size 6: F1 Before = 0.6919, F1 After = 0.7178\n",
      "Window Size 7: F1 Before = 0.6919, F1 After = 0.7179\n",
      "Window Size 8: F1 Before = 0.6919, F1 After = 0.7259\n",
      "Window Size 9: F1 Before = 0.6919, F1 After = 0.7212\n",
      "Window Size 10: F1 Before = 0.6919, F1 After = 0.7248\n",
      "Window Size 11: F1 Before = 0.6919, F1 After = 0.7299\n",
      "Window Size 12: F1 Before = 0.6919, F1 After = 0.7302\n",
      "Window Size 13: F1 Before = 0.6919, F1 After = 0.7308\n",
      "Window Size 14: F1 Before = 0.6919, F1 After = 0.7304\n",
      "Window Size 15: F1 Before = 0.6919, F1 After = 0.7286\n",
      "Window Size 16: F1 Before = 0.6919, F1 After = 0.7363\n",
      "Window Size 17: F1 Before = 0.6919, F1 After = 0.7416\n",
      "Window Size 18: F1 Before = 0.6919, F1 After = 0.7474\n",
      "Window Size 19: F1 Before = 0.6919, F1 After = 0.7506\n",
      "Window Size 20: F1 Before = 0.6919, F1 After = 0.7499\n",
      "\n",
      "Optimal window size for case_097: 19 with F1 score: 0.7506\n",
      "\n",
      "Processing Surgery: case_109\n",
      "Number of frames in case_109: 2202\n",
      "Constructed 2202 image paths.\n",
      "Starting ensemble predictions...\n",
      "Loaded model 1/3 from models/baseline/regnety_008.pkl.\n"
     ]
    },
    {
     "data": {
      "text/html": [
       "\n",
       "<style>\n",
       "    /* Turns off some styling */\n",
       "    progress {\n",
       "        /* gets rid of default border in Firefox and Opera. */\n",
       "        border: none;\n",
       "        /* Needs to be in here for Safari polyfill so background images work as expected. */\n",
       "        background-size: auto;\n",
       "    }\n",
       "    progress:not([value]), progress:not([value])::-webkit-progress-bar {\n",
       "        background: repeating-linear-gradient(45deg, #7e7e7e, #7e7e7e 10px, #5c5c5c 10px, #5c5c5c 20px);\n",
       "    }\n",
       "    .progress-bar-interrupted, .progress-bar-interrupted::-webkit-progress-bar {\n",
       "        background: #F44336;\n",
       "    }\n",
       "</style>\n"
      ],
      "text/plain": [
       "<IPython.core.display.HTML object>"
      ]
     },
     "metadata": {},
     "output_type": "display_data"
    },
    {
     "data": {
      "text/html": [],
      "text/plain": [
       "<IPython.core.display.HTML object>"
      ]
     },
     "metadata": {},
     "output_type": "display_data"
    },
    {
     "name": "stdout",
     "output_type": "stream",
     "text": [
      "Loaded model 2/3 from models/baseline/convnextv2_tiny.pkl.\n"
     ]
    },
    {
     "data": {
      "text/html": [
       "\n",
       "<style>\n",
       "    /* Turns off some styling */\n",
       "    progress {\n",
       "        /* gets rid of default border in Firefox and Opera. */\n",
       "        border: none;\n",
       "        /* Needs to be in here for Safari polyfill so background images work as expected. */\n",
       "        background-size: auto;\n",
       "    }\n",
       "    progress:not([value]), progress:not([value])::-webkit-progress-bar {\n",
       "        background: repeating-linear-gradient(45deg, #7e7e7e, #7e7e7e 10px, #5c5c5c 10px, #5c5c5c 20px);\n",
       "    }\n",
       "    .progress-bar-interrupted, .progress-bar-interrupted::-webkit-progress-bar {\n",
       "        background: #F44336;\n",
       "    }\n",
       "</style>\n"
      ],
      "text/plain": [
       "<IPython.core.display.HTML object>"
      ]
     },
     "metadata": {},
     "output_type": "display_data"
    },
    {
     "data": {
      "text/html": [],
      "text/plain": [
       "<IPython.core.display.HTML object>"
      ]
     },
     "metadata": {},
     "output_type": "display_data"
    },
    {
     "name": "stdout",
     "output_type": "stream",
     "text": [
      "Loaded model 3/3 from models/baseline/vit_tiny.pkl.\n"
     ]
    },
    {
     "data": {
      "text/html": [
       "\n",
       "<style>\n",
       "    /* Turns off some styling */\n",
       "    progress {\n",
       "        /* gets rid of default border in Firefox and Opera. */\n",
       "        border: none;\n",
       "        /* Needs to be in here for Safari polyfill so background images work as expected. */\n",
       "        background-size: auto;\n",
       "    }\n",
       "    progress:not([value]), progress:not([value])::-webkit-progress-bar {\n",
       "        background: repeating-linear-gradient(45deg, #7e7e7e, #7e7e7e 10px, #5c5c5c 10px, #5c5c5c 20px);\n",
       "    }\n",
       "    .progress-bar-interrupted, .progress-bar-interrupted::-webkit-progress-bar {\n",
       "        background: #F44336;\n",
       "    }\n",
       "</style>\n"
      ],
      "text/plain": [
       "<IPython.core.display.HTML object>"
      ]
     },
     "metadata": {},
     "output_type": "display_data"
    },
    {
     "data": {
      "text/html": [],
      "text/plain": [
       "<IPython.core.display.HTML object>"
      ]
     },
     "metadata": {},
     "output_type": "display_data"
    },
    {
     "name": "stdout",
     "output_type": "stream",
     "text": [
      "Ensemble predictions completed.\n",
      "Decoding predictions completed.\n",
      "Retrieved ground truth labels.\n",
      "\n",
      "Evaluating window sizes for smoothing...\n",
      "\n",
      "Window Size 1: F1 Before = 0.8310, F1 After = 0.8541\n",
      "Window Size 2: F1 Before = 0.8310, F1 After = 0.8549\n",
      "Window Size 3: F1 Before = 0.8310, F1 After = 0.8599\n",
      "Window Size 4: F1 Before = 0.8310, F1 After = 0.8633\n",
      "Window Size 5: F1 Before = 0.8310, F1 After = 0.8625\n",
      "Window Size 6: F1 Before = 0.8310, F1 After = 0.8598\n",
      "Window Size 7: F1 Before = 0.8310, F1 After = 0.8555\n",
      "Window Size 8: F1 Before = 0.8310, F1 After = 0.8555\n",
      "Window Size 9: F1 Before = 0.8310, F1 After = 0.8559\n",
      "Window Size 10: F1 Before = 0.8310, F1 After = 0.8583\n",
      "Window Size 11: F1 Before = 0.8310, F1 After = 0.8583\n",
      "Window Size 12: F1 Before = 0.8310, F1 After = 0.8609\n",
      "Window Size 13: F1 Before = 0.8310, F1 After = 0.8606\n",
      "Window Size 14: F1 Before = 0.8310, F1 After = 0.8601\n",
      "Window Size 15: F1 Before = 0.8310, F1 After = 0.8599\n",
      "Window Size 16: F1 Before = 0.8310, F1 After = 0.8598\n",
      "Window Size 17: F1 Before = 0.8310, F1 After = 0.8607\n",
      "Window Size 18: F1 Before = 0.8310, F1 After = 0.8648\n",
      "Window Size 19: F1 Before = 0.8310, F1 After = 0.8705\n",
      "Window Size 20: F1 Before = 0.8310, F1 After = 0.8746\n",
      "\n",
      "Optimal window size for case_109: 20 with F1 score: 0.8746\n",
      "\n",
      "Processing Surgery: case_112\n",
      "Number of frames in case_112: 904\n",
      "Constructed 904 image paths.\n",
      "Starting ensemble predictions...\n",
      "Loaded model 1/3 from models/baseline/regnety_008.pkl.\n"
     ]
    },
    {
     "data": {
      "text/html": [
       "\n",
       "<style>\n",
       "    /* Turns off some styling */\n",
       "    progress {\n",
       "        /* gets rid of default border in Firefox and Opera. */\n",
       "        border: none;\n",
       "        /* Needs to be in here for Safari polyfill so background images work as expected. */\n",
       "        background-size: auto;\n",
       "    }\n",
       "    progress:not([value]), progress:not([value])::-webkit-progress-bar {\n",
       "        background: repeating-linear-gradient(45deg, #7e7e7e, #7e7e7e 10px, #5c5c5c 10px, #5c5c5c 20px);\n",
       "    }\n",
       "    .progress-bar-interrupted, .progress-bar-interrupted::-webkit-progress-bar {\n",
       "        background: #F44336;\n",
       "    }\n",
       "</style>\n"
      ],
      "text/plain": [
       "<IPython.core.display.HTML object>"
      ]
     },
     "metadata": {},
     "output_type": "display_data"
    },
    {
     "data": {
      "text/html": [],
      "text/plain": [
       "<IPython.core.display.HTML object>"
      ]
     },
     "metadata": {},
     "output_type": "display_data"
    },
    {
     "name": "stdout",
     "output_type": "stream",
     "text": [
      "Loaded model 2/3 from models/baseline/convnextv2_tiny.pkl.\n"
     ]
    },
    {
     "data": {
      "text/html": [
       "\n",
       "<style>\n",
       "    /* Turns off some styling */\n",
       "    progress {\n",
       "        /* gets rid of default border in Firefox and Opera. */\n",
       "        border: none;\n",
       "        /* Needs to be in here for Safari polyfill so background images work as expected. */\n",
       "        background-size: auto;\n",
       "    }\n",
       "    progress:not([value]), progress:not([value])::-webkit-progress-bar {\n",
       "        background: repeating-linear-gradient(45deg, #7e7e7e, #7e7e7e 10px, #5c5c5c 10px, #5c5c5c 20px);\n",
       "    }\n",
       "    .progress-bar-interrupted, .progress-bar-interrupted::-webkit-progress-bar {\n",
       "        background: #F44336;\n",
       "    }\n",
       "</style>\n"
      ],
      "text/plain": [
       "<IPython.core.display.HTML object>"
      ]
     },
     "metadata": {},
     "output_type": "display_data"
    },
    {
     "data": {
      "text/html": [],
      "text/plain": [
       "<IPython.core.display.HTML object>"
      ]
     },
     "metadata": {},
     "output_type": "display_data"
    },
    {
     "name": "stdout",
     "output_type": "stream",
     "text": [
      "Loaded model 3/3 from models/baseline/vit_tiny.pkl.\n"
     ]
    },
    {
     "data": {
      "text/html": [
       "\n",
       "<style>\n",
       "    /* Turns off some styling */\n",
       "    progress {\n",
       "        /* gets rid of default border in Firefox and Opera. */\n",
       "        border: none;\n",
       "        /* Needs to be in here for Safari polyfill so background images work as expected. */\n",
       "        background-size: auto;\n",
       "    }\n",
       "    progress:not([value]), progress:not([value])::-webkit-progress-bar {\n",
       "        background: repeating-linear-gradient(45deg, #7e7e7e, #7e7e7e 10px, #5c5c5c 10px, #5c5c5c 20px);\n",
       "    }\n",
       "    .progress-bar-interrupted, .progress-bar-interrupted::-webkit-progress-bar {\n",
       "        background: #F44336;\n",
       "    }\n",
       "</style>\n"
      ],
      "text/plain": [
       "<IPython.core.display.HTML object>"
      ]
     },
     "metadata": {},
     "output_type": "display_data"
    },
    {
     "data": {
      "text/html": [],
      "text/plain": [
       "<IPython.core.display.HTML object>"
      ]
     },
     "metadata": {},
     "output_type": "display_data"
    },
    {
     "name": "stdout",
     "output_type": "stream",
     "text": [
      "Ensemble predictions completed.\n",
      "Decoding predictions completed.\n",
      "Retrieved ground truth labels.\n",
      "\n",
      "Evaluating window sizes for smoothing...\n",
      "\n",
      "Window Size 1: F1 Before = 0.1421, F1 After = 0.1449\n",
      "Window Size 2: F1 Before = 0.1421, F1 After = 0.1394\n",
      "Window Size 3: F1 Before = 0.1421, F1 After = 0.1459\n",
      "Window Size 4: F1 Before = 0.1421, F1 After = 0.1458\n",
      "Window Size 5: F1 Before = 0.1421, F1 After = 0.1712\n",
      "Window Size 6: F1 Before = 0.1421, F1 After = 0.1742\n",
      "Window Size 7: F1 Before = 0.1421, F1 After = 0.2042\n",
      "Window Size 8: F1 Before = 0.1421, F1 After = 0.2046\n",
      "Window Size 9: F1 Before = 0.1421, F1 After = 0.1910\n",
      "Window Size 10: F1 Before = 0.1421, F1 After = 0.1869\n",
      "Window Size 11: F1 Before = 0.1421, F1 After = 0.1861\n",
      "Window Size 12: F1 Before = 0.1421, F1 After = 0.1793\n",
      "Window Size 13: F1 Before = 0.1421, F1 After = 0.1700\n",
      "Window Size 14: F1 Before = 0.1421, F1 After = 0.1650\n",
      "Window Size 15: F1 Before = 0.1421, F1 After = 0.1652\n",
      "Window Size 16: F1 Before = 0.1421, F1 After = 0.1650\n",
      "Window Size 17: F1 Before = 0.1421, F1 After = 0.1650\n",
      "Window Size 18: F1 Before = 0.1421, F1 After = 0.1650\n",
      "Window Size 19: F1 Before = 0.1421, F1 After = 0.1652\n",
      "Window Size 20: F1 Before = 0.1421, F1 After = 0.1644\n",
      "\n",
      "Optimal window size for case_112: 8 with F1 score: 0.2046\n",
      "\n",
      "Processing Surgery: case_116\n",
      "Number of frames in case_116: 1597\n",
      "Constructed 1597 image paths.\n",
      "Starting ensemble predictions...\n",
      "Loaded model 1/3 from models/baseline/regnety_008.pkl.\n"
     ]
    },
    {
     "data": {
      "text/html": [
       "\n",
       "<style>\n",
       "    /* Turns off some styling */\n",
       "    progress {\n",
       "        /* gets rid of default border in Firefox and Opera. */\n",
       "        border: none;\n",
       "        /* Needs to be in here for Safari polyfill so background images work as expected. */\n",
       "        background-size: auto;\n",
       "    }\n",
       "    progress:not([value]), progress:not([value])::-webkit-progress-bar {\n",
       "        background: repeating-linear-gradient(45deg, #7e7e7e, #7e7e7e 10px, #5c5c5c 10px, #5c5c5c 20px);\n",
       "    }\n",
       "    .progress-bar-interrupted, .progress-bar-interrupted::-webkit-progress-bar {\n",
       "        background: #F44336;\n",
       "    }\n",
       "</style>\n"
      ],
      "text/plain": [
       "<IPython.core.display.HTML object>"
      ]
     },
     "metadata": {},
     "output_type": "display_data"
    },
    {
     "data": {
      "text/html": [],
      "text/plain": [
       "<IPython.core.display.HTML object>"
      ]
     },
     "metadata": {},
     "output_type": "display_data"
    },
    {
     "name": "stdout",
     "output_type": "stream",
     "text": [
      "Loaded model 2/3 from models/baseline/convnextv2_tiny.pkl.\n"
     ]
    },
    {
     "data": {
      "text/html": [
       "\n",
       "<style>\n",
       "    /* Turns off some styling */\n",
       "    progress {\n",
       "        /* gets rid of default border in Firefox and Opera. */\n",
       "        border: none;\n",
       "        /* Needs to be in here for Safari polyfill so background images work as expected. */\n",
       "        background-size: auto;\n",
       "    }\n",
       "    progress:not([value]), progress:not([value])::-webkit-progress-bar {\n",
       "        background: repeating-linear-gradient(45deg, #7e7e7e, #7e7e7e 10px, #5c5c5c 10px, #5c5c5c 20px);\n",
       "    }\n",
       "    .progress-bar-interrupted, .progress-bar-interrupted::-webkit-progress-bar {\n",
       "        background: #F44336;\n",
       "    }\n",
       "</style>\n"
      ],
      "text/plain": [
       "<IPython.core.display.HTML object>"
      ]
     },
     "metadata": {},
     "output_type": "display_data"
    },
    {
     "data": {
      "text/html": [],
      "text/plain": [
       "<IPython.core.display.HTML object>"
      ]
     },
     "metadata": {},
     "output_type": "display_data"
    },
    {
     "name": "stdout",
     "output_type": "stream",
     "text": [
      "Loaded model 3/3 from models/baseline/vit_tiny.pkl.\n"
     ]
    },
    {
     "data": {
      "text/html": [
       "\n",
       "<style>\n",
       "    /* Turns off some styling */\n",
       "    progress {\n",
       "        /* gets rid of default border in Firefox and Opera. */\n",
       "        border: none;\n",
       "        /* Needs to be in here for Safari polyfill so background images work as expected. */\n",
       "        background-size: auto;\n",
       "    }\n",
       "    progress:not([value]), progress:not([value])::-webkit-progress-bar {\n",
       "        background: repeating-linear-gradient(45deg, #7e7e7e, #7e7e7e 10px, #5c5c5c 10px, #5c5c5c 20px);\n",
       "    }\n",
       "    .progress-bar-interrupted, .progress-bar-interrupted::-webkit-progress-bar {\n",
       "        background: #F44336;\n",
       "    }\n",
       "</style>\n"
      ],
      "text/plain": [
       "<IPython.core.display.HTML object>"
      ]
     },
     "metadata": {},
     "output_type": "display_data"
    },
    {
     "data": {
      "text/html": [],
      "text/plain": [
       "<IPython.core.display.HTML object>"
      ]
     },
     "metadata": {},
     "output_type": "display_data"
    },
    {
     "name": "stdout",
     "output_type": "stream",
     "text": [
      "Ensemble predictions completed.\n",
      "Decoding predictions completed.\n",
      "Retrieved ground truth labels.\n",
      "\n",
      "Evaluating window sizes for smoothing...\n",
      "\n",
      "Window Size 1: F1 Before = 0.5815, F1 After = 0.6732\n",
      "Window Size 2: F1 Before = 0.5815, F1 After = 0.6766\n",
      "Window Size 3: F1 Before = 0.5815, F1 After = 0.6786\n",
      "Window Size 4: F1 Before = 0.5815, F1 After = 0.6800\n",
      "Window Size 5: F1 Before = 0.5815, F1 After = 0.6824\n",
      "Window Size 6: F1 Before = 0.5815, F1 After = 0.6842\n",
      "Window Size 7: F1 Before = 0.5815, F1 After = 0.6836\n",
      "Window Size 8: F1 Before = 0.5815, F1 After = 0.6837\n",
      "Window Size 9: F1 Before = 0.5815, F1 After = 0.6847\n",
      "Window Size 10: F1 Before = 0.5815, F1 After = 0.6838\n",
      "Window Size 11: F1 Before = 0.5815, F1 After = 0.6847\n",
      "Window Size 12: F1 Before = 0.5815, F1 After = 0.6862\n",
      "Window Size 13: F1 Before = 0.5815, F1 After = 0.6864\n",
      "Window Size 14: F1 Before = 0.5815, F1 After = 0.6839\n",
      "Window Size 15: F1 Before = 0.5815, F1 After = 0.6842\n",
      "Window Size 16: F1 Before = 0.5815, F1 After = 0.6819\n",
      "Window Size 17: F1 Before = 0.5815, F1 After = 0.6812\n",
      "Window Size 18: F1 Before = 0.5815, F1 After = 0.6804\n",
      "Window Size 19: F1 Before = 0.5815, F1 After = 0.7931\n",
      "Window Size 20: F1 Before = 0.5815, F1 After = 0.7922\n",
      "\n",
      "Optimal window size for case_116: 19 with F1 score: 0.7931\n",
      "\n",
      "Processing Surgery: case_121\n",
      "Number of frames in case_121: 1743\n",
      "Constructed 1743 image paths.\n",
      "Starting ensemble predictions...\n",
      "Loaded model 1/3 from models/baseline/regnety_008.pkl.\n"
     ]
    },
    {
     "data": {
      "text/html": [
       "\n",
       "<style>\n",
       "    /* Turns off some styling */\n",
       "    progress {\n",
       "        /* gets rid of default border in Firefox and Opera. */\n",
       "        border: none;\n",
       "        /* Needs to be in here for Safari polyfill so background images work as expected. */\n",
       "        background-size: auto;\n",
       "    }\n",
       "    progress:not([value]), progress:not([value])::-webkit-progress-bar {\n",
       "        background: repeating-linear-gradient(45deg, #7e7e7e, #7e7e7e 10px, #5c5c5c 10px, #5c5c5c 20px);\n",
       "    }\n",
       "    .progress-bar-interrupted, .progress-bar-interrupted::-webkit-progress-bar {\n",
       "        background: #F44336;\n",
       "    }\n",
       "</style>\n"
      ],
      "text/plain": [
       "<IPython.core.display.HTML object>"
      ]
     },
     "metadata": {},
     "output_type": "display_data"
    },
    {
     "data": {
      "text/html": [],
      "text/plain": [
       "<IPython.core.display.HTML object>"
      ]
     },
     "metadata": {},
     "output_type": "display_data"
    },
    {
     "name": "stdout",
     "output_type": "stream",
     "text": [
      "Loaded model 2/3 from models/baseline/convnextv2_tiny.pkl.\n"
     ]
    },
    {
     "data": {
      "text/html": [
       "\n",
       "<style>\n",
       "    /* Turns off some styling */\n",
       "    progress {\n",
       "        /* gets rid of default border in Firefox and Opera. */\n",
       "        border: none;\n",
       "        /* Needs to be in here for Safari polyfill so background images work as expected. */\n",
       "        background-size: auto;\n",
       "    }\n",
       "    progress:not([value]), progress:not([value])::-webkit-progress-bar {\n",
       "        background: repeating-linear-gradient(45deg, #7e7e7e, #7e7e7e 10px, #5c5c5c 10px, #5c5c5c 20px);\n",
       "    }\n",
       "    .progress-bar-interrupted, .progress-bar-interrupted::-webkit-progress-bar {\n",
       "        background: #F44336;\n",
       "    }\n",
       "</style>\n"
      ],
      "text/plain": [
       "<IPython.core.display.HTML object>"
      ]
     },
     "metadata": {},
     "output_type": "display_data"
    },
    {
     "data": {
      "text/html": [],
      "text/plain": [
       "<IPython.core.display.HTML object>"
      ]
     },
     "metadata": {},
     "output_type": "display_data"
    },
    {
     "name": "stdout",
     "output_type": "stream",
     "text": [
      "Loaded model 3/3 from models/baseline/vit_tiny.pkl.\n"
     ]
    },
    {
     "data": {
      "text/html": [
       "\n",
       "<style>\n",
       "    /* Turns off some styling */\n",
       "    progress {\n",
       "        /* gets rid of default border in Firefox and Opera. */\n",
       "        border: none;\n",
       "        /* Needs to be in here for Safari polyfill so background images work as expected. */\n",
       "        background-size: auto;\n",
       "    }\n",
       "    progress:not([value]), progress:not([value])::-webkit-progress-bar {\n",
       "        background: repeating-linear-gradient(45deg, #7e7e7e, #7e7e7e 10px, #5c5c5c 10px, #5c5c5c 20px);\n",
       "    }\n",
       "    .progress-bar-interrupted, .progress-bar-interrupted::-webkit-progress-bar {\n",
       "        background: #F44336;\n",
       "    }\n",
       "</style>\n"
      ],
      "text/plain": [
       "<IPython.core.display.HTML object>"
      ]
     },
     "metadata": {},
     "output_type": "display_data"
    },
    {
     "data": {
      "text/html": [],
      "text/plain": [
       "<IPython.core.display.HTML object>"
      ]
     },
     "metadata": {},
     "output_type": "display_data"
    },
    {
     "name": "stdout",
     "output_type": "stream",
     "text": [
      "Ensemble predictions completed.\n",
      "Decoding predictions completed.\n",
      "Retrieved ground truth labels.\n",
      "\n",
      "Evaluating window sizes for smoothing...\n",
      "\n",
      "Window Size 1: F1 Before = 0.4760, F1 After = 0.4717\n",
      "Window Size 2: F1 Before = 0.4760, F1 After = 0.4708\n",
      "Window Size 3: F1 Before = 0.4760, F1 After = 0.5411\n",
      "Window Size 4: F1 Before = 0.4760, F1 After = 0.5446\n",
      "Window Size 5: F1 Before = 0.4760, F1 After = 0.5469\n",
      "Window Size 6: F1 Before = 0.4760, F1 After = 0.5458\n",
      "Window Size 7: F1 Before = 0.4760, F1 After = 0.6384\n",
      "Window Size 8: F1 Before = 0.4760, F1 After = 0.6381\n",
      "Window Size 9: F1 Before = 0.4760, F1 After = 0.6380\n",
      "Window Size 10: F1 Before = 0.4760, F1 After = 0.6413\n",
      "Window Size 11: F1 Before = 0.4760, F1 After = 0.6391\n",
      "Window Size 12: F1 Before = 0.4760, F1 After = 0.6291\n",
      "Window Size 13: F1 Before = 0.4760, F1 After = 0.6180\n",
      "Window Size 14: F1 Before = 0.4760, F1 After = 0.5938\n",
      "Window Size 15: F1 Before = 0.4760, F1 After = 0.5933\n",
      "Window Size 16: F1 Before = 0.4760, F1 After = 0.5923\n",
      "Window Size 17: F1 Before = 0.4760, F1 After = 0.5928\n",
      "Window Size 18: F1 Before = 0.4760, F1 After = 0.5930\n",
      "Window Size 19: F1 Before = 0.4760, F1 After = 0.5930\n",
      "Window Size 20: F1 Before = 0.4760, F1 After = 0.5927\n",
      "\n",
      "Optimal window size for case_121: 10 with F1 score: 0.6413\n",
      "\n",
      "Processing Surgery: case_129\n",
      "Number of frames in case_129: 2181\n",
      "Constructed 2181 image paths.\n",
      "Starting ensemble predictions...\n",
      "Loaded model 1/3 from models/baseline/regnety_008.pkl.\n"
     ]
    },
    {
     "data": {
      "text/html": [
       "\n",
       "<style>\n",
       "    /* Turns off some styling */\n",
       "    progress {\n",
       "        /* gets rid of default border in Firefox and Opera. */\n",
       "        border: none;\n",
       "        /* Needs to be in here for Safari polyfill so background images work as expected. */\n",
       "        background-size: auto;\n",
       "    }\n",
       "    progress:not([value]), progress:not([value])::-webkit-progress-bar {\n",
       "        background: repeating-linear-gradient(45deg, #7e7e7e, #7e7e7e 10px, #5c5c5c 10px, #5c5c5c 20px);\n",
       "    }\n",
       "    .progress-bar-interrupted, .progress-bar-interrupted::-webkit-progress-bar {\n",
       "        background: #F44336;\n",
       "    }\n",
       "</style>\n"
      ],
      "text/plain": [
       "<IPython.core.display.HTML object>"
      ]
     },
     "metadata": {},
     "output_type": "display_data"
    },
    {
     "data": {
      "text/html": [],
      "text/plain": [
       "<IPython.core.display.HTML object>"
      ]
     },
     "metadata": {},
     "output_type": "display_data"
    },
    {
     "name": "stdout",
     "output_type": "stream",
     "text": [
      "Loaded model 2/3 from models/baseline/convnextv2_tiny.pkl.\n"
     ]
    },
    {
     "data": {
      "text/html": [
       "\n",
       "<style>\n",
       "    /* Turns off some styling */\n",
       "    progress {\n",
       "        /* gets rid of default border in Firefox and Opera. */\n",
       "        border: none;\n",
       "        /* Needs to be in here for Safari polyfill so background images work as expected. */\n",
       "        background-size: auto;\n",
       "    }\n",
       "    progress:not([value]), progress:not([value])::-webkit-progress-bar {\n",
       "        background: repeating-linear-gradient(45deg, #7e7e7e, #7e7e7e 10px, #5c5c5c 10px, #5c5c5c 20px);\n",
       "    }\n",
       "    .progress-bar-interrupted, .progress-bar-interrupted::-webkit-progress-bar {\n",
       "        background: #F44336;\n",
       "    }\n",
       "</style>\n"
      ],
      "text/plain": [
       "<IPython.core.display.HTML object>"
      ]
     },
     "metadata": {},
     "output_type": "display_data"
    },
    {
     "data": {
      "text/html": [],
      "text/plain": [
       "<IPython.core.display.HTML object>"
      ]
     },
     "metadata": {},
     "output_type": "display_data"
    },
    {
     "name": "stdout",
     "output_type": "stream",
     "text": [
      "Loaded model 3/3 from models/baseline/vit_tiny.pkl.\n"
     ]
    },
    {
     "data": {
      "text/html": [
       "\n",
       "<style>\n",
       "    /* Turns off some styling */\n",
       "    progress {\n",
       "        /* gets rid of default border in Firefox and Opera. */\n",
       "        border: none;\n",
       "        /* Needs to be in here for Safari polyfill so background images work as expected. */\n",
       "        background-size: auto;\n",
       "    }\n",
       "    progress:not([value]), progress:not([value])::-webkit-progress-bar {\n",
       "        background: repeating-linear-gradient(45deg, #7e7e7e, #7e7e7e 10px, #5c5c5c 10px, #5c5c5c 20px);\n",
       "    }\n",
       "    .progress-bar-interrupted, .progress-bar-interrupted::-webkit-progress-bar {\n",
       "        background: #F44336;\n",
       "    }\n",
       "</style>\n"
      ],
      "text/plain": [
       "<IPython.core.display.HTML object>"
      ]
     },
     "metadata": {},
     "output_type": "display_data"
    },
    {
     "data": {
      "text/html": [],
      "text/plain": [
       "<IPython.core.display.HTML object>"
      ]
     },
     "metadata": {},
     "output_type": "display_data"
    },
    {
     "name": "stdout",
     "output_type": "stream",
     "text": [
      "Ensemble predictions completed.\n",
      "Decoding predictions completed.\n",
      "Retrieved ground truth labels.\n",
      "\n",
      "Evaluating window sizes for smoothing...\n",
      "\n",
      "Window Size 1: F1 Before = 0.7678, F1 After = 0.7704\n",
      "Window Size 2: F1 Before = 0.7678, F1 After = 0.7767\n",
      "Window Size 3: F1 Before = 0.7678, F1 After = 0.7787\n",
      "Window Size 4: F1 Before = 0.7678, F1 After = 0.7828\n",
      "Window Size 5: F1 Before = 0.7678, F1 After = 0.7873\n",
      "Window Size 6: F1 Before = 0.7678, F1 After = 0.7810\n",
      "Window Size 7: F1 Before = 0.7678, F1 After = 0.7713\n",
      "Window Size 8: F1 Before = 0.7678, F1 After = 0.7570\n",
      "Window Size 9: F1 Before = 0.7678, F1 After = 0.7547\n",
      "Window Size 10: F1 Before = 0.7678, F1 After = 0.7449\n",
      "Window Size 11: F1 Before = 0.7678, F1 After = 0.7433\n",
      "Window Size 12: F1 Before = 0.7678, F1 After = 0.7387\n",
      "Window Size 13: F1 Before = 0.7678, F1 After = 0.7345\n",
      "Window Size 14: F1 Before = 0.7678, F1 After = 0.7190\n",
      "Window Size 15: F1 Before = 0.7678, F1 After = 0.7205\n",
      "Window Size 16: F1 Before = 0.7678, F1 After = 0.7195\n",
      "Window Size 17: F1 Before = 0.7678, F1 After = 0.7203\n",
      "Window Size 18: F1 Before = 0.7678, F1 After = 0.6202\n",
      "Window Size 19: F1 Before = 0.7678, F1 After = 0.6195\n",
      "Window Size 20: F1 Before = 0.7678, F1 After = 0.6189\n",
      "\n",
      "Optimal window size for case_129: 5 with F1 score: 0.7873\n",
      "\n",
      "Processing Surgery: case_134\n",
      "Number of frames in case_134: 2441\n",
      "Constructed 2441 image paths.\n",
      "Starting ensemble predictions...\n",
      "Loaded model 1/3 from models/baseline/regnety_008.pkl.\n"
     ]
    },
    {
     "data": {
      "text/html": [
       "\n",
       "<style>\n",
       "    /* Turns off some styling */\n",
       "    progress {\n",
       "        /* gets rid of default border in Firefox and Opera. */\n",
       "        border: none;\n",
       "        /* Needs to be in here for Safari polyfill so background images work as expected. */\n",
       "        background-size: auto;\n",
       "    }\n",
       "    progress:not([value]), progress:not([value])::-webkit-progress-bar {\n",
       "        background: repeating-linear-gradient(45deg, #7e7e7e, #7e7e7e 10px, #5c5c5c 10px, #5c5c5c 20px);\n",
       "    }\n",
       "    .progress-bar-interrupted, .progress-bar-interrupted::-webkit-progress-bar {\n",
       "        background: #F44336;\n",
       "    }\n",
       "</style>\n"
      ],
      "text/plain": [
       "<IPython.core.display.HTML object>"
      ]
     },
     "metadata": {},
     "output_type": "display_data"
    },
    {
     "data": {
      "text/html": [],
      "text/plain": [
       "<IPython.core.display.HTML object>"
      ]
     },
     "metadata": {},
     "output_type": "display_data"
    },
    {
     "name": "stdout",
     "output_type": "stream",
     "text": [
      "Loaded model 2/3 from models/baseline/convnextv2_tiny.pkl.\n"
     ]
    },
    {
     "data": {
      "text/html": [
       "\n",
       "<style>\n",
       "    /* Turns off some styling */\n",
       "    progress {\n",
       "        /* gets rid of default border in Firefox and Opera. */\n",
       "        border: none;\n",
       "        /* Needs to be in here for Safari polyfill so background images work as expected. */\n",
       "        background-size: auto;\n",
       "    }\n",
       "    progress:not([value]), progress:not([value])::-webkit-progress-bar {\n",
       "        background: repeating-linear-gradient(45deg, #7e7e7e, #7e7e7e 10px, #5c5c5c 10px, #5c5c5c 20px);\n",
       "    }\n",
       "    .progress-bar-interrupted, .progress-bar-interrupted::-webkit-progress-bar {\n",
       "        background: #F44336;\n",
       "    }\n",
       "</style>\n"
      ],
      "text/plain": [
       "<IPython.core.display.HTML object>"
      ]
     },
     "metadata": {},
     "output_type": "display_data"
    },
    {
     "data": {
      "text/html": [],
      "text/plain": [
       "<IPython.core.display.HTML object>"
      ]
     },
     "metadata": {},
     "output_type": "display_data"
    },
    {
     "name": "stdout",
     "output_type": "stream",
     "text": [
      "Loaded model 3/3 from models/baseline/vit_tiny.pkl.\n"
     ]
    },
    {
     "data": {
      "text/html": [
       "\n",
       "<style>\n",
       "    /* Turns off some styling */\n",
       "    progress {\n",
       "        /* gets rid of default border in Firefox and Opera. */\n",
       "        border: none;\n",
       "        /* Needs to be in here for Safari polyfill so background images work as expected. */\n",
       "        background-size: auto;\n",
       "    }\n",
       "    progress:not([value]), progress:not([value])::-webkit-progress-bar {\n",
       "        background: repeating-linear-gradient(45deg, #7e7e7e, #7e7e7e 10px, #5c5c5c 10px, #5c5c5c 20px);\n",
       "    }\n",
       "    .progress-bar-interrupted, .progress-bar-interrupted::-webkit-progress-bar {\n",
       "        background: #F44336;\n",
       "    }\n",
       "</style>\n"
      ],
      "text/plain": [
       "<IPython.core.display.HTML object>"
      ]
     },
     "metadata": {},
     "output_type": "display_data"
    },
    {
     "data": {
      "text/html": [],
      "text/plain": [
       "<IPython.core.display.HTML object>"
      ]
     },
     "metadata": {},
     "output_type": "display_data"
    },
    {
     "name": "stdout",
     "output_type": "stream",
     "text": [
      "Ensemble predictions completed.\n",
      "Decoding predictions completed.\n",
      "Retrieved ground truth labels.\n",
      "\n",
      "Evaluating window sizes for smoothing...\n",
      "\n",
      "Window Size 1: F1 Before = 0.7235, F1 After = 0.7333\n",
      "Window Size 2: F1 Before = 0.7235, F1 After = 0.7356\n",
      "Window Size 3: F1 Before = 0.7235, F1 After = 0.7403\n",
      "Window Size 4: F1 Before = 0.7235, F1 After = 0.7425\n",
      "Window Size 5: F1 Before = 0.7235, F1 After = 0.7421\n",
      "Window Size 6: F1 Before = 0.7235, F1 After = 0.7437\n",
      "Window Size 7: F1 Before = 0.7235, F1 After = 0.7539\n",
      "Window Size 8: F1 Before = 0.7235, F1 After = 0.7611\n",
      "Window Size 9: F1 Before = 0.7235, F1 After = 0.7671\n",
      "Window Size 10: F1 Before = 0.7235, F1 After = 0.7639\n",
      "Window Size 11: F1 Before = 0.7235, F1 After = 0.7483\n",
      "Window Size 12: F1 Before = 0.7235, F1 After = 0.7469\n",
      "Window Size 13: F1 Before = 0.7235, F1 After = 0.7511\n",
      "Window Size 14: F1 Before = 0.7235, F1 After = 0.7481\n",
      "Window Size 15: F1 Before = 0.7235, F1 After = 0.7515\n",
      "Window Size 16: F1 Before = 0.7235, F1 After = 0.7513\n",
      "Window Size 17: F1 Before = 0.7235, F1 After = 0.7533\n",
      "Window Size 18: F1 Before = 0.7235, F1 After = 0.7535\n",
      "Window Size 19: F1 Before = 0.7235, F1 After = 0.7579\n",
      "Window Size 20: F1 Before = 0.7235, F1 After = 0.7607\n",
      "\n",
      "Optimal window size for case_134: 9 with F1 score: 0.7671\n",
      "\n",
      "Processing Surgery: case_136\n",
      "Number of frames in case_136: 2572\n",
      "Constructed 2572 image paths.\n",
      "Starting ensemble predictions...\n",
      "Loaded model 1/3 from models/baseline/regnety_008.pkl.\n"
     ]
    },
    {
     "data": {
      "text/html": [
       "\n",
       "<style>\n",
       "    /* Turns off some styling */\n",
       "    progress {\n",
       "        /* gets rid of default border in Firefox and Opera. */\n",
       "        border: none;\n",
       "        /* Needs to be in here for Safari polyfill so background images work as expected. */\n",
       "        background-size: auto;\n",
       "    }\n",
       "    progress:not([value]), progress:not([value])::-webkit-progress-bar {\n",
       "        background: repeating-linear-gradient(45deg, #7e7e7e, #7e7e7e 10px, #5c5c5c 10px, #5c5c5c 20px);\n",
       "    }\n",
       "    .progress-bar-interrupted, .progress-bar-interrupted::-webkit-progress-bar {\n",
       "        background: #F44336;\n",
       "    }\n",
       "</style>\n"
      ],
      "text/plain": [
       "<IPython.core.display.HTML object>"
      ]
     },
     "metadata": {},
     "output_type": "display_data"
    },
    {
     "data": {
      "text/html": [],
      "text/plain": [
       "<IPython.core.display.HTML object>"
      ]
     },
     "metadata": {},
     "output_type": "display_data"
    },
    {
     "name": "stdout",
     "output_type": "stream",
     "text": [
      "Loaded model 2/3 from models/baseline/convnextv2_tiny.pkl.\n"
     ]
    },
    {
     "data": {
      "text/html": [
       "\n",
       "<style>\n",
       "    /* Turns off some styling */\n",
       "    progress {\n",
       "        /* gets rid of default border in Firefox and Opera. */\n",
       "        border: none;\n",
       "        /* Needs to be in here for Safari polyfill so background images work as expected. */\n",
       "        background-size: auto;\n",
       "    }\n",
       "    progress:not([value]), progress:not([value])::-webkit-progress-bar {\n",
       "        background: repeating-linear-gradient(45deg, #7e7e7e, #7e7e7e 10px, #5c5c5c 10px, #5c5c5c 20px);\n",
       "    }\n",
       "    .progress-bar-interrupted, .progress-bar-interrupted::-webkit-progress-bar {\n",
       "        background: #F44336;\n",
       "    }\n",
       "</style>\n"
      ],
      "text/plain": [
       "<IPython.core.display.HTML object>"
      ]
     },
     "metadata": {},
     "output_type": "display_data"
    },
    {
     "data": {
      "text/html": [],
      "text/plain": [
       "<IPython.core.display.HTML object>"
      ]
     },
     "metadata": {},
     "output_type": "display_data"
    },
    {
     "name": "stdout",
     "output_type": "stream",
     "text": [
      "Loaded model 3/3 from models/baseline/vit_tiny.pkl.\n"
     ]
    },
    {
     "data": {
      "text/html": [
       "\n",
       "<style>\n",
       "    /* Turns off some styling */\n",
       "    progress {\n",
       "        /* gets rid of default border in Firefox and Opera. */\n",
       "        border: none;\n",
       "        /* Needs to be in here for Safari polyfill so background images work as expected. */\n",
       "        background-size: auto;\n",
       "    }\n",
       "    progress:not([value]), progress:not([value])::-webkit-progress-bar {\n",
       "        background: repeating-linear-gradient(45deg, #7e7e7e, #7e7e7e 10px, #5c5c5c 10px, #5c5c5c 20px);\n",
       "    }\n",
       "    .progress-bar-interrupted, .progress-bar-interrupted::-webkit-progress-bar {\n",
       "        background: #F44336;\n",
       "    }\n",
       "</style>\n"
      ],
      "text/plain": [
       "<IPython.core.display.HTML object>"
      ]
     },
     "metadata": {},
     "output_type": "display_data"
    },
    {
     "data": {
      "text/html": [],
      "text/plain": [
       "<IPython.core.display.HTML object>"
      ]
     },
     "metadata": {},
     "output_type": "display_data"
    },
    {
     "name": "stdout",
     "output_type": "stream",
     "text": [
      "Ensemble predictions completed.\n",
      "Decoding predictions completed.\n",
      "Retrieved ground truth labels.\n",
      "\n",
      "Evaluating window sizes for smoothing...\n",
      "\n",
      "Window Size 1: F1 Before = 0.7161, F1 After = 0.7145\n",
      "Window Size 2: F1 Before = 0.7161, F1 After = 0.7173\n",
      "Window Size 3: F1 Before = 0.7161, F1 After = 0.7158\n",
      "Window Size 4: F1 Before = 0.7161, F1 After = 0.7211\n",
      "Window Size 5: F1 Before = 0.7161, F1 After = 0.7198\n",
      "Window Size 6: F1 Before = 0.7161, F1 After = 0.7219\n",
      "Window Size 7: F1 Before = 0.7161, F1 After = 0.7225\n",
      "Window Size 8: F1 Before = 0.7161, F1 After = 0.7245\n",
      "Window Size 9: F1 Before = 0.7161, F1 After = 0.7248\n",
      "Window Size 10: F1 Before = 0.7161, F1 After = 0.7232\n",
      "Window Size 11: F1 Before = 0.7161, F1 After = 0.7264\n",
      "Window Size 12: F1 Before = 0.7161, F1 After = 0.7270\n",
      "Window Size 13: F1 Before = 0.7161, F1 After = 0.7274\n",
      "Window Size 14: F1 Before = 0.7161, F1 After = 0.7263\n",
      "Window Size 15: F1 Before = 0.7161, F1 After = 0.7242\n",
      "Window Size 16: F1 Before = 0.7161, F1 After = 0.7234\n",
      "Window Size 17: F1 Before = 0.7161, F1 After = 0.7229\n",
      "Window Size 18: F1 Before = 0.7161, F1 After = 0.7227\n",
      "Window Size 19: F1 Before = 0.7161, F1 After = 0.7219\n",
      "Window Size 20: F1 Before = 0.7161, F1 After = 0.7205\n",
      "\n",
      "Optimal window size for case_136: 13 with F1 score: 0.7274\n",
      "\n",
      "Processing Surgery: case_151\n",
      "Number of frames in case_151: 2138\n",
      "Constructed 2138 image paths.\n",
      "Starting ensemble predictions...\n",
      "Loaded model 1/3 from models/baseline/regnety_008.pkl.\n"
     ]
    },
    {
     "data": {
      "text/html": [
       "\n",
       "<style>\n",
       "    /* Turns off some styling */\n",
       "    progress {\n",
       "        /* gets rid of default border in Firefox and Opera. */\n",
       "        border: none;\n",
       "        /* Needs to be in here for Safari polyfill so background images work as expected. */\n",
       "        background-size: auto;\n",
       "    }\n",
       "    progress:not([value]), progress:not([value])::-webkit-progress-bar {\n",
       "        background: repeating-linear-gradient(45deg, #7e7e7e, #7e7e7e 10px, #5c5c5c 10px, #5c5c5c 20px);\n",
       "    }\n",
       "    .progress-bar-interrupted, .progress-bar-interrupted::-webkit-progress-bar {\n",
       "        background: #F44336;\n",
       "    }\n",
       "</style>\n"
      ],
      "text/plain": [
       "<IPython.core.display.HTML object>"
      ]
     },
     "metadata": {},
     "output_type": "display_data"
    },
    {
     "data": {
      "text/html": [],
      "text/plain": [
       "<IPython.core.display.HTML object>"
      ]
     },
     "metadata": {},
     "output_type": "display_data"
    },
    {
     "name": "stdout",
     "output_type": "stream",
     "text": [
      "Loaded model 2/3 from models/baseline/convnextv2_tiny.pkl.\n"
     ]
    },
    {
     "data": {
      "text/html": [
       "\n",
       "<style>\n",
       "    /* Turns off some styling */\n",
       "    progress {\n",
       "        /* gets rid of default border in Firefox and Opera. */\n",
       "        border: none;\n",
       "        /* Needs to be in here for Safari polyfill so background images work as expected. */\n",
       "        background-size: auto;\n",
       "    }\n",
       "    progress:not([value]), progress:not([value])::-webkit-progress-bar {\n",
       "        background: repeating-linear-gradient(45deg, #7e7e7e, #7e7e7e 10px, #5c5c5c 10px, #5c5c5c 20px);\n",
       "    }\n",
       "    .progress-bar-interrupted, .progress-bar-interrupted::-webkit-progress-bar {\n",
       "        background: #F44336;\n",
       "    }\n",
       "</style>\n"
      ],
      "text/plain": [
       "<IPython.core.display.HTML object>"
      ]
     },
     "metadata": {},
     "output_type": "display_data"
    },
    {
     "data": {
      "text/html": [],
      "text/plain": [
       "<IPython.core.display.HTML object>"
      ]
     },
     "metadata": {},
     "output_type": "display_data"
    },
    {
     "name": "stdout",
     "output_type": "stream",
     "text": [
      "Loaded model 3/3 from models/baseline/vit_tiny.pkl.\n"
     ]
    },
    {
     "data": {
      "text/html": [
       "\n",
       "<style>\n",
       "    /* Turns off some styling */\n",
       "    progress {\n",
       "        /* gets rid of default border in Firefox and Opera. */\n",
       "        border: none;\n",
       "        /* Needs to be in here for Safari polyfill so background images work as expected. */\n",
       "        background-size: auto;\n",
       "    }\n",
       "    progress:not([value]), progress:not([value])::-webkit-progress-bar {\n",
       "        background: repeating-linear-gradient(45deg, #7e7e7e, #7e7e7e 10px, #5c5c5c 10px, #5c5c5c 20px);\n",
       "    }\n",
       "    .progress-bar-interrupted, .progress-bar-interrupted::-webkit-progress-bar {\n",
       "        background: #F44336;\n",
       "    }\n",
       "</style>\n"
      ],
      "text/plain": [
       "<IPython.core.display.HTML object>"
      ]
     },
     "metadata": {},
     "output_type": "display_data"
    },
    {
     "data": {
      "text/html": [],
      "text/plain": [
       "<IPython.core.display.HTML object>"
      ]
     },
     "metadata": {},
     "output_type": "display_data"
    },
    {
     "name": "stdout",
     "output_type": "stream",
     "text": [
      "Ensemble predictions completed.\n",
      "Decoding predictions completed.\n",
      "Retrieved ground truth labels.\n",
      "\n",
      "Evaluating window sizes for smoothing...\n",
      "\n",
      "Window Size 1: F1 Before = 0.7675, F1 After = 0.7758\n",
      "Window Size 2: F1 Before = 0.7675, F1 After = 0.7820\n",
      "Window Size 3: F1 Before = 0.7675, F1 After = 0.8930\n",
      "Window Size 4: F1 Before = 0.7675, F1 After = 0.8949\n",
      "Window Size 5: F1 Before = 0.7675, F1 After = 0.8989\n",
      "Window Size 6: F1 Before = 0.7675, F1 After = 0.8992\n",
      "Window Size 7: F1 Before = 0.7675, F1 After = 0.8979\n",
      "Window Size 8: F1 Before = 0.7675, F1 After = 0.9191\n",
      "Window Size 9: F1 Before = 0.7675, F1 After = 0.9355\n",
      "Window Size 10: F1 Before = 0.7675, F1 After = 0.9145\n",
      "Window Size 11: F1 Before = 0.7675, F1 After = 0.9119\n",
      "Window Size 12: F1 Before = 0.7675, F1 After = 0.9080\n",
      "Window Size 13: F1 Before = 0.7675, F1 After = 0.9067\n",
      "Window Size 14: F1 Before = 0.7675, F1 After = 0.9110\n",
      "Window Size 15: F1 Before = 0.7675, F1 After = 0.9117\n",
      "Window Size 16: F1 Before = 0.7675, F1 After = 0.9071\n",
      "Window Size 17: F1 Before = 0.7675, F1 After = 0.9058\n",
      "Window Size 18: F1 Before = 0.7675, F1 After = 0.9078\n",
      "Window Size 19: F1 Before = 0.7675, F1 After = 0.9075\n",
      "Window Size 20: F1 Before = 0.7675, F1 After = 0.9069\n",
      "\n",
      "Optimal window size for case_151: 9 with F1 score: 0.9355\n",
      "\n",
      "Processed 34 surgeries successfully.\n",
      "\n",
      "Sample Results:\n",
      "    surgery  best_window_size  best_f1_score\n",
      "0  case_002                11       0.587435\n",
      "1  case_011                15       0.286157\n",
      "2  case_015                 3       0.804135\n",
      "3  case_023                18       0.842248\n",
      "4  case_025                 2       0.798832\n",
      "\n",
      "Statistical Summary of Optimal Window Sizes:\n",
      "Mean Window Size: 10.41\n",
      "Median Window Size: 9.5\n",
      "Mode Window Size: 5\n",
      "Standard Deviation: 6.48\n",
      "\n",
      "Distribution of Optimal Window Sizes:\n",
      "best_window_size\n",
      "1     3\n",
      "2     2\n",
      "3     2\n",
      "5     4\n",
      "8     4\n",
      "9     2\n",
      "10    1\n",
      "11    3\n",
      "13    1\n",
      "15    3\n",
      "18    3\n",
      "19    4\n",
      "20    2\n",
      "Name: count, dtype: int64\n"
     ]
    }
   ],
   "source": [
    "# --------------------- MAIN EXPERIMENTATION WORKFLOW ---------------------\n",
    "\n",
    "# --------------------- STEP 1: SELECT ALL SURGERIES ---------------------\n",
    "\n",
    "# Get all unique surgeries from the validation set\n",
    "valid_surgeries = images_df[images_df['valid'] == True]['case_folder'].unique()\n",
    "print(f'\\nFound {len(valid_surgeries)} unique surgeries in the validation set.')\n",
    "\n",
    "if len(valid_surgeries) == 0:\n",
    "    raise ValueError(\"No valid surgeries found in the validation set.\")\n",
    "\n",
    "# Initialize a list to store results\n",
    "results = []\n",
    "\n",
    "# Initialize a dictionary to store improvements per window size\n",
    "# Key: window_size, Value: list of improvements for each surgery\n",
    "window_size_improvements = {ws: [] for ws in range(1, 21)}\n",
    "\n",
    "# --------------------- STEP 2: PROCESS EACH SURGERY ---------------------\n",
    "\n",
    "for surgery in valid_surgeries:\n",
    "    print(f'\\nProcessing Surgery: {surgery}')\n",
    "    try:\n",
    "        # Filter and sort frames from the selected surgery\n",
    "        surgery_frames_df = get_sorted_surgery_frames(images_df, surgery)\n",
    "        num_frames = len(surgery_frames_df)\n",
    "        print(f'Number of frames in {surgery}: {num_frames}')\n",
    "        \n",
    "        if num_frames == 0:\n",
    "            print(f'No frames found for surgery {surgery}. Skipping.')\n",
    "            continue\n",
    "        \n",
    "        # Construct full image file paths using the provided get_image function\n",
    "        image_files = [Path(get_image(r)) for _, r in surgery_frames_df.iterrows()]\n",
    "        print(f'Constructed {len(image_files)} image paths.')\n",
    "        \n",
    "        # --------------------- VERIFY IMAGE FILES EXISTENCE (OPTIONAL) ---------------------\n",
    "        \n",
    "        # Optional: Verify that image files exist to prevent prediction errors\n",
    "        missing_files = [str(img) for img in image_files if not img.exists()]\n",
    "        if missing_files:\n",
    "            print(f'Warning: {len(missing_files)} image files are missing for surgery {surgery}.')\n",
    "            # Handle missing files as needed, e.g., remove from list\n",
    "            # For simplicity, we'll remove missing files\n",
    "            image_files = [img for img in image_files if img.exists()]\n",
    "            surgery_frames_df = surgery_frames_df[surgery_frames_df['filename'].isin([img.stem for img in image_files])]\n",
    "            print(f'Reduced to {len(image_files)} existing image paths after removing missing files.')\n",
    "        \n",
    "        if not image_files:\n",
    "            print(f'All image files missing for surgery {surgery}. Skipping.')\n",
    "            continue\n",
    "        \n",
    "        # --------------------- PERFORM ENSEMBLE PREDICTIONS ---------------------\n",
    "        \n",
    "        print(\"Starting ensemble predictions...\")\n",
    "        avg_raw_preds, vocab = ensemble_predict(models_path, image_files, cpu=False)\n",
    "        print(\"Ensemble predictions completed.\")\n",
    "        \n",
    "        # --------------------- DECODE PREDICTIONS ---------------------\n",
    "        \n",
    "        predicted_classes = decode_predictions(avg_raw_preds, vocab)\n",
    "        print(\"Decoding predictions completed.\")\n",
    "        \n",
    "        # --------------------- GET GROUND TRUTH LABELS ---------------------\n",
    "        \n",
    "        true_labels = surgery_frames_df['task_label'].tolist()\n",
    "        print(\"Retrieved ground truth labels.\")\n",
    "        \n",
    "        # --------------------- EVALUATE WINDOW SIZES ---------------------\n",
    "        \n",
    "        # Define the range of window sizes to test (1 to 20)\n",
    "        window_sizes = range(1, 21)\n",
    "        \n",
    "        print(\"\\nEvaluating window sizes for smoothing...\\n\")\n",
    "        f1_before, f1_after = evaluate_window_sizes(true_labels, predicted_classes, window_sizes, vocab)\n",
    "        \n",
    "        # --------------------- CALCULATE IMPROVEMENTS ---------------------\n",
    "        \n",
    "        # Calculate improvement for each window size\n",
    "        for ws, f1_a in zip(window_sizes, f1_after):\n",
    "            improvement = f1_a - f1_before[0]\n",
    "            window_size_improvements[ws].append(improvement)\n",
    "        \n",
    "        # --------------------- IDENTIFY THE OPTIMAL WINDOW SIZE FOR THIS SURGERY ---------------------\n",
    "        \n",
    "        # Find the window size with the highest F1 score after smoothing\n",
    "        best_ws_index = np.argmax(f1_after)\n",
    "        best_ws = window_sizes[best_ws_index]\n",
    "        best_f1 = f1_after[best_ws_index]\n",
    "        \n",
    "        print(f'\\nOptimal window size for {surgery}: {best_ws} with F1 score: {best_f1:.4f}')\n",
    "        \n",
    "        # Append the result to the list\n",
    "        results.append({\n",
    "            'surgery': surgery,\n",
    "            'best_window_size': best_ws,\n",
    "            'best_f1_score': best_f1\n",
    "        })\n",
    "        \n",
    "    except Exception as e:\n",
    "        print(f\"An error occurred while processing surgery {surgery}: {e}\")\n",
    "        # Optionally, log the error and continue\n",
    "        continue\n",
    "\n",
    "# --------------------- STEP 3: AGGREGATE RESULTS ---------------------\n",
    "\n",
    "if not results:\n",
    "    raise ValueError(\"No results were recorded. Please check the data and models.\")\n",
    "\n",
    "# Convert results to DataFrame\n",
    "results_df = pd.DataFrame(results)\n",
    "print(f'\\nProcessed {len(results_df)} surgeries successfully.')\n",
    "\n",
    "# Display the first few results\n",
    "print(\"\\nSample Results:\")\n",
    "print(results_df.head())\n",
    "\n",
    "# --------------------- STEP 4: ANALYZE OPTIMAL WINDOW SIZES ---------------------\n",
    "\n",
    "# Statistical summaries\n",
    "mean_ws = results_df['best_window_size'].mean()\n",
    "median_ws = results_df['best_window_size'].median()\n",
    "mode_ws = results_df['best_window_size'].mode()[0]\n",
    "std_ws = results_df['best_window_size'].std()\n",
    "\n",
    "print(\"\\nStatistical Summary of Optimal Window Sizes:\")\n",
    "print(f\"Mean Window Size: {mean_ws:.2f}\")\n",
    "print(f\"Median Window Size: {median_ws}\")\n",
    "print(f\"Mode Window Size: {mode_ws}\")\n",
    "print(f\"Standard Deviation: {std_ws:.2f}\")\n",
    "\n",
    "# Frequency distribution\n",
    "window_size_counts = results_df['best_window_size'].value_counts().sort_index()\n",
    "print(\"\\nDistribution of Optimal Window Sizes:\")\n",
    "print(window_size_counts)"
   ]
  },
  {
   "cell_type": "code",
   "execution_count": null,
   "id": "645fcc8e-c2d2-47f8-b758-804f976093b2",
   "metadata": {
    "tags": []
   },
   "outputs": [
    {
     "name": "stdout",
     "output_type": "stream",
     "text": [
      "\n",
      "Average Improvement in F1 Score per Window Size:\n",
      "1     0.022111\n",
      "2     0.029731\n",
      "3     0.041724\n",
      "4     0.046078\n",
      "5     0.051637\n",
      "6     0.052305\n",
      "7     0.059956\n",
      "8     0.062949\n",
      "9     0.061659\n",
      "10    0.061438\n",
      "11    0.057497\n",
      "12    0.055322\n",
      "13    0.053647\n",
      "14    0.061574\n",
      "15    0.057315\n",
      "16    0.057181\n",
      "17    0.055324\n",
      "18    0.050689\n",
      "19    0.053303\n",
      "20    0.052201\n",
      "dtype: float64\n",
      "\n",
      "The window size with the highest average improvement is 8 with an average F1 improvement of 0.0629.\n"
     ]
    }
   ],
   "source": [
    "# --------------------- STEP 5: IDENTIFY THE WINDOW SIZE WITH HIGHEST AVERAGE IMPROVEMENT ---------------------\n",
    "\n",
    "# Calculate average improvement per window size\n",
    "average_improvements = {}\n",
    "for ws, improvements in window_size_improvements.items():\n",
    "    if improvements:\n",
    "        average_improvements[ws] = np.mean(improvements)\n",
    "    else:\n",
    "        average_improvements[ws] = np.nan  # Handle cases with no data\n",
    "\n",
    "# Convert to Series for easy handling\n",
    "average_improvements_series = pd.Series(average_improvements)\n",
    "\n",
    "print(\"\\nAverage Improvement in F1 Score per Window Size:\")\n",
    "print(average_improvements_series)\n",
    "\n",
    "# Find the window size with the highest average improvement\n",
    "best_avg_ws = average_improvements_series.idxmax()\n",
    "best_avg_improvement = average_improvements_series.max()\n",
    "\n",
    "print(f'\\nThe window size with the highest average improvement is {best_avg_ws} with an average F1 improvement of {best_avg_improvement:.4f}.')"
   ]
  },
  {
   "cell_type": "code",
   "execution_count": null,
   "id": "4b7c24e6-611c-47fd-9f0e-c74ed41b1cb2",
   "metadata": {
    "tags": []
   },
   "outputs": [
    {
     "data": {
      "image/png": "[encoded data removed]",
      "text/plain": [
       "<Figure size 1200x600 with 1 Axes>"
      ]
     },
     "metadata": {},
     "output_type": "display_data"
    },
    {
     "data": {
      "image/png": "[encoded data removed]",
      "text/plain": [
       "<Figure size 800x600 with 1 Axes>"
      ]
     },
     "metadata": {},
     "output_type": "display_data"
    }
   ],
   "source": [
    "# --------------------- STEP 6: VISUALIZE THE DISTRIBUTION OF OPTIMAL WINDOW SIZES ---------------------\n",
    "\n",
    "# Histogram\n",
    "plt.figure(figsize=(12, 6))\n",
    "plt.hist(results_df['best_window_size'], bins=range(1, max(results_df['best_window_size']) + 2), color='skyblue', edgecolor='black')\n",
    "plt.xlabel('Window Size')\n",
    "plt.ylabel('Number of Surgeries')\n",
    "plt.title('Histogram of Optimal Window Sizes Across Surgeries')\n",
    "plt.xticks(range(1, max(results_df['best_window_size']) + 1))\n",
    "plt.grid(axis='y')\n",
    "plt.show()\n",
    "\n",
    "# Boxplot\n",
    "plt.figure(figsize=(8, 6))\n",
    "plt.boxplot(results_df['best_window_size'], vert=False)\n",
    "plt.xlabel('Window Size')\n",
    "plt.title('Boxplot of Optimal Window Sizes Across Surgeries')\n",
    "plt.show()"
   ]
  },
  {
   "cell_type": "code",
   "execution_count": 16,
   "id": "6f76e826-4c28-4b0d-8640-97f52c75bd1e",
   "metadata": {
    "tags": []
   },
   "outputs": [],
   "source": [
    "import matplotlib.pyplot as plt\n",
    "from matplotlib.colors import ListedColormap, BoundaryNorm\n",
    "from matplotlib.patches import Patch\n",
    "import random\n",
    "\n",
    "best_avg_ws = 8\n",
    "\n",
    "def visualize_surgery_predictions(images_df: pd.DataFrame, models_path: List[Path], dataroot_path: Path, window_size: int = 15):\n",
    "    \"\"\"\n",
    "    Randomly selects a surgery from the validation set and visualizes the predictions from each model,\n",
    "    ensemble, and smoothed predictions, along with the ground truth.\n",
    "\n",
    "    The visualization consists of a horizontal bar chart where each row represents:\n",
    "    - GT (Ground Truth)\n",
    "    - Each Model's Predictions\n",
    "    - Ensemble Predictions\n",
    "    - Prediction Correction\n",
    "\n",
    "    Each bar segment represents a continuous range of frames with the same predicted task label,\n",
    "    color-coded accordingly.\n",
    "\n",
    "    Args:\n",
    "        images_df (pd.DataFrame): DataFrame containing image information.\n",
    "        models_path (List[Path]): List of paths to the ensemble models (.pkl files).\n",
    "        dataroot_path (Path): Path to the data root directory.\n",
    "        window_size (int): Window size for prediction smoothing.\n",
    "\n",
    "    Returns:\n",
    "        None\n",
    "    \"\"\"\n",
    "    # Step 1: Select a random surgery from the validation set\n",
    "    valid_surgeries = images_df[images_df['valid'] == True]['case_folder'].unique()\n",
    "\n",
    "    if len(valid_surgeries) == 0:\n",
    "        raise ValueError(\"No valid surgeries found in the validation set.\")\n",
    "\n",
    "    random_surgery = random.choice(valid_surgeries)\n",
    "    print(f'\\nSelected Surgery for Visualization: {random_surgery}')\n",
    "\n",
    "    # Step 2: Filter and sort frames\n",
    "    try:\n",
    "        surgery_frames_df = get_sorted_surgery_frames(images_df, random_surgery)\n",
    "    except ValueError as ve:\n",
    "        print(f\"Error during filtering/sorting: {ve}\")\n",
    "        return\n",
    "\n",
    "    num_frames = len(surgery_frames_df)\n",
    "    print(f'Number of frames in {random_surgery}: {num_frames}')\n",
    "\n",
    "    if num_frames == 0:\n",
    "        print(f'No frames found for surgery {random_surgery}.')\n",
    "        return\n",
    "\n",
    "    # Step 3: Construct full image paths\n",
    "    image_files = [Path(get_image(r)) for _, r in surgery_frames_df.iterrows()]\n",
    "\n",
    "    # Verify image existence\n",
    "    missing_files = [str(img) for img in image_files if not img.exists()]\n",
    "    if missing_files:\n",
    "        print(f'Warning: {len(missing_files)} image files are missing for surgery {random_surgery}.')\n",
    "        # Remove missing files\n",
    "        image_files = [img for img in image_files if img.exists()]\n",
    "        surgery_frames_df = surgery_frames_df[surgery_frames_df['filename'].isin([img.stem for img in image_files])]\n",
    "        print(f'Reduced to {len(image_files)} existing image paths after removing missing files.')\n",
    "\n",
    "    if not image_files:\n",
    "        print(f'All image files missing for surgery {random_surgery}.')\n",
    "        return\n",
    "\n",
    "    # Step 4: Get ground truth labels\n",
    "    true_labels = surgery_frames_df['task_label'].tolist()\n",
    "\n",
    "    # Step 5: Define vocabulary and color mapping\n",
    "    # Load the first model to get vocab\n",
    "    first_model_path = models_path[0]\n",
    "    try:\n",
    "        first_learner = load_learner(first_model_path, cpu=False)\n",
    "    except Exception as e:\n",
    "        print(f\"Error loading first model at {first_model_path}: {e}\")\n",
    "        return\n",
    "    vocab = first_learner.dls.vocab\n",
    "    del first_learner\n",
    "    torch.cuda.empty_cache()\n",
    "\n",
    "    # Define color mapping\n",
    "    num_classes = len(vocab)\n",
    "    cmap = plt.get_cmap('tab20')  # Up to 20 distinct colors\n",
    "    if num_classes > 20:\n",
    "        cmap = plt.get_cmap('hsv')\n",
    "    colors = {label: cmap(i % cmap.N) for i, label in enumerate(vocab)}\n",
    "\n",
    "    # Step 6: Initialize predictions dictionary\n",
    "    model_predictions = {}\n",
    "    all_raw_preds = []  # To store raw predictions for ensemble\n",
    "    model_names = []\n",
    "\n",
    "    # Step 7: Perform predictions for each model\n",
    "    for idx, model_path in enumerate(models_path):\n",
    "        model_name = model_path.stem  # Use the filename without extension\n",
    "        model_names.append(model_name)\n",
    "        try:\n",
    "            learner = load_learner(model_path, cpu=False)\n",
    "            print(f\"Loaded model {model_name} ({idx+1}/{len(models_path)}) from {model_path}.\")\n",
    "        except Exception as e:\n",
    "            print(f\"Error loading model at {model_path}: {e}\")\n",
    "            continue  # Skip models that cannot be loaded\n",
    "\n",
    "        # Create test_dl with bs=128 and num_workers=8\n",
    "        test_dl = learner.dls.test_dl(image_files, bs=128, num_workers=8)\n",
    "\n",
    "        try:\n",
    "            with torch.no_grad():\n",
    "                raw_preds, _ = learner.get_preds(dl=test_dl)\n",
    "            preds = decode_predictions(raw_preds.cpu(), vocab)\n",
    "            model_predictions[model_name] = preds\n",
    "            all_raw_preds.append(raw_preds.cpu())\n",
    "        except Exception as e:\n",
    "            print(f\"Error during prediction with model at {model_path}: {e}\")\n",
    "            continue  # Skip models that cannot predict\n",
    "\n",
    "        # Clean up\n",
    "        del learner\n",
    "        torch.cuda.empty_cache()\n",
    "\n",
    "    # Check if any predictions were made\n",
    "    if not all_raw_preds:\n",
    "        print(\"No valid predictions were made by any model.\")\n",
    "        return\n",
    "\n",
    "    # Step 8: Perform ensemble prediction by averaging raw predictions\n",
    "    print(\"Performing ensemble prediction by averaging raw predictions.\")\n",
    "    avg_raw_preds = torch.stack(all_raw_preds).mean(0)\n",
    "    ensemble_pred_labels = decode_predictions(avg_raw_preds, vocab)\n",
    "\n",
    "    # Step 9: Apply smoothing\n",
    "    print(\"Applying smoothing to ensemble predictions.\")\n",
    "    smoothed_pred_labels = smooth_predictions_with_neighbors(ensemble_pred_labels, window_size=window_size)\n",
    "\n",
    "    # Step 10: Prepare data for plotting\n",
    "    # Rows: GT, Model1, Model2, ..., Ensemble, Prediction Correction\n",
    "    rows = ['Ground Truth'] + model_names + ['Ensemble', 'Pred Correction']\n",
    "    data_rows = []\n",
    "\n",
    "    # Ground Truth\n",
    "    data_rows.append(true_labels)\n",
    "\n",
    "    # Models\n",
    "    for model_name in model_names:\n",
    "        data_rows.append(model_predictions[model_name])\n",
    "\n",
    "    # Ensemble\n",
    "    data_rows.append(ensemble_pred_labels)\n",
    "\n",
    "    # Smoothed Predictions\n",
    "    data_rows.append(smoothed_pred_labels)\n",
    "\n",
    "    # Step 11: Convert labels to integers for plotting\n",
    "    label_to_int = {label: idx for idx, label in enumerate(vocab)}\n",
    "    data_matrix = []\n",
    "    for row in data_rows:\n",
    "        row_int = [label_to_int[label] for label in row]\n",
    "        data_matrix.append(row_int)\n",
    "\n",
    "    # Convert data_matrix to numpy array\n",
    "    data_matrix = np.array(data_matrix)\n",
    "\n",
    "    # Step 12: No blank rows between data rows\n",
    "    spaced_data_matrix = data_matrix\n",
    "    spaced_rows = rows\n",
    "\n",
    "    # Step 13: No need to reverse the data_matrix since GT is already at the top\n",
    "    # Step 14: Define colormap without 'N/A' and 'blank'\n",
    "    cmap_colors = [colors[label] for label in vocab]\n",
    "    cmap_with_missing = ListedColormap(cmap_colors)\n",
    "\n",
    "    # Define bounds and norm\n",
    "    bounds = list(range(len(vocab) + 1))  # 0 to len(vocab)\n",
    "    norm = BoundaryNorm(bounds, cmap_with_missing.N)\n",
    "\n",
    "    # Step 15: Set font sizes\n",
    "    plt.rcParams.update({'font.size': 14})\n",
    "\n",
    "    # Step 16: Create the plot with adjusted figsize to accommodate all frames\n",
    "    width_per_frame = 0.005  # inches per frame\n",
    "    desired_width = num_frames * width_per_frame\n",
    "    min_width = 20  # minimum width in inches\n",
    "    max_width = 100  # maximum width in inches\n",
    "    desired_width = max(min_width, desired_width)\n",
    "    desired_width = min(desired_width, max_width)\n",
    "    desired_height = len(spaced_rows) * 0.6\n",
    "\n",
    "    plt.figure(figsize=(desired_width, desired_height))\n",
    "\n",
    "    # Assign y positions\n",
    "    y_positions = np.arange(len(spaced_rows))\n",
    "\n",
    "    # Function to identify segments of consecutive labels\n",
    "    def get_label_segments(labels):\n",
    "        segments = []\n",
    "        if len(labels) == 0:\n",
    "            return segments\n",
    "        current_label = labels[0]\n",
    "        start = 0\n",
    "        for i in range(1, len(labels)):\n",
    "            if labels[i] != current_label:\n",
    "                segments.append((start, i-1, current_label))\n",
    "                start = i\n",
    "                current_label = labels[i]\n",
    "        segments.append((start, len(labels)-1, current_label))\n",
    "        return segments\n",
    "\n",
    "    # Step 17: Plot each row using barh\n",
    "    for i, row in enumerate(spaced_data_matrix):\n",
    "        y = y_positions[i]\n",
    "        segments = get_label_segments(row)\n",
    "        for seg in segments:\n",
    "            start, end, label_idx = seg\n",
    "            color = cmap_with_missing.colors[label_idx]\n",
    "            width = end - start + 1\n",
    "            bar_height = 0.95  # Adjusted bar height for better visibility\n",
    "            plt.barh(y, width, left=start, height=bar_height, color=color, edgecolor='none')\n",
    "\n",
    "    # Step 18: Set y-ticks\n",
    "    plt.yticks(ticks=y_positions, labels=spaced_rows)\n",
    "\n",
    "    # Step 19: Set x-ticks at multiples of 100\n",
    "    x_tick_step = 50\n",
    "    x_ticks = np.arange(0, num_frames + x_tick_step, x_tick_step)\n",
    "    plt.xticks(ticks=x_ticks, labels=x_ticks, rotation=90)\n",
    "\n",
    "    # Step 20: Create custom legend\n",
    "    legend_elements = [Patch(facecolor=colors[label], edgecolor='k', label=label) for label in vocab]\n",
    "\n",
    "    # Move legend to the bottom\n",
    "    plt.legend(handles=legend_elements, bbox_to_anchor=(0.5, -0.15), loc='upper center', borderaxespad=0., ncol=5)\n",
    "\n",
    "    # Step 21: Adjust the figure layout and legend positioning\n",
    "    # Increase the bottom margin to make room for the legend and x-axis labels\n",
    "    plt.subplots_adjust(bottom=0.25)  # Adjust this value as needed (e.g., 0.3 or 0.35)\n",
    "\n",
    "    # Move legend to the bottom, further away from the plot\n",
    "    plt.legend(handles=legend_elements, bbox_to_anchor=(0.5, -0.25), loc='upper center', borderaxespad=0., ncol=5)\n",
    "\n",
    "    # Step 22: Add labels and title\n",
    "    plt.xlabel('Frame Number')\n",
    "    plt.title(f'Prediction Visualization for {random_surgery}')\n",
    "\n",
    "    # Step 23: Save the plot to a file with higher DPI for better clarity\n",
    "    output_path = Path(f\"{random_surgery}_prediction_visualization.png\")\n",
    "    plt.savefig(output_path, dpi=600, bbox_inches='tight')\n",
    "    print(f\"Visualization saved to {output_path}\")\n",
    "\n",
    "    # Step 24: Display the plot\n",
    "    plt.show()"
   ]
  },
  {
   "cell_type": "code",
   "execution_count": 17,
   "id": "c801fe5a-576a-4367-8b7e-c1652fb760f7",
   "metadata": {
    "tags": []
   },
   "outputs": [
    {
     "name": "stdout",
     "output_type": "stream",
     "text": [
      "\n",
      "Selected Surgery for Visualization: case_129\n",
      "Number of frames in case_129: 2181\n",
      "Loaded model regnety_008 (1/3) from models/baseline/regnety_008.pkl.\n"
     ]
    },
    {
     "data": {
      "text/html": [
       "\n",
       "<style>\n",
       "    /* Turns off some styling */\n",
       "    progress {\n",
       "        /* gets rid of default border in Firefox and Opera. */\n",
       "        border: none;\n",
       "        /* Needs to be in here for Safari polyfill so background images work as expected. */\n",
       "        background-size: auto;\n",
       "    }\n",
       "    progress:not([value]), progress:not([value])::-webkit-progress-bar {\n",
       "        background: repeating-linear-gradient(45deg, #7e7e7e, #7e7e7e 10px, #5c5c5c 10px, #5c5c5c 20px);\n",
       "    }\n",
       "    .progress-bar-interrupted, .progress-bar-interrupted::-webkit-progress-bar {\n",
       "        background: #F44336;\n",
       "    }\n",
       "</style>\n"
      ],
      "text/plain": [
       "<IPython.core.display.HTML object>"
      ]
     },
     "metadata": {},
     "output_type": "display_data"
    },
    {
     "data": {
      "text/html": [],
      "text/plain": [
       "<IPython.core.display.HTML object>"
      ]
     },
     "metadata": {},
     "output_type": "display_data"
    },
    {
     "name": "stdout",
     "output_type": "stream",
     "text": [
      "Loaded model convnextv2_tiny (2/3) from models/baseline/convnextv2_tiny.pkl.\n"
     ]
    },
    {
     "data": {
      "text/html": [
       "\n",
       "<style>\n",
       "    /* Turns off some styling */\n",
       "    progress {\n",
       "        /* gets rid of default border in Firefox and Opera. */\n",
       "        border: none;\n",
       "        /* Needs to be in here for Safari polyfill so background images work as expected. */\n",
       "        background-size: auto;\n",
       "    }\n",
       "    progress:not([value]), progress:not([value])::-webkit-progress-bar {\n",
       "        background: repeating-linear-gradient(45deg, #7e7e7e, #7e7e7e 10px, #5c5c5c 10px, #5c5c5c 20px);\n",
       "    }\n",
       "    .progress-bar-interrupted, .progress-bar-interrupted::-webkit-progress-bar {\n",
       "        background: #F44336;\n",
       "    }\n",
       "</style>\n"
      ],
      "text/plain": [
       "<IPython.core.display.HTML object>"
      ]
     },
     "metadata": {},
     "output_type": "display_data"
    },
    {
     "data": {
      "text/html": [],
      "text/plain": [
       "<IPython.core.display.HTML object>"
      ]
     },
     "metadata": {},
     "output_type": "display_data"
    },
    {
     "name": "stdout",
     "output_type": "stream",
     "text": [
      "Loaded model vit_tiny (3/3) from models/baseline/vit_tiny.pkl.\n"
     ]
    },
    {
     "data": {
      "text/html": [
       "\n",
       "<style>\n",
       "    /* Turns off some styling */\n",
       "    progress {\n",
       "        /* gets rid of default border in Firefox and Opera. */\n",
       "        border: none;\n",
       "        /* Needs to be in here for Safari polyfill so background images work as expected. */\n",
       "        background-size: auto;\n",
       "    }\n",
       "    progress:not([value]), progress:not([value])::-webkit-progress-bar {\n",
       "        background: repeating-linear-gradient(45deg, #7e7e7e, #7e7e7e 10px, #5c5c5c 10px, #5c5c5c 20px);\n",
       "    }\n",
       "    .progress-bar-interrupted, .progress-bar-interrupted::-webkit-progress-bar {\n",
       "        background: #F44336;\n",
       "    }\n",
       "</style>\n"
      ],
      "text/plain": [
       "<IPython.core.display.HTML object>"
      ]
     },
     "metadata": {},
     "output_type": "display_data"
    },
    {
     "data": {
      "text/html": [],
      "text/plain": [
       "<IPython.core.display.HTML object>"
      ]
     },
     "metadata": {},
     "output_type": "display_data"
    },
    {
     "name": "stdout",
     "output_type": "stream",
     "text": [
      "Performing ensemble prediction by averaging raw predictions.\n",
      "Applying smoothing to ensemble predictions.\n",
      "Visualization saved to case_129_prediction_visualization.png\n"
     ]
    },
    {
     "data": {
      "image/png": "[encoded data removed]",
      "text/plain": [
       "<Figure size 2000x360 with 1 Axes>"
      ]
     },
     "metadata": {},
     "output_type": "display_data"
    }
   ],
   "source": [
    "visualize_surgery_predictions(images_df, models_path, dataroot_path, window_size=best_avg_ws)"
   ]
  },
  {
   "cell_type": "code",
   "execution_count": null,
   "id": "7829e0e8-3078-4b60-8f63-751115df5c6c",
   "metadata": {},
   "outputs": [],
   "source": []
  },
  {
   "cell_type": "code",
   "execution_count": null,
   "id": "9562a852-2c5d-4def-89b9-e9838c9edd47",
   "metadata": {},
   "outputs": [],
   "source": []
  }
 ],
 "metadata": {
  "kernelspec": {
   "display_name": "Python 3 (ipykernel)",
   "language": "python",
   "name": "python3"
  },
  "language_info": {
   "codemirror_mode": {
    "name": "ipython",
    "version": 3
   },
   "file_extension": ".py",
   "mimetype": "text/x-python",
   "name": "python",
   "nbconvert_exporter": "python",
   "pygments_lexer": "ipython3",
   "version": "3.12.2"
  }
 },
 "nbformat": 4,
 "nbformat_minor": 5
}
